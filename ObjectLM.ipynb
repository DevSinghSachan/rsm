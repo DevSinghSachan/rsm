{
 "metadata": {
  "name": "",
  "signature": "sha256:49f497f596bb420d02ce36e5b4cd8688c02fd2abf7f359575281e88c4bfc87a6"
 },
 "nbformat": 3,
 "nbformat_minor": 0,
 "worksheets": [
  {
   "cells": [
    {
     "cell_type": "code",
     "collapsed": false,
     "input": [
      "%load_ext cythonmagic\n",
      "%load_ext autoreload\n",
      "%matplotlib inline\n",
      "%autoreload 2\n",
      "import numpy as np\n",
      "import gzip, pickle\n",
      "from collections import OrderedDict\n",
      "from word2vec_extended import Word2VecExtended\n",
      "from IPython.display import clear_output\n",
      "import sys\n",
      "sys.path.append(\"/Users/jonathanraiman/Desktop/Coding/language_modeling/\")\n",
      "from objectlm import ObjectLM, CategoriesConverter, DatasetGenerator\n",
      "lmsenti = Word2VecExtended.load(\"/Users/jonathanraiman/Desktop/Coding/language_modeling/saves/kid_model_30_oov_senti\")"
     ],
     "language": "python",
     "metadata": {},
     "outputs": [],
     "prompt_number": 1
    },
    {
     "cell_type": "markdown",
     "metadata": {},
     "source": [
      "However there is a speedup using Cython (and it is even larger if we do not allocate extra memory, and write directly to the objects we want):"
     ]
    },
    {
     "cell_type": "code",
     "collapsed": false,
     "input": [
      "%timeit using_theano()"
     ],
     "language": "python",
     "metadata": {},
     "outputs": [
      {
       "output_type": "stream",
       "stream": "stdout",
       "text": [
        "1000 loops, best of 3: 941 \u00b5s per loop\n"
       ]
      }
     ],
     "prompt_number": 271
    },
    {
     "cell_type": "code",
     "collapsed": false,
     "input": [
      "%timeit using_cython()"
     ],
     "language": "python",
     "metadata": {},
     "outputs": [
      {
       "output_type": "stream",
       "stream": "stdout",
       "text": [
        "1000 loops, best of 3: 282 \u00b5s per loop\n"
       ]
      }
     ],
     "prompt_number": 67
    },
    {
     "cell_type": "code",
     "collapsed": false,
     "input": [
      "%timeit using_numpy()"
     ],
     "language": "python",
     "metadata": {},
     "outputs": [
      {
       "output_type": "stream",
       "stream": "stdout",
       "text": [
        "1000 loops, best of 3: 859 \u00b5s per loop\n"
       ]
      }
     ],
     "prompt_number": 68
    },
    {
     "cell_type": "markdown",
     "metadata": {},
     "source": [
      "### Get a dataset of restaurants\n",
      "\n",
      "Either get the data from mongo:"
     ]
    },
    {
     "cell_type": "code",
     "collapsed": false,
     "input": [
      "from utils import connect_to_database, get_some_restaurants\n",
      "connect_to_database(database_name = 'yelp')\n",
      "max_el = 10000\n",
      "texts, texts_data = get_some_restaurants(max_el, min_words = 10) # be as large as a single window.\n",
      "with gzip.open(\"saves/saved_texts.gz\", 'wb') as file:\n",
      "    pickle.dump((texts, texts_data), file, 1)"
     ],
     "language": "python",
     "metadata": {},
     "outputs": []
    },
    {
     "cell_type": "markdown",
     "metadata": {},
     "source": [
      "or load it from the drive:"
     ]
    },
    {
     "cell_type": "code",
     "collapsed": false,
     "input": [
      "file = gzip.open(\"saves/saved_texts.gz\", 'r')\n",
      "texts, texts_data = pickle.load(file)\n",
      "file.close()"
     ],
     "language": "python",
     "metadata": {},
     "outputs": [],
     "prompt_number": 2
    },
    {
     "cell_type": "markdown",
     "metadata": {},
     "source": [
      "The model can then be built by discovering which labels are needed (pricing, rating, and categories in this case), and from this data we build the `ObjectLM` model:"
     ]
    },
    {
     "cell_type": "code",
     "collapsed": false,
     "input": [
      "categories = set()\n",
      "for el in texts_data:\n",
      "    for c in el[\"categories\"]:\n",
      "        categories.add(c)\n",
      "catconvert = CategoriesConverter(categories)\n",
      "dataset_gen = DatasetGenerator(texts, texts_data, catconvert)\n",
      "\n",
      "# should modify this to do some auto-encoding / self regression.\n",
      "model = ObjectLM(\n",
      "    vocabulary = lmsenti,\n",
      "    object_vocabulary_size = len(texts),\n",
      "    window = 10,\n",
      "    bilinear_form = False,\n",
      "    size = 20,\n",
      "    object_size = 20,\n",
      "    output_sigmoid_classes = catconvert.num_categories,\n",
      "    output_sigmoid_labels = catconvert.index2category,\n",
      "    output_labels = [[\"\", \"$\", \"$$\", \"$$$\", \"$$$$\"], [\"1\", \"2\", \"3\", \"4\", \"5\"]],\n",
      "    output_classes=[5, 5] # \"\", \"$\", \"$$\",...,\"$$$$\", 5 price classes, and 5 rating classes\n",
      ")"
     ],
     "language": "python",
     "metadata": {},
     "outputs": [],
     "prompt_number": 3
    },
    {
     "cell_type": "code",
     "collapsed": false,
     "input": [
      "model.load_saved_weights(\"saves/objectlm_window_10_lm_20_objlm_20_4/\")"
     ],
     "language": "python",
     "metadata": {},
     "outputs": [],
     "prompt_number": 4
    },
    {
     "cell_type": "code",
     "collapsed": false,
     "input": [
      "high_rating_vec = np.zeros(model.output_size)\n",
      "high_rating_vec[sum(model.output_classes) - 2] = 1.0\n",
      "high_rating_vec  = np.dot(model.projection_matrix.get_value(borrow=True).T, high_rating_vec)[-model.object_size:]"
     ],
     "language": "python",
     "metadata": {},
     "outputs": [],
     "prompt_number": 16
    },
    {
     "cell_type": "code",
     "collapsed": false,
     "input": [
      "model.create_normalized_matrices()"
     ],
     "language": "python",
     "metadata": {},
     "outputs": [],
     "prompt_number": 19
    },
    {
     "cell_type": "code",
     "collapsed": false,
     "input": [
      "model."
     ],
     "language": "python",
     "metadata": {},
     "outputs": []
    },
    {
     "cell_type": "code",
     "collapsed": false,
     "input": [
      "catconvert.category2index[\"tradamerican\"]"
     ],
     "language": "python",
     "metadata": {},
     "outputs": [
      {
       "metadata": {},
       "output_type": "pyout",
       "prompt_number": 82,
       "text": [
        "39"
       ]
      }
     ],
     "prompt_number": 82
    },
    {
     "cell_type": "code",
     "collapsed": false,
     "input": [
      "from collections import defaultdict"
     ],
     "language": "python",
     "metadata": {},
     "outputs": [],
     "prompt_number": 83
    },
    {
     "cell_type": "code",
     "collapsed": false,
     "input": [
      "with open(\"saves/objectlm_window_10_lm_20_objlm_20_4/__dict__.txt\", \"rt\") as f:\n",
      "    text_document = f.read()"
     ],
     "language": "python",
     "metadata": {},
     "outputs": [],
     "prompt_number": 93
    },
    {
     "cell_type": "code",
     "collapsed": false,
     "input": [
      "catconvert.index2category == text_document.split(\"\\n\")[3][len(\"sigmoid_labels [\"):-1].replace(\"'\", \"\").split(\", \")"
     ],
     "language": "python",
     "metadata": {},
     "outputs": [
      {
       "metadata": {},
       "output_type": "pyout",
       "prompt_number": 102,
       "text": [
        "False"
       ]
      }
     ],
     "prompt_number": 102
    },
    {
     "cell_type": "code",
     "collapsed": false,
     "input": [
      "high_rating_vec = np.zeros(model.output_size)\n",
      "high_rating_vec[9] = 0.6\n",
      "#high_rating_vec[sum(model.output_classes) - 1] = 0.5\n",
      "#high_rating_vec[ sum(model.output_classes) + test_index] = 1.0\n",
      "high_rating_vec  = np.dot(model.projection_matrix.get_value(borrow=True).T, high_rating_vec)[-model.object_size:]\n",
      "\n",
      "for index, distance in model.most_similar_object(high_rating_vec / np.linalg.norm(high_rating_vec)):\n",
      "    present_restaurant(texts_data[index], text = texts[index])\n",
      "    display(HTML(\"\"\"\n",
      "            <div>\n",
      "                <div style='background: rgb(221,222,223);width:102px;padding:1px;border-radius:2px'>\n",
      "                    <div style='height:20px; width:%dpx;padding-left:3px;background-color:rgb(71, 189, 249);font-size:9px;color:white'>\n",
      "                        %.0f%%\n",
      "                    </div>\n",
      "                </div>\n",
      "            </div>\n",
      "            \"\"\" % (int(distance * 100), distance * 100)))"
     ],
     "language": "python",
     "metadata": {},
     "outputs": [
      {
       "html": [
        "\n",
        "    <div>\n",
        "        <h2>Bourbon And Bones</h2>\n",
        "        <span style='color: #ca0814;'><span></span></span><span style='color: #e4e4e4;'><span>$</span><span>$</span><span>$</span><span>$</span></span><br /> \n",
        "        <span style='color: #feea60;'>\u2605\u2605\u2605\u2605\u2605</span><span style='color: #e4e4e4;'></span>\n",
        "        <span style='color:#333;font-size:9px'>791 words</span>\n",
        "        <br/>\n",
        "        <span style='color:#777:font-size:9px'>Categories: </span><span style='color:#333;font-size:13px'>bbq</span>\n",
        "        <p style='width:450px'>together it was for a soft opening or how perfect the food was ! we discussed all the way home how we have to move back to seattle just for</p>\n",
        "    </div>"
       ],
       "metadata": {},
       "output_type": "display_data",
       "text": [
        "<IPython.core.display.HTML at 0x164e17e90>"
       ]
      },
      {
       "html": [
        "\n",
        "            <div>\n",
        "                <div style='background: rgb(221,222,223);width:102px;padding:1px;border-radius:2px'>\n",
        "                    <div style='height:20px; width:70px;padding-left:3px;background-color:rgb(71, 189, 249);font-size:9px;color:white'>\n",
        "                        70%\n",
        "                    </div>\n",
        "                </div>\n",
        "            </div>\n",
        "            "
       ],
       "metadata": {},
       "output_type": "display_data",
       "text": [
        "<IPython.core.display.HTML at 0x164e17e90>"
       ]
      },
      {
       "html": [
        "\n",
        "    <div>\n",
        "        <h2>A & V Restaurant</h2>\n",
        "        <span style='color: #ca0814;'><span>$</span></span><span style='color: #e4e4e4;'><span>$</span><span>$</span><span>$</span></span><br /> \n",
        "        <span style='color: #feea60;'>\u2605\u2605\u2605\u2605\u2605</span><span style='color: #e4e4e4;'></span>\n",
        "        <span style='color:#333;font-size:9px'>316 words</span>\n",
        "        <br/>\n",
        "        <span style='color:#777:font-size:9px'>Categories: </span><span style='color:#333;font-size:13px'>vietnamese</span>\n",
        "        <p style='width:450px'>by david t . so driving up to this place is a bit scary , but it 's not about the cover right ? the inside is really nice given</p>\n",
        "    </div>"
       ],
       "metadata": {},
       "output_type": "display_data",
       "text": [
        "<IPython.core.display.HTML at 0x164e17e90>"
       ]
      },
      {
       "html": [
        "\n",
        "            <div>\n",
        "                <div style='background: rgb(221,222,223);width:102px;padding:1px;border-radius:2px'>\n",
        "                    <div style='height:20px; width:69px;padding-left:3px;background-color:rgb(71, 189, 249);font-size:9px;color:white'>\n",
        "                        69%\n",
        "                    </div>\n",
        "                </div>\n",
        "            </div>\n",
        "            "
       ],
       "metadata": {},
       "output_type": "display_data",
       "text": [
        "<IPython.core.display.HTML at 0x164e17e90>"
       ]
      },
      {
       "html": [
        "\n",
        "    <div>\n",
        "        <h2>Alley Cat</h2>\n",
        "        <span style='color: #ca0814;'><span></span></span><span style='color: #e4e4e4;'><span>$</span><span>$</span><span>$</span><span>$</span></span><br /> \n",
        "        <span style='color: #feea60;'>\u2605\u2605\u2605\u2605\u2605</span><span style='color: #e4e4e4;'></span>\n",
        "        <span style='color:#333;font-size:9px'>229 words</span>\n",
        "        <br/>\n",
        "        <span style='color:#777:font-size:9px'>Categories: </span><span style='color:#333;font-size:13px'>sandwiches</span>\n",
        "        <p style='width:450px'>local sandwich places much to the delight of the people who work at harborview . i had alley cat 's \\ `` caprese sandwich . \\ `` totally delicious !</p>\n",
        "    </div>"
       ],
       "metadata": {},
       "output_type": "display_data",
       "text": [
        "<IPython.core.display.HTML at 0x164e17e90>"
       ]
      },
      {
       "html": [
        "\n",
        "            <div>\n",
        "                <div style='background: rgb(221,222,223);width:102px;padding:1px;border-radius:2px'>\n",
        "                    <div style='height:20px; width:68px;padding-left:3px;background-color:rgb(71, 189, 249);font-size:9px;color:white'>\n",
        "                        68%\n",
        "                    </div>\n",
        "                </div>\n",
        "            </div>\n",
        "            "
       ],
       "metadata": {},
       "output_type": "display_data",
       "text": [
        "<IPython.core.display.HTML at 0x164e17e90>"
       ]
      },
      {
       "html": [
        "\n",
        "    <div>\n",
        "        <h2>meaty-johnsons-bbq-seattle</h2>\n",
        "        <span style='color: #ca0814;'><span></span></span><span style='color: #e4e4e4;'><span>$</span><span>$</span><span>$</span><span>$</span></span><br /> \n",
        "        <span style='color: #feea60;'>\u2605\u2605\u2605\u2605\u2605</span><span style='color: #e4e4e4;'></span>\n",
        "        <span style='color:#333;font-size:9px'>147 words</span>\n",
        "        <br/>\n",
        "        <span style='color:#777:font-size:9px'>Categories: </span><span style='color:#333;font-size:13px'>bbq</span>\n",
        "        <p style='width:450px'>perfect balance of flavoring to what barbeque should be . on top of that they use locally sourced meats which really makes a difference in flavor and quality of the</p>\n",
        "    </div>"
       ],
       "metadata": {},
       "output_type": "display_data",
       "text": [
        "<IPython.core.display.HTML at 0x164e17e90>"
       ]
      },
      {
       "html": [
        "\n",
        "            <div>\n",
        "                <div style='background: rgb(221,222,223);width:102px;padding:1px;border-radius:2px'>\n",
        "                    <div style='height:20px; width:68px;padding-left:3px;background-color:rgb(71, 189, 249);font-size:9px;color:white'>\n",
        "                        68%\n",
        "                    </div>\n",
        "                </div>\n",
        "            </div>\n",
        "            "
       ],
       "metadata": {},
       "output_type": "display_data",
       "text": [
        "<IPython.core.display.HTML at 0x164e17e90>"
       ]
      },
      {
       "html": [
        "\n",
        "    <div>\n",
        "        <h2>jimmy-johns-renton-2</h2>\n",
        "        <span style='color: #ca0814;'><span>$</span></span><span style='color: #e4e4e4;'><span>$</span><span>$</span><span>$</span></span><br /> \n",
        "        <span style='color: #feea60;'>\u2605\u2605\u2605\u2605\u2605</span><span style='color: #e4e4e4;'></span>\n",
        "        <span style='color:#333;font-size:9px'>63 words</span>\n",
        "        <br/>\n",
        "        <span style='color:#777:font-size:9px'>Categories: </span><span style='color:#333;font-size:13px'>sandwiches</span>\n",
        "        <p style='width:450px'>number nine , it was incredible , fresh , and very tasty , the place was very clean you could tell the crew took pride in this store . the</p>\n",
        "    </div>"
       ],
       "metadata": {},
       "output_type": "display_data",
       "text": [
        "<IPython.core.display.HTML at 0x164e17e90>"
       ]
      },
      {
       "html": [
        "\n",
        "            <div>\n",
        "                <div style='background: rgb(221,222,223);width:102px;padding:1px;border-radius:2px'>\n",
        "                    <div style='height:20px; width:68px;padding-left:3px;background-color:rgb(71, 189, 249);font-size:9px;color:white'>\n",
        "                        68%\n",
        "                    </div>\n",
        "                </div>\n",
        "            </div>\n",
        "            "
       ],
       "metadata": {},
       "output_type": "display_data",
       "text": [
        "<IPython.core.display.HTML at 0x164e17e90>"
       ]
      },
      {
       "html": [
        "\n",
        "    <div>\n",
        "        <h2>jimmy-johns-subs-renton</h2>\n",
        "        <span style='color: #ca0814;'><span>$</span></span><span style='color: #e4e4e4;'><span>$</span><span>$</span><span>$</span></span><br /> \n",
        "        <span style='color: #feea60;'>\u2605\u2605\u2605\u2605\u2605</span><span style='color: #e4e4e4;'></span>\n",
        "        <span style='color:#333;font-size:9px'>229 words</span>\n",
        "        <br/>\n",
        "        <span style='color:#777:font-size:9px'>Categories: </span><span style='color:#333;font-size:13px'>sandwiches</span>\n",
        "        <p style='width:450px'>. i placed my order online at 1 : 38 . got a confirmation email at 1 : 39 . abby the driver pulled into my lot at 1 :</p>\n",
        "    </div>"
       ],
       "metadata": {},
       "output_type": "display_data",
       "text": [
        "<IPython.core.display.HTML at 0x164e17e90>"
       ]
      },
      {
       "html": [
        "\n",
        "            <div>\n",
        "                <div style='background: rgb(221,222,223);width:102px;padding:1px;border-radius:2px'>\n",
        "                    <div style='height:20px; width:67px;padding-left:3px;background-color:rgb(71, 189, 249);font-size:9px;color:white'>\n",
        "                        67%\n",
        "                    </div>\n",
        "                </div>\n",
        "            </div>\n",
        "            "
       ],
       "metadata": {},
       "output_type": "display_data",
       "text": [
        "<IPython.core.display.HTML at 0x164e17e90>"
       ]
      },
      {
       "html": [
        "\n",
        "    <div>\n",
        "        <h2>Meaty Johnson's BBQ</h2>\n",
        "        <span style='color: #ca0814;'><span></span></span><span style='color: #e4e4e4;'><span>$</span><span>$</span><span>$</span><span>$</span></span><br /> \n",
        "        <span style='color: #feea60;'>\u2605\u2605\u2605\u2605\u2605</span><span style='color: #e4e4e4;'></span>\n",
        "        <span style='color:#333;font-size:9px'>182 words</span>\n",
        "        <br/>\n",
        "        <span style='color:#777:font-size:9px'>Categories: </span><span style='color:#333;font-size:13px'>bbq</span>\n",
        "        <p style='width:450px'>bbq , seattle , wa by sarah v . out of all the bbq joints here in the northwest , this hits the spot with the perfect balance of flavoring</p>\n",
        "    </div>"
       ],
       "metadata": {},
       "output_type": "display_data",
       "text": [
        "<IPython.core.display.HTML at 0x164e17e90>"
       ]
      },
      {
       "html": [
        "\n",
        "            <div>\n",
        "                <div style='background: rgb(221,222,223);width:102px;padding:1px;border-radius:2px'>\n",
        "                    <div style='height:20px; width:66px;padding-left:3px;background-color:rgb(71, 189, 249);font-size:9px;color:white'>\n",
        "                        67%\n",
        "                    </div>\n",
        "                </div>\n",
        "            </div>\n",
        "            "
       ],
       "metadata": {},
       "output_type": "display_data",
       "text": [
        "<IPython.core.display.HTML at 0x164e17e90>"
       ]
      },
      {
       "html": [
        "\n",
        "    <div>\n",
        "        <h2>La Placita Oaxaquena</h2>\n",
        "        <span style='color: #ca0814;'><span></span></span><span style='color: #e4e4e4;'><span>$</span><span>$</span><span>$</span><span>$</span></span><br /> \n",
        "        <span style='color: #feea60;'>\u2605\u2605\u2605\u2605\u2605</span><span style='color: #e4e4e4;'></span>\n",
        "        <span style='color:#333;font-size:9px'>156 words</span>\n",
        "        <br/>\n",
        "        <span style='color:#777:font-size:9px'>Categories: </span><span style='color:#333;font-size:13px'>mexican</span>\n",
        "        <p style='width:450px'>dinner . this is not mexican restaurant food ; this is the mexican kitchen meal a grandma whips up . the people are really nice and the meals are lovingly</p>\n",
        "    </div>"
       ],
       "metadata": {},
       "output_type": "display_data",
       "text": [
        "<IPython.core.display.HTML at 0x164e17e90>"
       ]
      },
      {
       "html": [
        "\n",
        "            <div>\n",
        "                <div style='background: rgb(221,222,223);width:102px;padding:1px;border-radius:2px'>\n",
        "                    <div style='height:20px; width:66px;padding-left:3px;background-color:rgb(71, 189, 249);font-size:9px;color:white'>\n",
        "                        66%\n",
        "                    </div>\n",
        "                </div>\n",
        "            </div>\n",
        "            "
       ],
       "metadata": {},
       "output_type": "display_data",
       "text": [
        "<IPython.core.display.HTML at 0x164e17e90>"
       ]
      },
      {
       "html": [
        "\n",
        "    <div>\n",
        "        <h2>Antojitos Teresita</h2>\n",
        "        <span style='color: #ca0814;'><span>$</span></span><span style='color: #e4e4e4;'><span>$</span><span>$</span><span>$</span></span><br /> \n",
        "        <span style='color: #feea60;'>\u2605\u2605\u2605\u2605\u2605</span><span style='color: #e4e4e4;'></span>\n",
        "        <span style='color:#333;font-size:9px'>434 words</span>\n",
        "        <br/>\n",
        "        <span style='color:#777:font-size:9px'>Categories: </span><span style='color:#333;font-size:13px'>mexican</span>\n",
        "        <p style='width:450px'>i finally got over my lethargic nature and decided to finally review this amazing eatery . having lived in los angeles for the better half of my life , i</p>\n",
        "    </div>"
       ],
       "metadata": {},
       "output_type": "display_data",
       "text": [
        "<IPython.core.display.HTML at 0x164e17e90>"
       ]
      },
      {
       "html": [
        "\n",
        "            <div>\n",
        "                <div style='background: rgb(221,222,223);width:102px;padding:1px;border-radius:2px'>\n",
        "                    <div style='height:20px; width:65px;padding-left:3px;background-color:rgb(71, 189, 249);font-size:9px;color:white'>\n",
        "                        66%\n",
        "                    </div>\n",
        "                </div>\n",
        "            </div>\n",
        "            "
       ],
       "metadata": {},
       "output_type": "display_data",
       "text": [
        "<IPython.core.display.HTML at 0x164e17e90>"
       ]
      },
      {
       "html": [
        "\n",
        "    <div>\n",
        "        <h2>saltys-seafood-grills-alki-seattle</h2>\n",
        "        <span style='color: #ca0814;'><span></span></span><span style='color: #e4e4e4;'><span>$</span><span>$</span><span>$</span><span>$</span></span><br /> \n",
        "        <span style='color: #feea60;'>\u2605\u2605\u2605\u2605\u2605</span><span style='color: #e4e4e4;'></span>\n",
        "        <span style='color:#333;font-size:9px'>216 words</span>\n",
        "        <br/>\n",
        "        <span style='color:#777:font-size:9px'>Categories: </span><span style='color:#333;font-size:13px'>seafood</span>\n",
        "        <p style='width:450px'>crispy . fries were very good . could have used more salt though . was kind if expensive . $ 9 for 2 pieces of cod and we had to</p>\n",
        "    </div>"
       ],
       "metadata": {},
       "output_type": "display_data",
       "text": [
        "<IPython.core.display.HTML at 0x164e17e90>"
       ]
      },
      {
       "html": [
        "\n",
        "            <div>\n",
        "                <div style='background: rgb(221,222,223);width:102px;padding:1px;border-radius:2px'>\n",
        "                    <div style='height:20px; width:65px;padding-left:3px;background-color:rgb(71, 189, 249);font-size:9px;color:white'>\n",
        "                        66%\n",
        "                    </div>\n",
        "                </div>\n",
        "            </div>\n",
        "            "
       ],
       "metadata": {},
       "output_type": "display_data",
       "text": [
        "<IPython.core.display.HTML at 0x164e17e90>"
       ]
      },
      {
       "html": [
        "\n",
        "    <div>\n",
        "        <h2>bias-bistro-and-lounge-seattle</h2>\n",
        "        <span style='color: #ca0814;'><span></span></span><span style='color: #e4e4e4;'><span>$</span><span>$</span><span>$</span><span>$</span></span><br /> \n",
        "        <span style='color: #feea60;'>\u2605\u2605\u2605\u2605\u2605</span><span style='color: #e4e4e4;'></span>\n",
        "        <span style='color:#333;font-size:9px'>196 words</span>\n",
        "        <br/>\n",
        "        <span style='color:#777:font-size:9px'>Categories: </span><span style='color:#333;font-size:13px'>tapasmallplates</span>\n",
        "        <p style='width:450px'>eastlake , not just seattle , but it 's worth traveling here from almost anywhere . why ? the food is great . and it 's food you ca n't</p>\n",
        "    </div>"
       ],
       "metadata": {},
       "output_type": "display_data",
       "text": [
        "<IPython.core.display.HTML at 0x164e17e90>"
       ]
      },
      {
       "html": [
        "\n",
        "            <div>\n",
        "                <div style='background: rgb(221,222,223);width:102px;padding:1px;border-radius:2px'>\n",
        "                    <div style='height:20px; width:65px;padding-left:3px;background-color:rgb(71, 189, 249);font-size:9px;color:white'>\n",
        "                        65%\n",
        "                    </div>\n",
        "                </div>\n",
        "            </div>\n",
        "            "
       ],
       "metadata": {},
       "output_type": "display_data",
       "text": [
        "<IPython.core.display.HTML at 0x164e17e90>"
       ]
      },
      {
       "html": [
        "\n",
        "    <div>\n",
        "        <h2>bourbon-and-bones-seattle</h2>\n",
        "        <span style='color: #ca0814;'><span></span></span><span style='color: #e4e4e4;'><span>$</span><span>$</span><span>$</span><span>$</span></span><br /> \n",
        "        <span style='color: #feea60;'>\u2605\u2605\u2605\u2605\u2605</span><span style='color: #e4e4e4;'></span>\n",
        "        <span style='color:#333;font-size:9px'>825 words</span>\n",
        "        <br/>\n",
        "        <span style='color:#777:font-size:9px'>Categories: </span><span style='color:#333;font-size:13px'>bbq</span>\n",
        "        <p style='width:450px'>provide seattle with what it 's been missing ; sweet ... read more '' tacoma , wa ok , you 've outdone yourselves on this one ! ! ! i</p>\n",
        "    </div>"
       ],
       "metadata": {},
       "output_type": "display_data",
       "text": [
        "<IPython.core.display.HTML at 0x164e17e90>"
       ]
      },
      {
       "html": [
        "\n",
        "            <div>\n",
        "                <div style='background: rgb(221,222,223);width:102px;padding:1px;border-radius:2px'>\n",
        "                    <div style='height:20px; width:65px;padding-left:3px;background-color:rgb(71, 189, 249);font-size:9px;color:white'>\n",
        "                        65%\n",
        "                    </div>\n",
        "                </div>\n",
        "            </div>\n",
        "            "
       ],
       "metadata": {},
       "output_type": "display_data",
       "text": [
        "<IPython.core.display.HTML at 0x164e17e90>"
       ]
      },
      {
       "html": [
        "\n",
        "    <div>\n",
        "        <h2>dominos-pizza-seattle-16</h2>\n",
        "        <span style='color: #ca0814;'><span></span></span><span style='color: #e4e4e4;'><span>$</span><span>$</span><span>$</span><span>$</span></span><br /> \n",
        "        <span style='color: #feea60;'>\u2605\u2605\u2605\u2605\u2605</span><span style='color: #e4e4e4;'></span>\n",
        "        <span style='color:#333;font-size:9px'>152 words</span>\n",
        "        <br/>\n",
        "        <span style='color:#777:font-size:9px'>Categories: </span><span style='color:#333;font-size:13px'>pizza</span>\n",
        "        <p style='width:450px'>the place you go when you want pizza for dinner . this is the place you go when it 's 2am and you need pizza now ! it 's pretty</p>\n",
        "    </div>"
       ],
       "metadata": {},
       "output_type": "display_data",
       "text": [
        "<IPython.core.display.HTML at 0x164e17e90>"
       ]
      },
      {
       "html": [
        "\n",
        "            <div>\n",
        "                <div style='background: rgb(221,222,223);width:102px;padding:1px;border-radius:2px'>\n",
        "                    <div style='height:20px; width:64px;padding-left:3px;background-color:rgb(71, 189, 249);font-size:9px;color:white'>\n",
        "                        65%\n",
        "                    </div>\n",
        "                </div>\n",
        "            </div>\n",
        "            "
       ],
       "metadata": {},
       "output_type": "display_data",
       "text": [
        "<IPython.core.display.HTML at 0x164e17e90>"
       ]
      },
      {
       "html": [
        "\n",
        "    <div>\n",
        "        <h2>El Paellero</h2>\n",
        "        <span style='color: #ca0814;'><span></span></span><span style='color: #e4e4e4;'><span>$</span><span>$</span><span>$</span><span>$</span></span><br /> \n",
        "        <span style='color: #feea60;'>\u2605\u2605\u2605\u2605\u2605</span><span style='color: #e4e4e4;'></span>\n",
        "        <span style='color:#333;font-size:9px'>587 words</span>\n",
        "        <br/>\n",
        "        <span style='color:#777:font-size:9px'>Categories: </span><span style='color:#333;font-size:13px'>spanish, catering, personalchefs</span>\n",
        "        <p style='width:450px'>son 's wedding ! i might consider making the drive to seattle to see these folks . they made the trip easy and delicious , even helping us out with</p>\n",
        "    </div>"
       ],
       "metadata": {},
       "output_type": "display_data",
       "text": [
        "<IPython.core.display.HTML at 0x164e17e90>"
       ]
      },
      {
       "html": [
        "\n",
        "            <div>\n",
        "                <div style='background: rgb(221,222,223);width:102px;padding:1px;border-radius:2px'>\n",
        "                    <div style='height:20px; width:63px;padding-left:3px;background-color:rgb(71, 189, 249);font-size:9px;color:white'>\n",
        "                        64%\n",
        "                    </div>\n",
        "                </div>\n",
        "            </div>\n",
        "            "
       ],
       "metadata": {},
       "output_type": "display_data",
       "text": [
        "<IPython.core.display.HTML at 0x164e17e90>"
       ]
      },
      {
       "html": [
        "\n",
        "    <div>\n",
        "        <h2>Peanut Butter Goodness</h2>\n",
        "        <span style='color: #ca0814;'><span>$</span></span><span style='color: #e4e4e4;'><span>$</span><span>$</span><span>$</span></span><br /> \n",
        "        <span style='color: #feea60;'>\u2605\u2605\u2605\u2605\u2605</span><span style='color: #e4e4e4;'></span>\n",
        "        <span style='color:#333;font-size:9px'>287 words</span>\n",
        "        <br/>\n",
        "        <span style='color:#777:font-size:9px'>Categories: </span><span style='color:#333;font-size:13px'>sandwiches, streetvendors</span>\n",
        "        <p style='width:450px'>) and i think i saw god . well , maybe not god ... but it was the best thing i 've eaten in some time and the family who</p>\n",
        "    </div>"
       ],
       "metadata": {},
       "output_type": "display_data",
       "text": [
        "<IPython.core.display.HTML at 0x164e17e90>"
       ]
      },
      {
       "html": [
        "\n",
        "            <div>\n",
        "                <div style='background: rgb(221,222,223);width:102px;padding:1px;border-radius:2px'>\n",
        "                    <div style='height:20px; width:63px;padding-left:3px;background-color:rgb(71, 189, 249);font-size:9px;color:white'>\n",
        "                        63%\n",
        "                    </div>\n",
        "                </div>\n",
        "            </div>\n",
        "            "
       ],
       "metadata": {},
       "output_type": "display_data",
       "text": [
        "<IPython.core.display.HTML at 0x164e17e90>"
       ]
      },
      {
       "html": [
        "\n",
        "    <div>\n",
        "        <h2>Jimmy Johns Subs</h2>\n",
        "        <span style='color: #ca0814;'><span>$</span></span><span style='color: #e4e4e4;'><span>$</span><span>$</span><span>$</span></span><br /> \n",
        "        <span style='color: #feea60;'>\u2605\u2605\u2605\u2605\u2605</span><span style='color: #e4e4e4;'></span>\n",
        "        <span style='color:#333;font-size:9px'>262 words</span>\n",
        "        <br/>\n",
        "        <span style='color:#777:font-size:9px'>Categories: </span><span style='color:#333;font-size:13px'>sandwiches</span>\n",
        "        <p style='width:450px'>39 . abby the driver pulled into my lot at 1 : 45 . finished my sandwich at 2 : 10 ( : p in case you cared , i</p>\n",
        "    </div>"
       ],
       "metadata": {},
       "output_type": "display_data",
       "text": [
        "<IPython.core.display.HTML at 0x164e17e90>"
       ]
      },
      {
       "html": [
        "\n",
        "            <div>\n",
        "                <div style='background: rgb(221,222,223);width:102px;padding:1px;border-radius:2px'>\n",
        "                    <div style='height:20px; width:62px;padding-left:3px;background-color:rgb(71, 189, 249);font-size:9px;color:white'>\n",
        "                        63%\n",
        "                    </div>\n",
        "                </div>\n",
        "            </div>\n",
        "            "
       ],
       "metadata": {},
       "output_type": "display_data",
       "text": [
        "<IPython.core.display.HTML at 0x164e17e90>"
       ]
      },
      {
       "html": [
        "\n",
        "    <div>\n",
        "        <h2>the-bbq-schacht-seatac</h2>\n",
        "        <span style='color: #ca0814;'><span>$</span></span><span style='color: #e4e4e4;'><span>$</span><span>$</span><span>$</span></span><br /> \n",
        "        <span style='color: #feea60;'>\u2605\u2605\u2605\u2605\u2605</span><span style='color: #e4e4e4;'></span>\n",
        "        <span style='color:#333;font-size:9px'>1392 words</span>\n",
        "        <br/>\n",
        "        <span style='color:#777:font-size:9px'>Categories: </span><span style='color:#333;font-size:13px'>bbq</span>\n",
        "        <p style='width:450px'>c . i love me some bbq . i sadly had to stop attending to a customer in kansas city and thought good bbq was not in my future .</p>\n",
        "    </div>"
       ],
       "metadata": {},
       "output_type": "display_data",
       "text": [
        "<IPython.core.display.HTML at 0x164e17e90>"
       ]
      },
      {
       "html": [
        "\n",
        "            <div>\n",
        "                <div style='background: rgb(221,222,223);width:102px;padding:1px;border-radius:2px'>\n",
        "                    <div style='height:20px; width:61px;padding-left:3px;background-color:rgb(71, 189, 249);font-size:9px;color:white'>\n",
        "                        62%\n",
        "                    </div>\n",
        "                </div>\n",
        "            </div>\n",
        "            "
       ],
       "metadata": {},
       "output_type": "display_data",
       "text": [
        "<IPython.core.display.HTML at 0x164e17e90>"
       ]
      },
      {
       "html": [
        "\n",
        "    <div>\n",
        "        <h2>El Pescador</h2>\n",
        "        <span style='color: #ca0814;'><span></span></span><span style='color: #e4e4e4;'><span>$</span><span>$</span><span>$</span><span>$</span></span><br /> \n",
        "        <span style='color: #feea60;'>\u2605\u2605\u2605\u2605\u2605</span><span style='color: #e4e4e4;'></span>\n",
        "        <span style='color:#333;font-size:9px'>93 words</span>\n",
        "        <br/>\n",
        "        <span style='color:#777:font-size:9px'>Categories: </span><span style='color:#333;font-size:13px'>mexican</span>\n",
        "        <p style='width:450px'>me feel like i was in mexico enjoying traditional dishes ! ! i 'm not mexican but my wife who was born and raised in durango said to me that</p>\n",
        "    </div>"
       ],
       "metadata": {},
       "output_type": "display_data",
       "text": [
        "<IPython.core.display.HTML at 0x164e17e90>"
       ]
      },
      {
       "html": [
        "\n",
        "            <div>\n",
        "                <div style='background: rgb(221,222,223);width:102px;padding:1px;border-radius:2px'>\n",
        "                    <div style='height:20px; width:61px;padding-left:3px;background-color:rgb(71, 189, 249);font-size:9px;color:white'>\n",
        "                        61%\n",
        "                    </div>\n",
        "                </div>\n",
        "            </div>\n",
        "            "
       ],
       "metadata": {},
       "output_type": "display_data",
       "text": [
        "<IPython.core.display.HTML at 0x164e17e90>"
       ]
      },
      {
       "html": [
        "\n",
        "    <div>\n",
        "        <h2>Bias Bistro & Lounge</h2>\n",
        "        <span style='color: #ca0814;'><span></span></span><span style='color: #e4e4e4;'><span>$</span><span>$</span><span>$</span><span>$</span></span><br /> \n",
        "        <span style='color: #feea60;'>\u2605\u2605\u2605\u2605\u2605</span><span style='color: #e4e4e4;'></span>\n",
        "        <span style='color:#333;font-size:9px'>135 words</span>\n",
        "        <br/>\n",
        "        <span style='color:#777:font-size:9px'>Categories: </span><span style='color:#333;font-size:13px'>tapasmallplates</span>\n",
        "        <p style='width:450px'>on the guest list . the owner is amazing and gracious , the food will keep you coming back ! the bistro even has a sweet mascot , diego ,</p>\n",
        "    </div>"
       ],
       "metadata": {},
       "output_type": "display_data",
       "text": [
        "<IPython.core.display.HTML at 0x164e17e90>"
       ]
      },
      {
       "html": [
        "\n",
        "            <div>\n",
        "                <div style='background: rgb(221,222,223);width:102px;padding:1px;border-radius:2px'>\n",
        "                    <div style='height:20px; width:60px;padding-left:3px;background-color:rgb(71, 189, 249);font-size:9px;color:white'>\n",
        "                        61%\n",
        "                    </div>\n",
        "                </div>\n",
        "            </div>\n",
        "            "
       ],
       "metadata": {},
       "output_type": "display_data",
       "text": [
        "<IPython.core.display.HTML at 0x164e17e90>"
       ]
      },
      {
       "html": [
        "\n",
        "    <div>\n",
        "        <h2>Taqueria Los Potrillos</h2>\n",
        "        <span style='color: #ca0814;'><span>$</span></span><span style='color: #e4e4e4;'><span>$</span><span>$</span><span>$</span></span><br /> \n",
        "        <span style='color: #feea60;'>\u2605\u2605\u2605\u2605\u2605</span><span style='color: #e4e4e4;'></span>\n",
        "        <span style='color:#333;font-size:9px'>510 words</span>\n",
        "        <br/>\n",
        "        <span style='color:#777:font-size:9px'>Categories: </span><span style='color:#333;font-size:13px'>mexican</span>\n",
        "        <p style='width:450px'>super tender and flavorful , perfect amount of juiciness . it was really easy to eat and had the perfect dollop of really flavorful guac . the hot sauce was</p>\n",
        "    </div>"
       ],
       "metadata": {},
       "output_type": "display_data",
       "text": [
        "<IPython.core.display.HTML at 0x164e17e90>"
       ]
      },
      {
       "html": [
        "\n",
        "            <div>\n",
        "                <div style='background: rgb(221,222,223);width:102px;padding:1px;border-radius:2px'>\n",
        "                    <div style='height:20px; width:60px;padding-left:3px;background-color:rgb(71, 189, 249);font-size:9px;color:white'>\n",
        "                        61%\n",
        "                    </div>\n",
        "                </div>\n",
        "            </div>\n",
        "            "
       ],
       "metadata": {},
       "output_type": "display_data",
       "text": [
        "<IPython.core.display.HTML at 0x164e17e90>"
       ]
      }
     ],
     "prompt_number": 118
    },
    {
     "cell_type": "code",
     "collapsed": false,
     "input": [
      "dataset_gen.save(\"saves/objectlm_window_10_lm_20_objlm_20_4/__dataset__.gz\")"
     ],
     "language": "python",
     "metadata": {},
     "outputs": []
    },
    {
     "cell_type": "code",
     "collapsed": false,
     "input": [
      "dataset_gen.save(\"saves/objectlm_window_10_lm_20_objlm_20_4/__dataset__.gz\")"
     ],
     "language": "python",
     "metadata": {},
     "outputs": [],
     "prompt_number": 11
    },
    {
     "cell_type": "code",
     "collapsed": false,
     "input": [
      "dataset_gen.save_ids(\"saves/objectlm_window_10_lm_20_objlm_20_4/__objects__.gz\")"
     ],
     "language": "python",
     "metadata": {},
     "outputs": [],
     "prompt_number": 12
    },
    {
     "cell_type": "markdown",
     "metadata": {},
     "source": [
      "Training is then a matter of going through the dataset in any order and lowering the training rate as we aim to reduce the prediction error over the labels for each restaurant while taking as input the restaurant vectors and the text windows."
     ]
    },
    {
     "cell_type": "code",
     "collapsed": false,
     "input": [
      "import logging\n",
      "logger = logging.getLogger(\"objectlm.training\")\n",
      "logger.setLevel(logging.INFO)\n",
      "min_alpha = float(0.0001)\n",
      "max_alpha = float(0.0035)\n",
      "max_epoch = 9\n",
      "for epoch in range(0, max_epoch):\n",
      "    alpha = max(min_alpha, max_alpha * (1. - (float(epoch) / float(max_epoch))))\n",
      "    model._alpha = alpha\n",
      "    objects, err = model.train(dataset_gen, workers = 8, chunksize = 24)\n",
      "    model.save_model(\"saves/objectlm_window_10_lm_20_objlm_20_%d/\" % (epoch))\n",
      "    print(\"Epoch = %d, Error = %.3f, alpha = %.3f\" % (epoch, err, alpha))"
     ],
     "language": "python",
     "metadata": {},
     "outputs": []
    },
    {
     "cell_type": "code",
     "collapsed": false,
     "input": [
      "model.load_saved_weights(\"saves/objectlm_window_10_lm_20_objlm_20_4/\")"
     ],
     "language": "python",
     "metadata": {},
     "outputs": [],
     "prompt_number": 5
    },
    {
     "cell_type": "code",
     "collapsed": false,
     "input": [
      "model.create_normalized_matrices()"
     ],
     "language": "python",
     "metadata": {},
     "outputs": [],
     "prompt_number": 6
    },
    {
     "cell_type": "code",
     "collapsed": false,
     "input": [
      "model.most_similar_word(\"science\")"
     ],
     "language": "python",
     "metadata": {},
     "outputs": [
      {
       "metadata": {},
       "output_type": "pyout",
       "prompt_number": 7,
       "text": [
        "[('request', 0.9545077085494995, 7163),\n",
        " ('hopefully', 0.9531156420707703, 38713),\n",
        " ('community', 0.9526830911636353, 6000),\n",
        " ('infused', 0.9511095285415649, 7513),\n",
        " ('yummy', 0.9509859085083008, 34636),\n",
        " ('fallen', 0.9509795904159546, 6096),\n",
        " ('feeling', 0.9508317708969116, 38029),\n",
        " (\"'d\", 0.9483151435852051, 26839),\n",
        " ('reading', 0.9478667974472046, 20754),\n",
        " ('work', 0.9475015997886658, 586)]"
       ]
      }
     ],
     "prompt_number": 7
    },
    {
     "cell_type": "code",
     "collapsed": false,
     "input": [
      "model.save_model_parameters(\"saves/objectlm_window_10_lm_20_objlm_20_4\")"
     ],
     "language": "python",
     "metadata": {},
     "outputs": [],
     "prompt_number": 6
    },
    {
     "cell_type": "code",
     "collapsed": false,
     "input": [
      "model.save_model_to_java(\"saves/objectlm_window_10_lm_20_objlm_20_4\")"
     ],
     "language": "python",
     "metadata": {},
     "outputs": [],
     "prompt_number": 6
    },
    {
     "cell_type": "code",
     "collapsed": false,
     "input": [
      "catconvert.save_to_java(\"saves/objectlm_window_10_lm_20_objlm_20_4/__categories__.gz\")"
     ],
     "language": "python",
     "metadata": {},
     "outputs": [],
     "prompt_number": 4
    },
    {
     "cell_type": "code",
     "collapsed": false,
     "input": [
      "model.save_vocabulary(\"saves/objectlm_window_10_lm_20_objlm_20_4\")"
     ],
     "language": "python",
     "metadata": {},
     "outputs": [],
     "prompt_number": 8
    },
    {
     "cell_type": "code",
     "collapsed": false,
     "input": [
      "model.create_normalized_matrices()"
     ],
     "language": "python",
     "metadata": {},
     "outputs": [],
     "prompt_number": 6
    },
    {
     "cell_type": "code",
     "collapsed": false,
     "input": [
      "model.most_similar_word(\"science\", topn = 10)"
     ],
     "language": "python",
     "metadata": {},
     "outputs": [
      {
       "metadata": {},
       "output_type": "pyout",
       "prompt_number": 50,
       "text": [
        "[('request', 0.9545077085494995, 7163),\n",
        " ('hopefully', 0.9531156420707703, 38713),\n",
        " ('community', 0.9526830911636353, 6000),\n",
        " ('infused', 0.9511095285415649, 7513),\n",
        " ('yummy', 0.9509859085083008, 34636),\n",
        " ('fallen', 0.9509795904159546, 6096),\n",
        " ('feeling', 0.9508317708969116, 38029),\n",
        " (\"'d\", 0.9483151435852051, 26839),\n",
        " ('reading', 0.9478667974472046, 20754),\n",
        " ('work', 0.9475015997886658, 586)]"
       ]
      }
     ],
     "prompt_number": 50
    },
    {
     "cell_type": "code",
     "collapsed": false,
     "input": [
      "def most_similar_object(self, vector, topn = 20):\n",
      "        dists = np.dot(self.norm_object_matrix, vector).astype(np.float32)\n",
      "        best = np.argsort(dists)[::-1][:topn]\n",
      "        result = [(sim, float(dists[sim])) for sim in best]\n",
      "        return result[:topn]\n",
      "def search_for_object_with_vector(self, vector, topn = 20):\n",
      "    display(HTML(\"<h2>Search with Vector</h2>\"))\n",
      "    for result, distance in most_similar_object(self, vector, topn=topn):\n",
      "        present_restaurant(texts_data[result], text = texts[result])\n",
      "        display(HTML(\"<small>%d</small>\" % result))\n",
      "        display(HTML(\"\"\"\n",
      "            <div>\n",
      "                <div style='background: rgb(221,222,223);width:102px;padding:1px;border-radius:2px'>\n",
      "                    <div style='height:20px; width:%dpx;padding-left:3px;background-color:rgb(71, 189, 249);font-size:9px;color:white'>\n",
      "                        %.0f%%\n",
      "                    </div>\n",
      "                </div>\n",
      "            </div>\n",
      "            \"\"\" % (int(distance * 100), distance * 100)))"
     ],
     "language": "python",
     "metadata": {},
     "outputs": [],
     "prompt_number": 19
    },
    {
     "cell_type": "code",
     "collapsed": false,
     "input": [
      "a = 1796 # Tangerine Thai\n",
      "b = 2055 # Pailin Thai cuisine\n",
      "b = 5337 # melrose-grill-renton-2 \n",
      "#b = 16 # othello-wok-and-teriyaki-seattle\n",
      "vec = model.norm_object_matrix[a] + 1 * model.norm_object_matrix[b]\n",
      "present_restaurant(texts_data[a], text = texts[a])\n",
      "print(\" minus \")\n",
      "present_restaurant(texts_data[b], text = texts[b])\n",
      "vec = vec / np.linalg.norm(vec)\n",
      "search_for_object_with_vector(model, vec, 10)"
     ],
     "language": "python",
     "metadata": {},
     "outputs": [
      {
       "html": [
        "\n",
        "    <div>\n",
        "        <h2>Tangerine Thai</h2>\n",
        "        <span style='color: #ca0814;'><span>$</span><span>$</span></span><span style='color: #e4e4e4;'><span>$</span><span>$</span></span><br /> \n",
        "        <span style='color: #feea60;'>\u2605\u2605\u2605</span><span style='color: #e4e4e4;'>\u2605\u2605</span>\n",
        "        <span style='color:#333;font-size:9px'>6673 words</span>\n",
        "        <br/>\n",
        "        <span style='color:#777:font-size:9px'>Categories: </span><span style='color:#333;font-size:13px'>thai</span>\n",
        "        <p style='width:450px'>review ... ? seattle , wa this is a cute little spot on phinney , with a great wall that completely opens up on nice days . the food is</p>\n",
        "    </div>"
       ],
       "metadata": {},
       "output_type": "display_data",
       "text": [
        "<IPython.core.display.HTML at 0x164e177d0>"
       ]
      },
      {
       "output_type": "stream",
       "stream": "stdout",
       "text": [
        " minus \n"
       ]
      },
      {
       "html": [
        "\n",
        "    <div>\n",
        "        <h2>melrose-grill-renton-2</h2>\n",
        "        <span style='color: #ca0814;'><span>$</span><span>$</span><span>$</span></span><span style='color: #e4e4e4;'><span>$</span></span><br /> \n",
        "        <span style='color: #feea60;'>\u2605\u2605\u2605\u2605</span><span style='color: #e4e4e4;'>\u2605</span>\n",
        "        <span style='color:#333;font-size:9px'>7372 words</span>\n",
        "        <br/>\n",
        "        <span style='color:#777:font-size:9px'>Categories: </span><span style='color:#333;font-size:13px'>steak</span>\n",
        "        <p style='width:450px'>more seasoned than the rib eye but both were very tender ! parmesan potatoes were meh , i 'll get the rice or mashed potatoes next time . caesar salad</p>\n",
        "    </div>"
       ],
       "metadata": {},
       "output_type": "display_data",
       "text": [
        "<IPython.core.display.HTML at 0x164d3a110>"
       ]
      },
      {
       "ename": "NameError",
       "evalue": "name 'search_for_object_with_vector' is not defined",
       "output_type": "pyerr",
       "traceback": [
        "\u001b[0;31m---------------------------------------------------------------------------\u001b[0m\n\u001b[0;31mNameError\u001b[0m                                 Traceback (most recent call last)",
        "\u001b[0;32m<ipython-input-61-c9cc78da63d4>\u001b[0m in \u001b[0;36m<module>\u001b[0;34m()\u001b[0m\n\u001b[1;32m      8\u001b[0m \u001b[0mpresent_restaurant\u001b[0m\u001b[0;34m(\u001b[0m\u001b[0mtexts_data\u001b[0m\u001b[0;34m[\u001b[0m\u001b[0mb\u001b[0m\u001b[0;34m]\u001b[0m\u001b[0;34m,\u001b[0m \u001b[0mtext\u001b[0m \u001b[0;34m=\u001b[0m \u001b[0mtexts\u001b[0m\u001b[0;34m[\u001b[0m\u001b[0mb\u001b[0m\u001b[0;34m]\u001b[0m\u001b[0;34m)\u001b[0m\u001b[0;34m\u001b[0m\u001b[0m\n\u001b[1;32m      9\u001b[0m \u001b[0mvec\u001b[0m \u001b[0;34m=\u001b[0m \u001b[0mvec\u001b[0m \u001b[0;34m/\u001b[0m \u001b[0mnp\u001b[0m\u001b[0;34m.\u001b[0m\u001b[0mlinalg\u001b[0m\u001b[0;34m.\u001b[0m\u001b[0mnorm\u001b[0m\u001b[0;34m(\u001b[0m\u001b[0mvec\u001b[0m\u001b[0;34m)\u001b[0m\u001b[0;34m\u001b[0m\u001b[0m\n\u001b[0;32m---> 10\u001b[0;31m \u001b[0msearch_for_object_with_vector\u001b[0m\u001b[0;34m(\u001b[0m\u001b[0mmodel\u001b[0m\u001b[0;34m,\u001b[0m \u001b[0mvec\u001b[0m\u001b[0;34m,\u001b[0m \u001b[0;36m10\u001b[0m\u001b[0;34m)\u001b[0m\u001b[0;34m\u001b[0m\u001b[0m\n\u001b[0m",
        "\u001b[0;31mNameError\u001b[0m: name 'search_for_object_with_vector' is not defined"
       ]
      }
     ],
     "prompt_number": 61
    },
    {
     "cell_type": "markdown",
     "metadata": {},
     "source": [
      "## Observations on vector operations: ##\n",
      "\n",
      "* Thai restaurant(1) + Thai restaurant(2) = strong Thai food signal\n",
      "* Thai restaurant(2) - Thai restaurant(1) = Sports bar, breakfast_brunch\n",
      "* Thai restaurant(1) - Thai restaurant(2) (normalized) = vietnamese\n",
      "* Thai restaurant(1) - Thai restaurant(2) (normalized later) = crepes, outdoor food\n",
      "* Thai restaurant(1) - crepe restaurant = Pizza, Italian food\n",
      "* Thai restaurant(1) + Steak = Thai or Steak\n",
      "* Thai restaurant(1) - Steak = chinese / grocery\n",
      "* Thai restaurant(1) - 2\\$ chinese restaurant = 1\\$ thai\n",
      "* Thai restaurant(1) + 1.4 $\\times$ chinese restaurant = asian thai, japonese, or chinese"
     ]
    },
    {
     "cell_type": "code",
     "collapsed": false,
     "input": [
      "from utils import present_restaurant\n",
      "from IPython.display import display, HTML\n",
      "import re\n",
      "\n",
      "def levenshtein_distance(source, target):\n",
      "    if len(source) < len(target):\n",
      "        return levenshtein_distance(target, source)\n",
      " \n",
      "    # So now we have len(source) >= len(target).\n",
      "    if len(target) == 0:\n",
      "        return len(source)\n",
      " \n",
      "    # We call tuple() to force strings to be used as sequences\n",
      "    # ('c', 'a', 't', 's') - numpy uses them as values by default.\n",
      "    source = np.array(tuple(source))\n",
      "    target = np.array(tuple(target))\n",
      " \n",
      "    # We use a dynamic programming algorithm, but with the\n",
      "    # added optimization that we only need the last two rows\n",
      "    # of the matrix.\n",
      "    previous_row = np.arange(target.size + 1)\n",
      "    for s in source:\n",
      "        # Insertion (target grows longer than source):\n",
      "        current_row = previous_row + 1\n",
      " \n",
      "        # Substitution or matching:\n",
      "        # Target and source items are aligned, and either\n",
      "        # are different (cost of 1), or are the same (cost of 0).\n",
      "        current_row[1:] = np.minimum(\n",
      "                current_row[1:],\n",
      "                np.add(previous_row[:-1], target != s))\n",
      " \n",
      "        # Deletion (target grows shorter than source):\n",
      "        current_row[1:] = np.minimum(\n",
      "                current_row[1:],\n",
      "                current_row[0:-1] + 1)\n",
      " \n",
      "        previous_row = current_row\n",
      " \n",
      "    return previous_row[-1]\n",
      "\n",
      "def search_for_object(self, object_index, topn = 10):\n",
      "    present_restaurant(texts_data[object_index], text = texts[object_index])\n",
      "    display(HTML(\"<small>%d</small>\" % object_index))\n",
      "    for result, distance in self.most_similar_object(object_index, topn=topn):\n",
      "        present_restaurant(texts_data[result], text = texts[result])\n",
      "        display(HTML(\"<small>%d</small>\" % result))\n",
      "        display(HTML(\"\"\"\n",
      "            <div>\n",
      "                <div style='background: rgb(221,222,223);width:102px;padding:1px;border-radius:2px'>\n",
      "                    <div style='height:20px; width:%dpx;padding-left:3px;background-color:rgb(71, 189, 249);font-size:9px;color:white'>\n",
      "                        %.0f%%\n",
      "                    </div>\n",
      "                </div>\n",
      "            </div>\n",
      "            \"\"\" % (int(distance * 100), distance * 100)))\n",
      "def search_with_text(self, text, topn = 10, levenshtein = False):\n",
      "    text = text.lower()\n",
      "    min_distance_index = -1\n",
      "    min_distance = float('inf')\n",
      "    min_distance_word = None\n",
      "    \n",
      "    for i, datum in enumerate(texts_data):\n",
      "        if levenshtein:\n",
      "            min_local_distance = float('inf')\n",
      "            if datum[\"_id\"].lower().find(text) != -1:\n",
      "                min_local_distance = 3\n",
      "                if min_local_distance < min_distance:\n",
      "                    min_distance_word = datum[\"_id\"]\n",
      "                    min_distance = min_local_distance\n",
      "                    min_distance_index = i\n",
      "            for scrap in re.split( \"[ -]\", datum[\"_id\"].lower()) + [datum[\"_id\"].lower()] + datum[\"categories\"]:\n",
      "                min_local_distance = min(min_local_distance, levenshtein_distance(text, scrap))\n",
      "                if min_local_distance < min_distance:\n",
      "                    min_distance_word = scrap\n",
      "                    min_distance = min_local_distance\n",
      "                    min_distance_index = i\n",
      "            if min_distance <= 1:\n",
      "                break\n",
      "        else:\n",
      "            if datum[\"_id\"].lower().find(text) != -1 or datum[\"id\"].lower().find(text) != -1:\n",
      "                min_distance = i\n",
      "                break\n",
      "            for cat in datum[\"categories\"]:\n",
      "                if cat.lower().find(text) != -1:\n",
      "                    min_distance = i\n",
      "                    break\n",
      "            \n",
      "    if min_distance_index == -1 or min_distance == len(text) or min_distance == len(min_distance_word):\n",
      "        print(\"Could not be found\")\n",
      "    else:\n",
      "        if min_distance > 0:\n",
      "            display(HTML(\"\"\"\n",
      "            <span style=\"color: #333\">Did you mean </span> <b>%s</b> <span style=\"color: #333\">(%d edit%s)</span> ?\n",
      "            \"\"\" % (min_distance_word, min_distance, \"s\" if min_distance != 1 else \"\")))\n",
      "        return search_for_object(self, min_distance_index, topn=topn)"
     ],
     "language": "python",
     "metadata": {},
     "outputs": [],
     "prompt_number": 27
    },
    {
     "cell_type": "code",
     "collapsed": false,
     "input": [
      "search_with_text(model, \"Tangerine Thai\", levenshtein= True, topn=5)"
     ],
     "language": "python",
     "metadata": {},
     "outputs": [
      {
       "html": [
        "\n",
        "    <div>\n",
        "        <h2>Tangerine Thai</h2>\n",
        "        <span style='color: #ca0814;'>$$</span><span style='color: #e4e4e4;'>$</span><br /> \n",
        "        <span style='color: #feea60;'>\u2605\u2605\u2605</span><span style='color: #e4e4e4;'>\u2605\u2605</span>\n",
        "        <span style='color:#333;font-size:9px'>6673 words</span>\n",
        "        <br/>\n",
        "        <span style='color:#777:font-size:9px'>Categories: </span><span style='color:#333;font-size:13px'>thai</span>\n",
        "        <p style='width:450px'>review ... ? seattle , wa this is a cute little spot on phinney , with a great wall that completely opens up on nice days . the food is</p>\n",
        "    </div>"
       ],
       "metadata": {},
       "output_type": "display_data",
       "text": [
        "<IPython.core.display.HTML at 0x1629d56d0>"
       ]
      },
      {
       "html": [
        "<small>1796</small>"
       ],
       "metadata": {},
       "output_type": "display_data",
       "text": [
        "<IPython.core.display.HTML at 0x1629d56d0>"
       ]
      },
      {
       "html": [
        "\n",
        "    <div>\n",
        "        <h2>Mae Ploy Thai Cuisine</h2>\n",
        "        <span style='color: #ca0814;'>$$</span><span style='color: #e4e4e4;'>$</span><br /> \n",
        "        <span style='color: #feea60;'>\u2605\u2605\u2605</span><span style='color: #e4e4e4;'>\u2605\u2605</span>\n",
        "        <span style='color:#333;font-size:9px'>5157 words</span>\n",
        "        <br/>\n",
        "        <span style='color:#777:font-size:9px'>Categories: </span><span style='color:#333;font-size:13px'>thai</span>\n",
        "        <p style='width:450px'>the fried tofu was perfect as well . '' '' the curry was spicy and full of vegetables . '' '' the staff is always very nice and recognize me</p>\n",
        "    </div>"
       ],
       "metadata": {},
       "output_type": "display_data",
       "text": [
        "<IPython.core.display.HTML at 0x1629d5750>"
       ]
      },
      {
       "html": [
        "<small>1911</small>"
       ],
       "metadata": {},
       "output_type": "display_data",
       "text": [
        "<IPython.core.display.HTML at 0x1629d5750>"
       ]
      },
      {
       "html": [
        "\n",
        "            <div>\n",
        "                <div style='background: rgb(221,222,223);width:102px;padding:1px;border-radius:2px'>\n",
        "                    <div style='height:20px; width:98px;padding-left:3px;background-color:rgb(71, 189, 249);font-size:9px;color:white'>\n",
        "                        99%\n",
        "                    </div>\n",
        "                </div>\n",
        "            </div>\n",
        "            "
       ],
       "metadata": {},
       "output_type": "display_data",
       "text": [
        "<IPython.core.display.HTML at 0x1629d5750>"
       ]
      },
      {
       "html": [
        "\n",
        "    <div>\n",
        "        <h2>Pailin Thai Cuisine</h2>\n",
        "        <span style='color: #ca0814;'>$$</span><span style='color: #e4e4e4;'>$</span><br /> \n",
        "        <span style='color: #feea60;'>\u2605\u2605\u2605</span><span style='color: #e4e4e4;'>\u2605\u2605</span>\n",
        "        <span style='color:#333;font-size:9px'>5445 words</span>\n",
        "        <br/>\n",
        "        <span style='color:#777:font-size:9px'>Categories: </span><span style='color:#333;font-size:13px'>thai</span>\n",
        "        <p style='width:450px'>k . '' love the fish tank , really cool to look at . '' '' i 'm kind of in a rut , since i usually get the phad</p>\n",
        "    </div>"
       ],
       "metadata": {},
       "output_type": "display_data",
       "text": [
        "<IPython.core.display.HTML at 0x1629d5750>"
       ]
      },
      {
       "html": [
        "<small>2055</small>"
       ],
       "metadata": {},
       "output_type": "display_data",
       "text": [
        "<IPython.core.display.HTML at 0x1629d5750>"
       ]
      },
      {
       "html": [
        "\n",
        "            <div>\n",
        "                <div style='background: rgb(221,222,223);width:102px;padding:1px;border-radius:2px'>\n",
        "                    <div style='height:20px; width:98px;padding-left:3px;background-color:rgb(71, 189, 249);font-size:9px;color:white'>\n",
        "                        98%\n",
        "                    </div>\n",
        "                </div>\n",
        "            </div>\n",
        "            "
       ],
       "metadata": {},
       "output_type": "display_data",
       "text": [
        "<IPython.core.display.HTML at 0x1629d5750>"
       ]
      },
      {
       "html": [
        "\n",
        "    <div>\n",
        "        <h2>Thailanding On Alki</h2>\n",
        "        <span style='color: #ca0814;'>$$</span><span style='color: #e4e4e4;'>$</span><br /> \n",
        "        <span style='color: #feea60;'>\u2605\u2605\u2605</span><span style='color: #e4e4e4;'>\u2605\u2605</span>\n",
        "        <span style='color:#333;font-size:9px'>7453 words</span>\n",
        "        <br/>\n",
        "        <span style='color:#777:font-size:9px'>Categories: </span><span style='color:#333;font-size:13px'>thai</span>\n",
        "        <p style='width:450px'>of all the service was amazing ! ! ! they genuinely cared if we liked the food or not . second , the food was great . i had the</p>\n",
        "    </div>"
       ],
       "metadata": {},
       "output_type": "display_data",
       "text": [
        "<IPython.core.display.HTML at 0x1629d5750>"
       ]
      },
      {
       "html": [
        "<small>2030</small>"
       ],
       "metadata": {},
       "output_type": "display_data",
       "text": [
        "<IPython.core.display.HTML at 0x1629d5750>"
       ]
      },
      {
       "html": [
        "\n",
        "            <div>\n",
        "                <div style='background: rgb(221,222,223);width:102px;padding:1px;border-radius:2px'>\n",
        "                    <div style='height:20px; width:98px;padding-left:3px;background-color:rgb(71, 189, 249);font-size:9px;color:white'>\n",
        "                        98%\n",
        "                    </div>\n",
        "                </div>\n",
        "            </div>\n",
        "            "
       ],
       "metadata": {},
       "output_type": "display_data",
       "text": [
        "<IPython.core.display.HTML at 0x1629d5750>"
       ]
      },
      {
       "html": [
        "\n",
        "    <div>\n",
        "        <h2>Ying Thai Kitchen</h2>\n",
        "        <span style='color: #ca0814;'>$$</span><span style='color: #e4e4e4;'>$</span><br /> \n",
        "        <span style='color: #feea60;'>\u2605\u2605\u2605</span><span style='color: #e4e4e4;'>\u2605\u2605</span>\n",
        "        <span style='color:#333;font-size:9px'>7349 words</span>\n",
        "        <br/>\n",
        "        <span style='color:#777:font-size:9px'>Categories: </span><span style='color:#333;font-size:13px'>thai</span>\n",
        "        <p style='width:450px'>. they are very happy about this place 's food which means good sign ! was this review ... ? seattle , wa i had not had thai food in</p>\n",
        "    </div>"
       ],
       "metadata": {},
       "output_type": "display_data",
       "text": [
        "<IPython.core.display.HTML at 0x1629d5750>"
       ]
      },
      {
       "html": [
        "<small>1928</small>"
       ],
       "metadata": {},
       "output_type": "display_data",
       "text": [
        "<IPython.core.display.HTML at 0x1629d5750>"
       ]
      },
      {
       "html": [
        "\n",
        "            <div>\n",
        "                <div style='background: rgb(221,222,223);width:102px;padding:1px;border-radius:2px'>\n",
        "                    <div style='height:20px; width:97px;padding-left:3px;background-color:rgb(71, 189, 249);font-size:9px;color:white'>\n",
        "                        98%\n",
        "                    </div>\n",
        "                </div>\n",
        "            </div>\n",
        "            "
       ],
       "metadata": {},
       "output_type": "display_data",
       "text": [
        "<IPython.core.display.HTML at 0x1629d5750>"
       ]
      },
      {
       "html": [
        "\n",
        "    <div>\n",
        "        <h2>Royal Palm Thai Restaurant</h2>\n",
        "        <span style='color: #ca0814;'>$$</span><span style='color: #e4e4e4;'>$</span><br /> \n",
        "        <span style='color: #feea60;'>\u2605\u2605\u2605</span><span style='color: #e4e4e4;'>\u2605\u2605</span>\n",
        "        <span style='color:#333;font-size:9px'>5487 words</span>\n",
        "        <br/>\n",
        "        <span style='color:#777:font-size:9px'>Categories: </span><span style='color:#333;font-size:13px'>thai</span>\n",
        "        <p style='width:450px'>driving as i wanted to try a different place . i ordered the 4 star out of 5 , gluten-free , gang ped ( red curry , duck , pineapple</p>\n",
        "    </div>"
       ],
       "metadata": {},
       "output_type": "display_data",
       "text": [
        "<IPython.core.display.HTML at 0x1629d5750>"
       ]
      },
      {
       "html": [
        "<small>1949</small>"
       ],
       "metadata": {},
       "output_type": "display_data",
       "text": [
        "<IPython.core.display.HTML at 0x1629d5750>"
       ]
      },
      {
       "html": [
        "\n",
        "            <div>\n",
        "                <div style='background: rgb(221,222,223);width:102px;padding:1px;border-radius:2px'>\n",
        "                    <div style='height:20px; width:97px;padding-left:3px;background-color:rgb(71, 189, 249);font-size:9px;color:white'>\n",
        "                        98%\n",
        "                    </div>\n",
        "                </div>\n",
        "            </div>\n",
        "            "
       ],
       "metadata": {},
       "output_type": "display_data",
       "text": [
        "<IPython.core.display.HTML at 0x1629d5750>"
       ]
      }
     ],
     "prompt_number": 45
    },
    {
     "cell_type": "code",
     "collapsed": false,
     "input": [
      "search_with_text(model, \"burgez\", levenshtein= True, topn=5)"
     ],
     "language": "python",
     "metadata": {},
     "outputs": [
      {
       "html": [
        "\n",
        "            <span style=\"color: #333\">Did you mean </span> <b>burger</b> <span style=\"color: #333\">(1 edit)</span> ?\n",
        "            "
       ],
       "metadata": {},
       "output_type": "display_data",
       "text": [
        "<IPython.core.display.HTML at 0x1629d54d0>"
       ]
      },
      {
       "html": [
        "\n",
        "    <div>\n",
        "        <h2>burger-king-seattle-6</h2>\n",
        "        <span style='color: #ca0814;'>$</span><span style='color: #e4e4e4;'>$$</span><br /> \n",
        "        <span style='color: #feea60;'>\u2605\u2605\u2605</span><span style='color: #e4e4e4;'>\u2605\u2605</span>\n",
        "        <span style='color:#333;font-size:9px'>1059 words</span>\n",
        "        <br/>\n",
        "        <span style='color:#777:font-size:9px'>Categories: </span><span style='color:#333;font-size:13px'>burgers, hotdogs</span>\n",
        "        <p style='width:450px'>lunch . i met with two other people here during the rush and i 'm surprised that all of us made it out alive as first-timers . i had a</p>\n",
        "    </div>"
       ],
       "metadata": {},
       "output_type": "display_data",
       "text": [
        "<IPython.core.display.HTML at 0x10dfeb790>"
       ]
      },
      {
       "html": [
        "<small>30</small>"
       ],
       "metadata": {},
       "output_type": "display_data",
       "text": [
        "<IPython.core.display.HTML at 0x10dfeb790>"
       ]
      },
      {
       "html": [
        "\n",
        "    <div>\n",
        "        <h2>herfys-seattle</h2>\n",
        "        <span style='color: #ca0814;'>$</span><span style='color: #e4e4e4;'>$$</span><br /> \n",
        "        <span style='color: #feea60;'>\u2605\u2605\u2605</span><span style='color: #e4e4e4;'>\u2605\u2605</span>\n",
        "        <span style='color:#333;font-size:9px'>4541 words</span>\n",
        "        <br/>\n",
        "        <span style='color:#777:font-size:9px'>Categories: </span><span style='color:#333;font-size:13px'>burgers, hotdogs</span>\n",
        "        <p style='width:450px'>! it 's not very pretty , but i care more about the taste of the food than decor . i always special order my burger ... they have never</p>\n",
        "    </div>"
       ],
       "metadata": {},
       "output_type": "display_data",
       "text": [
        "<IPython.core.display.HTML at 0x1629d54d0>"
       ]
      },
      {
       "html": [
        "<small>58</small>"
       ],
       "metadata": {},
       "output_type": "display_data",
       "text": [
        "<IPython.core.display.HTML at 0x1629d54d0>"
       ]
      },
      {
       "html": [
        "\n",
        "            <div>\n",
        "                <div style='background: rgb(221,222,223);width:102px;padding:1px;border-radius:2px'>\n",
        "                    <div style='height:20px; width:88px;padding-left:3px;background-color:rgb(71, 189, 249);font-size:9px;color:white'>\n",
        "                        88%\n",
        "                    </div>\n",
        "                </div>\n",
        "            </div>\n",
        "            "
       ],
       "metadata": {},
       "output_type": "display_data",
       "text": [
        "<IPython.core.display.HTML at 0x1629d54d0>"
       ]
      },
      {
       "html": [
        "\n",
        "    <div>\n",
        "        <h2>kidd-valley-seattle-3</h2>\n",
        "        <span style='color: #ca0814;'>$</span><span style='color: #e4e4e4;'>$$</span><br /> \n",
        "        <span style='color: #feea60;'>\u2605\u2605\u2605</span><span style='color: #e4e4e4;'>\u2605\u2605</span>\n",
        "        <span style='color:#333;font-size:9px'>4060 words</span>\n",
        "        <br/>\n",
        "        <span style='color:#777:font-size:9px'>Categories: </span><span style='color:#333;font-size:13px'>burgers, hotdogs</span>\n",
        "        <p style='width:450px'>who works retail i can tell when someone is being helpful because they want to , and someone who is being helpful because they have too . tyrone was definitely</p>\n",
        "    </div>"
       ],
       "metadata": {},
       "output_type": "display_data",
       "text": [
        "<IPython.core.display.HTML at 0x1629d54d0>"
       ]
      },
      {
       "html": [
        "<small>622</small>"
       ],
       "metadata": {},
       "output_type": "display_data",
       "text": [
        "<IPython.core.display.HTML at 0x1629d54d0>"
       ]
      },
      {
       "html": [
        "\n",
        "            <div>\n",
        "                <div style='background: rgb(221,222,223);width:102px;padding:1px;border-radius:2px'>\n",
        "                    <div style='height:20px; width:84px;padding-left:3px;background-color:rgb(71, 189, 249);font-size:9px;color:white'>\n",
        "                        85%\n",
        "                    </div>\n",
        "                </div>\n",
        "            </div>\n",
        "            "
       ],
       "metadata": {},
       "output_type": "display_data",
       "text": [
        "<IPython.core.display.HTML at 0x1629d54d0>"
       ]
      },
      {
       "html": [
        "\n",
        "    <div>\n",
        "        <h2>mcdonalds-edmonds-2</h2>\n",
        "        <span style='color: #ca0814;'>$</span><span style='color: #e4e4e4;'>$$</span><br /> \n",
        "        <span style='color: #feea60;'>\u2605\u2605\u2605</span><span style='color: #e4e4e4;'>\u2605\u2605</span>\n",
        "        <span style='color:#333;font-size:9px'>1484 words</span>\n",
        "        <br/>\n",
        "        <span style='color:#777:font-size:9px'>Categories: </span><span style='color:#333;font-size:13px'>burgers, hotdogs</span>\n",
        "        <p style='width:450px'>gave it a try ... i like the no frill atmosphere , its simple and i like that . the menu is equally as simple ... the richie burgers or</p>\n",
        "    </div>"
       ],
       "metadata": {},
       "output_type": "display_data",
       "text": [
        "<IPython.core.display.HTML at 0x1629d54d0>"
       ]
      },
      {
       "html": [
        "<small>888</small>"
       ],
       "metadata": {},
       "output_type": "display_data",
       "text": [
        "<IPython.core.display.HTML at 0x1629d54d0>"
       ]
      },
      {
       "html": [
        "\n",
        "            <div>\n",
        "                <div style='background: rgb(221,222,223);width:102px;padding:1px;border-radius:2px'>\n",
        "                    <div style='height:20px; width:80px;padding-left:3px;background-color:rgb(71, 189, 249);font-size:9px;color:white'>\n",
        "                        80%\n",
        "                    </div>\n",
        "                </div>\n",
        "            </div>\n",
        "            "
       ],
       "metadata": {},
       "output_type": "display_data",
       "text": [
        "<IPython.core.display.HTML at 0x1629d54d0>"
       ]
      },
      {
       "html": [
        "\n",
        "    <div>\n",
        "        <h2>jack-in-the-box-seattle-5</h2>\n",
        "        <span style='color: #ca0814;'>$</span><span style='color: #e4e4e4;'>$$</span><br /> \n",
        "        <span style='color: #feea60;'>\u2605\u2605\u2605</span><span style='color: #e4e4e4;'>\u2605\u2605</span>\n",
        "        <span style='color:#333;font-size:9px'>1877 words</span>\n",
        "        <br/>\n",
        "        <span style='color:#777:font-size:9px'>Categories: </span><span style='color:#333;font-size:13px'>burgers, hotdogs</span>\n",
        "        <p style='width:450px'>. i met with two other people here during the rush and i 'm surprised that all of us made it out alive as first-timers . i had a bacon</p>\n",
        "    </div>"
       ],
       "metadata": {},
       "output_type": "display_data",
       "text": [
        "<IPython.core.display.HTML at 0x1629d54d0>"
       ]
      },
      {
       "html": [
        "<small>796</small>"
       ],
       "metadata": {},
       "output_type": "display_data",
       "text": [
        "<IPython.core.display.HTML at 0x1629d54d0>"
       ]
      },
      {
       "html": [
        "\n",
        "            <div>\n",
        "                <div style='background: rgb(221,222,223);width:102px;padding:1px;border-radius:2px'>\n",
        "                    <div style='height:20px; width:79px;padding-left:3px;background-color:rgb(71, 189, 249);font-size:9px;color:white'>\n",
        "                        80%\n",
        "                    </div>\n",
        "                </div>\n",
        "            </div>\n",
        "            "
       ],
       "metadata": {},
       "output_type": "display_data",
       "text": [
        "<IPython.core.display.HTML at 0x1629d54d0>"
       ]
      },
      {
       "html": [
        "\n",
        "    <div>\n",
        "        <h2>wendys-seatac</h2>\n",
        "        <span style='color: #ca0814;'>$</span><span style='color: #e4e4e4;'>$$</span><br /> \n",
        "        <span style='color: #feea60;'>\u2605\u2605\u2605</span><span style='color: #e4e4e4;'>\u2605\u2605</span>\n",
        "        <span style='color:#333;font-size:9px'>1431 words</span>\n",
        "        <br/>\n",
        "        <span style='color:#777:font-size:9px'>Categories: </span><span style='color:#333;font-size:13px'>hotdogs, burgers</span>\n",
        "        <p style='width:450px'>frosty . winning . and they made it in like two seconds , while i was still putting the change in my pocket from ordering . was this review ...</p>\n",
        "    </div>"
       ],
       "metadata": {},
       "output_type": "display_data",
       "text": [
        "<IPython.core.display.HTML at 0x1629d54d0>"
       ]
      },
      {
       "html": [
        "<small>1611</small>"
       ],
       "metadata": {},
       "output_type": "display_data",
       "text": [
        "<IPython.core.display.HTML at 0x1629d54d0>"
       ]
      },
      {
       "html": [
        "\n",
        "            <div>\n",
        "                <div style='background: rgb(221,222,223);width:102px;padding:1px;border-radius:2px'>\n",
        "                    <div style='height:20px; width:79px;padding-left:3px;background-color:rgb(71, 189, 249);font-size:9px;color:white'>\n",
        "                        79%\n",
        "                    </div>\n",
        "                </div>\n",
        "            </div>\n",
        "            "
       ],
       "metadata": {},
       "output_type": "display_data",
       "text": [
        "<IPython.core.display.HTML at 0x1629d54d0>"
       ]
      }
     ],
     "prompt_number": 26
    },
    {
     "cell_type": "code",
     "collapsed": false,
     "input": [
      "search_with_text(model, \"chinese\", levenshtein= True, topn=5)"
     ],
     "language": "python",
     "metadata": {},
     "outputs": [
      {
       "html": [
        "\n",
        "    <div>\n",
        "        <h2>othello-wok-and-teriyaki-seattle</h2>\n",
        "        <span style='color: #ca0814;'>$$</span><span style='color: #e4e4e4;'>$</span><br /> \n",
        "        <span style='color: #feea60;'>\u2605\u2605\u2605\u2605</span><span style='color: #e4e4e4;'>\u2605</span>\n",
        "        <span style='color:#333;font-size:9px'>2008 words</span>\n",
        "        <br/>\n",
        "        <span style='color:#777:font-size:9px'>Categories: </span><span style='color:#333;font-size:13px'>chinese, japanese</span>\n",
        "        <p style='width:450px'>in bellevue . i tried the teppanyaki fillet mignon , the new york steak , the shrimp and the scallops . they were all good cooked and had a smooth</p>\n",
        "    </div>"
       ],
       "metadata": {},
       "output_type": "display_data",
       "text": [
        "<IPython.core.display.HTML at 0x1629d5f10>"
       ]
      },
      {
       "html": [
        "<small>16</small>"
       ],
       "metadata": {},
       "output_type": "display_data",
       "text": [
        "<IPython.core.display.HTML at 0x1629d5f10>"
       ]
      },
      {
       "html": [
        "\n",
        "    <div>\n",
        "        <h2>Othello Wok and Teriyaki</h2>\n",
        "        <span style='color: #ca0814;'>$$</span><span style='color: #e4e4e4;'>$</span><br /> \n",
        "        <span style='color: #feea60;'>\u2605\u2605\u2605\u2605</span><span style='color: #e4e4e4;'>\u2605</span>\n",
        "        <span style='color:#333;font-size:9px'>2020 words</span>\n",
        "        <br/>\n",
        "        <span style='color:#777:font-size:9px'>Categories: </span><span style='color:#333;font-size:13px'>chinese, japanese</span>\n",
        "        <p style='width:450px'>teriyaki , seattle , wa by daren d . peter b . said `` read the reviews that said `` get the green onion pancake , `` came on in</p>\n",
        "    </div>"
       ],
       "metadata": {},
       "output_type": "display_data",
       "text": [
        "<IPython.core.display.HTML at 0x1629d5850>"
       ]
      },
      {
       "html": [
        "<small>1575</small>"
       ],
       "metadata": {},
       "output_type": "display_data",
       "text": [
        "<IPython.core.display.HTML at 0x1629d5850>"
       ]
      },
      {
       "html": [
        "\n",
        "            <div>\n",
        "                <div style='background: rgb(221,222,223);width:102px;padding:1px;border-radius:2px'>\n",
        "                    <div style='height:20px; width:87px;padding-left:3px;background-color:rgb(71, 189, 249);font-size:9px;color:white'>\n",
        "                        88%\n",
        "                    </div>\n",
        "                </div>\n",
        "            </div>\n",
        "            "
       ],
       "metadata": {},
       "output_type": "display_data",
       "text": [
        "<IPython.core.display.HTML at 0x1629d5850>"
       ]
      },
      {
       "html": [
        "\n",
        "    <div>\n",
        "        <h2>new-teriyaki-seattle</h2>\n",
        "        <span style='color: #ca0814;'>$</span><span style='color: #e4e4e4;'>$$</span><br /> \n",
        "        <span style='color: #feea60;'>\u2605\u2605\u2605\u2605</span><span style='color: #e4e4e4;'>\u2605</span>\n",
        "        <span style='color:#333;font-size:9px'>2997 words</span>\n",
        "        <br/>\n",
        "        <span style='color:#777:font-size:9px'>Categories: </span><span style='color:#333;font-size:13px'>japanese, chinese</span>\n",
        "        <p style='width:450px'>super good too . '' '' i 've never gotten anything else because the teriyaki is so good . '' '' general tso chicken is hot & spicy but yummy</p>\n",
        "    </div>"
       ],
       "metadata": {},
       "output_type": "display_data",
       "text": [
        "<IPython.core.display.HTML at 0x1629d5850>"
       ]
      },
      {
       "html": [
        "<small>246</small>"
       ],
       "metadata": {},
       "output_type": "display_data",
       "text": [
        "<IPython.core.display.HTML at 0x1629d5850>"
       ]
      },
      {
       "html": [
        "\n",
        "            <div>\n",
        "                <div style='background: rgb(221,222,223);width:102px;padding:1px;border-radius:2px'>\n",
        "                    <div style='height:20px; width:84px;padding-left:3px;background-color:rgb(71, 189, 249);font-size:9px;color:white'>\n",
        "                        85%\n",
        "                    </div>\n",
        "                </div>\n",
        "            </div>\n",
        "            "
       ],
       "metadata": {},
       "output_type": "display_data",
       "text": [
        "<IPython.core.display.HTML at 0x1629d5850>"
       ]
      },
      {
       "html": [
        "\n",
        "    <div>\n",
        "        <h2>toshis-teriyaki-seattle-3</h2>\n",
        "        <span style='color: #ca0814;'>$$</span><span style='color: #e4e4e4;'>$</span><br /> \n",
        "        <span style='color: #feea60;'>\u2605\u2605</span><span style='color: #e4e4e4;'>\u2605\u2605\u2605</span>\n",
        "        <span style='color:#333;font-size:9px'>4818 words</span>\n",
        "        <br/>\n",
        "        <span style='color:#777:font-size:9px'>Categories: </span><span style='color:#333;font-size:13px'>japanese, chinese</span>\n",
        "        <p style='width:450px'>new addition to the broadway food scene . thai & sushi you say ? madness ! this means i can enjoy sushi while my boyfriend enjoys his favorite noodle dishes</p>\n",
        "    </div>"
       ],
       "metadata": {},
       "output_type": "display_data",
       "text": [
        "<IPython.core.display.HTML at 0x1629d5850>"
       ]
      },
      {
       "html": [
        "<small>629</small>"
       ],
       "metadata": {},
       "output_type": "display_data",
       "text": [
        "<IPython.core.display.HTML at 0x1629d5850>"
       ]
      },
      {
       "html": [
        "\n",
        "            <div>\n",
        "                <div style='background: rgb(221,222,223);width:102px;padding:1px;border-radius:2px'>\n",
        "                    <div style='height:20px; width:83px;padding-left:3px;background-color:rgb(71, 189, 249);font-size:9px;color:white'>\n",
        "                        84%\n",
        "                    </div>\n",
        "                </div>\n",
        "            </div>\n",
        "            "
       ],
       "metadata": {},
       "output_type": "display_data",
       "text": [
        "<IPython.core.display.HTML at 0x1629d5850>"
       ]
      },
      {
       "html": [
        "\n",
        "    <div>\n",
        "        <h2>Teriyaki Bowl</h2>\n",
        "        <span style='color: #ca0814;'>$</span><span style='color: #e4e4e4;'>$$</span><br /> \n",
        "        <span style='color: #feea60;'>\u2605\u2605\u2605\u2605</span><span style='color: #e4e4e4;'>\u2605</span>\n",
        "        <span style='color:#333;font-size:9px'>2153 words</span>\n",
        "        <br/>\n",
        "        <span style='color:#777:font-size:9px'>Categories: </span><span style='color:#333;font-size:13px'>chinese, japanese</span>\n",
        "        <p style='width:450px'>great food here . i usually order the chicken katsu curry , and it is the bomb . you wo n't be disappointed . was this review ... ? kirkland</p>\n",
        "    </div>"
       ],
       "metadata": {},
       "output_type": "display_data",
       "text": [
        "<IPython.core.display.HTML at 0x1629d5850>"
       ]
      },
      {
       "html": [
        "<small>365</small>"
       ],
       "metadata": {},
       "output_type": "display_data",
       "text": [
        "<IPython.core.display.HTML at 0x1629d5850>"
       ]
      },
      {
       "html": [
        "\n",
        "            <div>\n",
        "                <div style='background: rgb(221,222,223);width:102px;padding:1px;border-radius:2px'>\n",
        "                    <div style='height:20px; width:83px;padding-left:3px;background-color:rgb(71, 189, 249);font-size:9px;color:white'>\n",
        "                        83%\n",
        "                    </div>\n",
        "                </div>\n",
        "            </div>\n",
        "            "
       ],
       "metadata": {},
       "output_type": "display_data",
       "text": [
        "<IPython.core.display.HTML at 0x1629d5850>"
       ]
      },
      {
       "html": [
        "\n",
        "    <div>\n",
        "        <h2>Teriyaki Seven</h2>\n",
        "        <span style='color: #ca0814;'>$</span><span style='color: #e4e4e4;'>$$</span><br /> \n",
        "        <span style='color: #feea60;'>\u2605\u2605\u2605\u2605</span><span style='color: #e4e4e4;'>\u2605</span>\n",
        "        <span style='color:#333;font-size:9px'>2101 words</span>\n",
        "        <br/>\n",
        "        <span style='color:#777:font-size:9px'>Categories: </span><span style='color:#333;font-size:13px'>japanese, chinese</span>\n",
        "        <p style='width:450px'>to be eating it for , like , several days ? if so , this is your place . i was craving teriyaki a few weeks ago and searched yelp</p>\n",
        "    </div>"
       ],
       "metadata": {},
       "output_type": "display_data",
       "text": [
        "<IPython.core.display.HTML at 0x1629d5850>"
       ]
      },
      {
       "html": [
        "<small>180</small>"
       ],
       "metadata": {},
       "output_type": "display_data",
       "text": [
        "<IPython.core.display.HTML at 0x1629d5850>"
       ]
      },
      {
       "html": [
        "\n",
        "            <div>\n",
        "                <div style='background: rgb(221,222,223);width:102px;padding:1px;border-radius:2px'>\n",
        "                    <div style='height:20px; width:80px;padding-left:3px;background-color:rgb(71, 189, 249);font-size:9px;color:white'>\n",
        "                        80%\n",
        "                    </div>\n",
        "                </div>\n",
        "            </div>\n",
        "            "
       ],
       "metadata": {},
       "output_type": "display_data",
       "text": [
        "<IPython.core.display.HTML at 0x1629d5850>"
       ]
      }
     ],
     "prompt_number": 58
    },
    {
     "cell_type": "code",
     "collapsed": false,
     "input": [
      "for i, datum in enumerate(texts_data):\n",
      "    if datum[\"_id\"] == \"The Lemongrass\":\n",
      "        print(\"yes\", i)"
     ],
     "language": "python",
     "metadata": {},
     "outputs": [
      {
       "output_type": "stream",
       "stream": "stdout",
       "text": [
        "yes 1334\n"
       ]
      }
     ],
     "prompt_number": 8
    },
    {
     "cell_type": "code",
     "collapsed": false,
     "input": [
      "search_with_text(model, \"lemongrass\", levenshtein= True, topn=5)"
     ],
     "language": "python",
     "metadata": {},
     "outputs": [
      {
       "html": [
        "\n",
        "    <div>\n",
        "        <h2>The Lemongrass</h2>\n",
        "        <span style='color: #ca0814;'>$$$$</span><span style='color: #e4e4e4;'></span><br /> \n",
        "        <span style='color: #feea60;'>\u2605\u2605\u2605</span><span style='color: #e4e4e4;'>\u2605\u2605</span>\n",
        "        <span style='color:#333;font-size:9px'>1257 words</span>\n",
        "        <br/>\n",
        "        <span style='color:#777:font-size:9px'>Categories: </span><span style='color:#333;font-size:13px'>vietnamese</span>\n",
        "        <p style='width:450px'>looking for flavorful warms your heart filled with love goodness , than this is the place . they have an awesome selection of authentic vietnamese food . i had the</p>\n",
        "    </div>"
       ],
       "metadata": {},
       "output_type": "display_data",
       "text": [
        "<IPython.core.display.HTML at 0x15e231150>"
       ]
      },
      {
       "html": [
        "\n",
        "    <div>\n",
        "        <h2>Fremont 1AM</h2>\n",
        "        <span style='color: #ca0814;'>$$</span><span style='color: #e4e4e4;'>$</span><br /> \n",
        "        <span style='color: #feea60;'>\u2605\u2605\u2605</span><span style='color: #e4e4e4;'>\u2605\u2605</span>\n",
        "        <span style='color:#333;font-size:9px'>3925 words</span>\n",
        "        <br/>\n",
        "        <span style='color:#777:font-size:9px'>Categories: </span><span style='color:#333;font-size:13px'>vietnamese</span>\n",
        "        <p style='width:450px'>bowl pho ... despite their poorly chosen name . the tofu spring rolls are warm , full of noodles , and delicious . especially when smothered in their extra good</p>\n",
        "    </div>"
       ],
       "metadata": {},
       "output_type": "display_data",
       "text": [
        "<IPython.core.display.HTML at 0x15e231150>"
       ]
      },
      {
       "html": [
        "\n",
        "            <div>\n",
        "                <div style='background: rgb(221,222,223);width:102px;padding:1px;border-radius:2px'>\n",
        "                    <div style='height:20px; width:76px;padding-left:3px;background-color:rgb(71, 189, 249);font-size:9px;color:white'>\n",
        "                        76%\n",
        "                    </div>\n",
        "                </div>\n",
        "            </div>\n",
        "            "
       ],
       "metadata": {},
       "output_type": "display_data",
       "text": [
        "<IPython.core.display.HTML at 0x15e231150>"
       ]
      },
      {
       "html": [
        "\n",
        "    <div>\n",
        "        <h2>pho-vietnam-seattle</h2>\n",
        "        <span style='color: #ca0814;'>$</span><span style='color: #e4e4e4;'>$$</span><br /> \n",
        "        <span style='color: #feea60;'>\u2605\u2605\u2605</span><span style='color: #e4e4e4;'>\u2605\u2605</span>\n",
        "        <span style='color:#333;font-size:9px'>5447 words</span>\n",
        "        <br/>\n",
        "        <span style='color:#777:font-size:9px'>Categories: </span><span style='color:#333;font-size:13px'>vietnamese</span>\n",
        "        <p style='width:450px'>thai and the simple staples that you come to expect like fresh spring rolls are very good here . it 's everything that you want from simple thai food as</p>\n",
        "    </div>"
       ],
       "metadata": {},
       "output_type": "display_data",
       "text": [
        "<IPython.core.display.HTML at 0x15e231150>"
       ]
      },
      {
       "html": [
        "\n",
        "            <div>\n",
        "                <div style='background: rgb(221,222,223);width:102px;padding:1px;border-radius:2px'>\n",
        "                    <div style='height:20px; width:75px;padding-left:3px;background-color:rgb(71, 189, 249);font-size:9px;color:white'>\n",
        "                        75%\n",
        "                    </div>\n",
        "                </div>\n",
        "            </div>\n",
        "            "
       ],
       "metadata": {},
       "output_type": "display_data",
       "text": [
        "<IPython.core.display.HTML at 0x15e231150>"
       ]
      },
      {
       "html": [
        "\n",
        "    <div>\n",
        "        <h2>b\u00fan-vietnamese-creative-rice-noodles-seattle</h2>\n",
        "        <span style='color: #ca0814;'>$$</span><span style='color: #e4e4e4;'>$</span><br /> \n",
        "        <span style='color: #feea60;'>\u2605\u2605\u2605</span><span style='color: #e4e4e4;'>\u2605\u2605</span>\n",
        "        <span style='color:#333;font-size:9px'>7072 words</span>\n",
        "        <br/>\n",
        "        <span style='color:#777:font-size:9px'>Categories: </span><span style='color:#333;font-size:13px'>vietnamese</span>\n",
        "        <p style='width:450px'>at thanh vi features the freshest ... read more '' mountain view , ca i like that this place is clean compared to other vietnamese restaurants in the area .</p>\n",
        "    </div>"
       ],
       "metadata": {},
       "output_type": "display_data",
       "text": [
        "<IPython.core.display.HTML at 0x15e231150>"
       ]
      },
      {
       "html": [
        "\n",
        "            <div>\n",
        "                <div style='background: rgb(221,222,223);width:102px;padding:1px;border-radius:2px'>\n",
        "                    <div style='height:20px; width:75px;padding-left:3px;background-color:rgb(71, 189, 249);font-size:9px;color:white'>\n",
        "                        75%\n",
        "                    </div>\n",
        "                </div>\n",
        "            </div>\n",
        "            "
       ],
       "metadata": {},
       "output_type": "display_data",
       "text": [
        "<IPython.core.display.HTML at 0x15e231150>"
       ]
      },
      {
       "html": [
        "\n",
        "    <div>\n",
        "        <h2>fremont-1am-seattle</h2>\n",
        "        <span style='color: #ca0814;'>$$</span><span style='color: #e4e4e4;'>$</span><br /> \n",
        "        <span style='color: #feea60;'>\u2605\u2605\u2605</span><span style='color: #e4e4e4;'>\u2605\u2605</span>\n",
        "        <span style='color:#333;font-size:9px'>3985 words</span>\n",
        "        <br/>\n",
        "        <span style='color:#777:font-size:9px'>Categories: </span><span style='color:#333;font-size:13px'>vietnamese</span>\n",
        "        <p style='width:450px'>thai and the simple staples that you come to expect like fresh spring rolls are very good here . it 's everything that you want from simple thai food as</p>\n",
        "    </div>"
       ],
       "metadata": {},
       "output_type": "display_data",
       "text": [
        "<IPython.core.display.HTML at 0x15e231150>"
       ]
      },
      {
       "html": [
        "\n",
        "            <div>\n",
        "                <div style='background: rgb(221,222,223);width:102px;padding:1px;border-radius:2px'>\n",
        "                    <div style='height:20px; width:74px;padding-left:3px;background-color:rgb(71, 189, 249);font-size:9px;color:white'>\n",
        "                        75%\n",
        "                    </div>\n",
        "                </div>\n",
        "            </div>\n",
        "            "
       ],
       "metadata": {},
       "output_type": "display_data",
       "text": [
        "<IPython.core.display.HTML at 0x15e231150>"
       ]
      },
      {
       "html": [
        "\n",
        "    <div>\n",
        "        <h2>Pho Tien</h2>\n",
        "        <span style='color: #ca0814;'>$</span><span style='color: #e4e4e4;'>$$</span><br /> \n",
        "        <span style='color: #feea60;'>\u2605\u2605\u2605</span><span style='color: #e4e4e4;'>\u2605\u2605</span>\n",
        "        <span style='color:#333;font-size:9px'>247 words</span>\n",
        "        <br/>\n",
        "        <span style='color:#777:font-size:9px'>Categories: </span><span style='color:#333;font-size:13px'>vietnamese</span>\n",
        "        <p style='width:450px'>who comes in . today i took the pipster to lunch - started with egg roll and spring roll ( they were just ok ) . we got the lunch</p>\n",
        "    </div>"
       ],
       "metadata": {},
       "output_type": "display_data",
       "text": [
        "<IPython.core.display.HTML at 0x15e231150>"
       ]
      },
      {
       "html": [
        "\n",
        "            <div>\n",
        "                <div style='background: rgb(221,222,223);width:102px;padding:1px;border-radius:2px'>\n",
        "                    <div style='height:20px; width:74px;padding-left:3px;background-color:rgb(71, 189, 249);font-size:9px;color:white'>\n",
        "                        75%\n",
        "                    </div>\n",
        "                </div>\n",
        "            </div>\n",
        "            "
       ],
       "metadata": {},
       "output_type": "display_data",
       "text": [
        "<IPython.core.display.HTML at 0x15e231150>"
       ]
      }
     ],
     "prompt_number": 45
    },
    {
     "cell_type": "code",
     "collapsed": false,
     "input": [
      "search_with_text(model, \"spermarket\", levenshtein= True, topn=5)"
     ],
     "language": "python",
     "metadata": {},
     "outputs": [
      {
       "html": [
        "\n",
        "            <span style=\"color: #333\">Did you mean </span> <b>supermarket</b> <span style=\"color: #333\">(2 edits)</span> ?\n",
        "            "
       ],
       "metadata": {},
       "output_type": "display_data",
       "text": [
        "<IPython.core.display.HTML at 0x164ef1550>"
       ]
      },
      {
       "html": [
        "\n",
        "    <div>\n",
        "        <h2>Seafood City Supermarket</h2>\n",
        "        <span style='color: #ca0814;'>$$</span><span style='color: #e4e4e4;'>$</span><br /> \n",
        "        <span style='color: #feea60;'>\u2605\u2605\u2605\u2605</span><span style='color: #e4e4e4;'>\u2605</span>\n",
        "        <span style='color:#333;font-size:9px'>7768 words</span>\n",
        "        <br/>\n",
        "        <span style='color:#777:font-size:9px'>Categories: </span><span style='color:#333;font-size:13px'>filipino, grocery, seafoodmarkets</span>\n",
        "        <p style='width:450px'>p . seafood city supermarket , tukwila , wa by jill t . '' extensive selection if asian food , fresh fish and produce . '' '' when you walk</p>\n",
        "    </div>"
       ],
       "metadata": {},
       "output_type": "display_data",
       "text": [
        "<IPython.core.display.HTML at 0x10ff72b90>"
       ]
      },
      {
       "html": [
        "\n",
        "    <div>\n",
        "        <h2>seafood-city-supermarket-tukwila</h2>\n",
        "        <span style='color: #ca0814;'>$$</span><span style='color: #e4e4e4;'>$</span><br /> \n",
        "        <span style='color: #feea60;'>\u2605\u2605\u2605\u2605</span><span style='color: #e4e4e4;'>\u2605</span>\n",
        "        <span style='color:#333;font-size:9px'>7928 words</span>\n",
        "        <br/>\n",
        "        <span style='color:#777:font-size:9px'>Categories: </span><span style='color:#333;font-size:13px'>filipino, grocery, seafoodmarkets</span>\n",
        "        <p style='width:450px'>p . seafood city supermarket , tukwila , wa by jill t . '' extensive selection if asian food , fresh fish and produce . '' '' when you walk</p>\n",
        "    </div>"
       ],
       "metadata": {},
       "output_type": "display_data",
       "text": [
        "<IPython.core.display.HTML at 0x10ff72fd0>"
       ]
      },
      {
       "html": [
        "\n",
        "            <div>\n",
        "                <div style='background: rgb(221,222,223);width:102px;padding:1px;border-radius:2px'>\n",
        "                    <div style='height:20px; width:99px;padding-left:3px;background-color:rgb(71, 189, 249);font-size:9px;color:white'>\n",
        "                        99%\n",
        "                    </div>\n",
        "                </div>\n",
        "            </div>\n",
        "            "
       ],
       "metadata": {},
       "output_type": "display_data",
       "text": [
        "<IPython.core.display.HTML at 0x10ff72fd0>"
       ]
      },
      {
       "html": [
        "\n",
        "    <div>\n",
        "        <h2>Isla Manila Bar & Grill</h2>\n",
        "        <span style='color: #ca0814;'>$$</span><span style='color: #e4e4e4;'>$</span><br /> \n",
        "        <span style='color: #feea60;'>\u2605\u2605\u2605\u2605</span><span style='color: #e4e4e4;'>\u2605</span>\n",
        "        <span style='color:#333;font-size:9px'>9063 words</span>\n",
        "        <br/>\n",
        "        <span style='color:#777:font-size:9px'>Categories: </span><span style='color:#333;font-size:13px'>filipino</span>\n",
        "        <p style='width:450px'>... by b . j . '' so filipino dim sum is like heaven on earth . '' '' i also really enjoyed the lumpia and almost filled up on</p>\n",
        "    </div>"
       ],
       "metadata": {},
       "output_type": "display_data",
       "text": [
        "<IPython.core.display.HTML at 0x10ff72fd0>"
       ]
      },
      {
       "html": [
        "\n",
        "            <div>\n",
        "                <div style='background: rgb(221,222,223);width:102px;padding:1px;border-radius:2px'>\n",
        "                    <div style='height:20px; width:77px;padding-left:3px;background-color:rgb(71, 189, 249);font-size:9px;color:white'>\n",
        "                        77%\n",
        "                    </div>\n",
        "                </div>\n",
        "            </div>\n",
        "            "
       ],
       "metadata": {},
       "output_type": "display_data",
       "text": [
        "<IPython.core.display.HTML at 0x10ff72fd0>"
       ]
      },
      {
       "html": [
        "\n",
        "    <div>\n",
        "        <h2>trident-seafoods-seattle</h2>\n",
        "        <span style='color: #ca0814;'>$</span><span style='color: #e4e4e4;'>$$</span><br /> \n",
        "        <span style='color: #feea60;'>\u2605\u2605\u2605\u2605</span><span style='color: #e4e4e4;'>\u2605</span>\n",
        "        <span style='color:#333;font-size:9px'>4914 words</span>\n",
        "        <br/>\n",
        "        <span style='color:#777:font-size:9px'>Categories: </span><span style='color:#333;font-size:13px'>seafood, seafoodmarkets</span>\n",
        "        <p style='width:450px'>on which smoked salmon i wanted . i asked a lot of questions and lo was super duper helpful , patient and friendly . he guided me to the smoked</p>\n",
        "    </div>"
       ],
       "metadata": {},
       "output_type": "display_data",
       "text": [
        "<IPython.core.display.HTML at 0x10ff72fd0>"
       ]
      },
      {
       "html": [
        "\n",
        "            <div>\n",
        "                <div style='background: rgb(221,222,223);width:102px;padding:1px;border-radius:2px'>\n",
        "                    <div style='height:20px; width:75px;padding-left:3px;background-color:rgb(71, 189, 249);font-size:9px;color:white'>\n",
        "                        75%\n",
        "                    </div>\n",
        "                </div>\n",
        "            </div>\n",
        "            "
       ],
       "metadata": {},
       "output_type": "display_data",
       "text": [
        "<IPython.core.display.HTML at 0x10ff72fd0>"
       ]
      },
      {
       "html": [
        "\n",
        "    <div>\n",
        "        <h2>isla-manila-bar-and-grill-seattle</h2>\n",
        "        <span style='color: #ca0814;'>$$</span><span style='color: #e4e4e4;'>$</span><br /> \n",
        "        <span style='color: #feea60;'>\u2605\u2605\u2605\u2605</span><span style='color: #e4e4e4;'>\u2605</span>\n",
        "        <span style='color:#333;font-size:9px'>9384 words</span>\n",
        "        <br/>\n",
        "        <span style='color:#777:font-size:9px'>Categories: </span><span style='color:#333;font-size:13px'>filipino</span>\n",
        "        <p style='width:450px'>been , i will be the happiest person . chan seattle did not disappoint in that respect . i finally made it to the restaurant on christmas eve to start</p>\n",
        "    </div>"
       ],
       "metadata": {},
       "output_type": "display_data",
       "text": [
        "<IPython.core.display.HTML at 0x10ff72fd0>"
       ]
      },
      {
       "html": [
        "\n",
        "            <div>\n",
        "                <div style='background: rgb(221,222,223);width:102px;padding:1px;border-radius:2px'>\n",
        "                    <div style='height:20px; width:74px;padding-left:3px;background-color:rgb(71, 189, 249);font-size:9px;color:white'>\n",
        "                        75%\n",
        "                    </div>\n",
        "                </div>\n",
        "            </div>\n",
        "            "
       ],
       "metadata": {},
       "output_type": "display_data",
       "text": [
        "<IPython.core.display.HTML at 0x10ff72fd0>"
       ]
      },
      {
       "html": [
        "\n",
        "    <div>\n",
        "        <h2>Trident Seafoods</h2>\n",
        "        <span style='color: #ca0814;'>$</span><span style='color: #e4e4e4;'>$$</span><br /> \n",
        "        <span style='color: #feea60;'>\u2605\u2605\u2605\u2605</span><span style='color: #e4e4e4;'>\u2605</span>\n",
        "        <span style='color:#333;font-size:9px'>4914 words</span>\n",
        "        <br/>\n",
        "        <span style='color:#777:font-size:9px'>Categories: </span><span style='color:#333;font-size:13px'>seafood, seafoodmarkets</span>\n",
        "        <p style='width:450px'>on which smoked salmon i wanted . i asked a lot of questions and lo was super duper helpful , patient and friendly . he guided me to the smoked</p>\n",
        "    </div>"
       ],
       "metadata": {},
       "output_type": "display_data",
       "text": [
        "<IPython.core.display.HTML at 0x10ff72fd0>"
       ]
      },
      {
       "html": [
        "\n",
        "            <div>\n",
        "                <div style='background: rgb(221,222,223);width:102px;padding:1px;border-radius:2px'>\n",
        "                    <div style='height:20px; width:73px;padding-left:3px;background-color:rgb(71, 189, 249);font-size:9px;color:white'>\n",
        "                        74%\n",
        "                    </div>\n",
        "                </div>\n",
        "            </div>\n",
        "            "
       ],
       "metadata": {},
       "output_type": "display_data",
       "text": [
        "<IPython.core.display.HTML at 0x10ff72fd0>"
       ]
      }
     ],
     "prompt_number": 9
    },
    {
     "cell_type": "code",
     "collapsed": false,
     "input": [
      "import scipy.cluster.hierarchy"
     ],
     "language": "python",
     "metadata": {},
     "outputs": [],
     "prompt_number": 64
    },
    {
     "cell_type": "code",
     "collapsed": false,
     "input": [
      "%config InlineBackend.figure_format = 'svg'"
     ],
     "language": "python",
     "metadata": {},
     "outputs": [],
     "prompt_number": 118
    },
    {
     "cell_type": "code",
     "collapsed": false,
     "input": [
      "import matplotlib.pyplot as plt"
     ],
     "language": "python",
     "metadata": {},
     "outputs": [],
     "prompt_number": 121
    },
    {
     "cell_type": "code",
     "collapsed": false,
     "input": [
      "\"asian\" if len(set(texts_data[32][\"categories\"]) & set([\"korean\", \"vietnamese\", \"chinese\", \"japanese\"])) > 0 else \"other\""
     ],
     "language": "python",
     "metadata": {},
     "outputs": [
      {
       "metadata": {},
       "output_type": "pyout",
       "prompt_number": 167,
       "text": [
        "'asian'"
       ]
      }
     ],
     "prompt_number": 167
    },
    {
     "cell_type": "code",
     "collapsed": false,
     "input": [],
     "language": "python",
     "metadata": {},
     "outputs": [
      {
       "metadata": {},
       "output_type": "pyout",
       "prompt_number": 207,
       "text": [
        "[(27, 0.9246156215667725),\n",
        " (663, 0.7589172124862671),\n",
        " (1322, 0.7467725276947021),\n",
        " (1730, 0.7447482347488403),\n",
        " (630, 0.7445552349090576),\n",
        " (676, 0.7374780178070068),\n",
        " (1289, 0.7286442518234253),\n",
        " (7, 0.7206950783729553),\n",
        " (1309, 0.7160952091217041),\n",
        " (120, 0.7149674892425537),\n",
        " (75, 0.7121909260749817),\n",
        " (1156, 0.7079286575317383),\n",
        " (1589, 0.7072087526321411),\n",
        " (8, 0.7032880783081055),\n",
        " (2140, 0.6933562159538269),\n",
        " (786, 0.693134069442749),\n",
        " (1130, 0.6891661286354065),\n",
        " (240, 0.6876313090324402),\n",
        " (1634, 0.6864302158355713),\n",
        " (1204, 0.6863723993301392)]"
       ]
      }
     ],
     "prompt_number": 207
    },
    {
     "cell_type": "code",
     "collapsed": false,
     "input": [
      "search_key = 3\n",
      "indices = [i[0] for i in model.most_similar_object(search_key)]\n",
      "plt.figure(figsize=(10, 20), dpi=300)\n",
      "present_restaurant(texts_data[search_key], text = texts[search_key])\n",
      "scipy.cluster.hierarchy.dendrogram(\n",
      "    scipy.cluster.hierarchy.linkage(scipy.spatial.distance.pdist(model.norm_object_matrix[indices], 'cosine')),\n",
      "    labels = [texts_data[i][\"_id\"] for i in indices],\n",
      "    orientation = 'left');\n",
      "plt.title(\"Clustered results for %s (%s)\" % (texts_data[search_key][\"_id\"], \"));"
     ],
     "language": "python",
     "metadata": {},
     "outputs": [
      {
       "html": [
        "\n",
        "    <div>\n",
        "        <h2>plum-burgers-seattle</h2>\n",
        "        <span style='color: #ca0814;'>$</span><span style='color: #e4e4e4;'>$$</span><br /> \n",
        "        <span style='color: #feea60;'>\u2605\u2605\u2605\u2605</span><span style='color: #e4e4e4;'>\u2605</span>\n",
        "        <span style='color:#333;font-size:9px'>397 words</span>\n",
        "        <br/>\n",
        "        <span style='color:#777:font-size:9px'>Categories: </span><span style='color:#333;font-size:13px'>burgers, vegan, foodtrucks</span>\n",
        "        <p style='width:450px'>. the kale was raw , dressed with a soy-ginger dressing , and quite tasty , though cut a bit large ( i had to tear several pieces up to</p>\n",
        "    </div>"
       ],
       "metadata": {},
       "output_type": "display_data",
       "text": [
        "<IPython.core.display.HTML at 0x166358f50>"
       ]
      },
      {
       "metadata": {},
       "output_type": "display_data",
       "svg": [
        "<?xml version=\"1.0\" encoding=\"utf-8\" standalone=\"no\"?>\n",
        "<!DOCTYPE svg PUBLIC \"-//W3C//DTD SVG 1.1//EN\"\n",
        "  \"http://www.w3.org/Graphics/SVG/1.1/DTD/svg11.dtd\">\n",
        "<!-- Created with matplotlib (http://matplotlib.org/) -->\n",
        "<svg height=\"1158pt\" version=\"1.1\" viewBox=\"0 0 727 1158\" width=\"727pt\" xmlns=\"http://www.w3.org/2000/svg\" xmlns:xlink=\"http://www.w3.org/1999/xlink\">\n",
        " <defs>\n",
        "  <style type=\"text/css\">\n",
        "*{stroke-linecap:butt;stroke-linejoin:round;}\n",
        "  </style>\n",
        " </defs>\n",
        " <g id=\"figure_1\">\n",
        "  <g id=\"patch_1\">\n",
        "   <path d=\"\n",
        "M0 1158.2\n",
        "L727.07 1158.2\n",
        "L727.07 0\n",
        "L0 0\n",
        "z\n",
        "\" style=\"fill:#ffffff;\"/>\n",
        "  </g>\n",
        "  <g id=\"axes_1\">\n",
        "   <g id=\"patch_2\">\n",
        "    <path d=\"\n",
        "M151.417 1137.32\n",
        "L709.417 1137.32\n",
        "L709.417 21.3181\n",
        "L151.417 21.3181\n",
        "z\n",
        "\" style=\"fill:#ffffff;\"/>\n",
        "   </g>\n",
        "   <g id=\"LineCollection_1\">\n",
        "    <defs>\n",
        "     <path d=\"\n",
        "M151.417 -216.178\n",
        "L313.861 -216.178\n",
        "L313.861 -271.978\n",
        "L151.417 -271.978\" id=\"C0_0_1527903adf\"/>\n",
        "     <path d=\"\n",
        "M151.417 -160.378\n",
        "L314.744 -160.378\n",
        "L314.744 -244.078\n",
        "L313.861 -244.078\" id=\"C0_1_04284a69a5\"/>\n",
        "    </defs>\n",
        "    <g clip-path=\"url(#p191fdd2f05)\">\n",
        "     <use style=\"fill:none;stroke:#008000;\" x=\"0.0\" xlink:href=\"#C0_0_1527903adf\" y=\"1158.19625\"/>\n",
        "    </g>\n",
        "    <g clip-path=\"url(#p191fdd2f05)\">\n",
        "     <use style=\"fill:none;stroke:#008000;\" x=\"0.0\" xlink:href=\"#C0_1_04284a69a5\" y=\"1158.19625\"/>\n",
        "    </g>\n",
        "   </g>\n",
        "   <g id=\"LineCollection_2\">\n",
        "    <defs>\n",
        "     <path d=\"\n",
        "M151.417 -550.978\n",
        "L412.243 -550.978\n",
        "L412.243 -606.778\n",
        "L151.417 -606.778\" id=\"C1_0_b481a432a6\"/>\n",
        "     <path d=\"\n",
        "M151.417 -495.178\n",
        "L459.78 -495.178\n",
        "L459.78 -578.878\n",
        "L412.243 -578.878\" id=\"C1_1_d1e2a94138\"/>\n",
        "    </defs>\n",
        "    <g clip-path=\"url(#p191fdd2f05)\">\n",
        "     <use style=\"fill:none;stroke:#ff0000;\" x=\"0.0\" xlink:href=\"#C1_0_b481a432a6\" y=\"1158.19625\"/>\n",
        "    </g>\n",
        "    <g clip-path=\"url(#p191fdd2f05)\">\n",
        "     <use style=\"fill:none;stroke:#ff0000;\" x=\"0.0\" xlink:href=\"#C1_1_d1e2a94138\" y=\"1158.19625\"/>\n",
        "    </g>\n",
        "   </g>\n",
        "   <g id=\"LineCollection_3\">\n",
        "    <defs>\n",
        "     <path d=\"\n",
        "M151.417 -941.578\n",
        "L190.799 -941.578\n",
        "L190.799 -997.378\n",
        "L151.417 -997.378\" id=\"C2_0_bc253f536e\"/>\n",
        "     <path d=\"\n",
        "M151.417 -885.778\n",
        "L209.537 -885.778\n",
        "L209.537 -969.478\n",
        "L190.799 -969.478\" id=\"C2_1_efdc8ec582\"/>\n",
        "     <path d=\"\n",
        "M151.417 -829.978\n",
        "L210.651 -829.978\n",
        "L210.651 -927.628\n",
        "L209.537 -927.628\" id=\"C2_2_b8b8da4c40\"/>\n",
        "     <path d=\"\n",
        "M151.417 -774.178\n",
        "L212.451 -774.178\n",
        "L212.451 -878.803\n",
        "L210.651 -878.803\" id=\"C2_3_f01db941f0\"/>\n",
        "     <path d=\"\n",
        "M151.417 -718.378\n",
        "L347.357 -718.378\n",
        "L347.357 -826.491\n",
        "L212.451 -826.491\" id=\"C2_4_378f675e4b\"/>\n",
        "    </defs>\n",
        "    <g clip-path=\"url(#p191fdd2f05)\">\n",
        "     <use style=\"fill:none;stroke:#00bfbf;\" x=\"0.0\" xlink:href=\"#C2_0_bc253f536e\" y=\"1158.19625\"/>\n",
        "    </g>\n",
        "    <g clip-path=\"url(#p191fdd2f05)\">\n",
        "     <use style=\"fill:none;stroke:#00bfbf;\" x=\"0.0\" xlink:href=\"#C2_1_efdc8ec582\" y=\"1158.19625\"/>\n",
        "    </g>\n",
        "    <g clip-path=\"url(#p191fdd2f05)\">\n",
        "     <use style=\"fill:none;stroke:#00bfbf;\" x=\"0.0\" xlink:href=\"#C2_2_b8b8da4c40\" y=\"1158.19625\"/>\n",
        "    </g>\n",
        "    <g clip-path=\"url(#p191fdd2f05)\">\n",
        "     <use style=\"fill:none;stroke:#00bfbf;\" x=\"0.0\" xlink:href=\"#C2_3_f01db941f0\" y=\"1158.19625\"/>\n",
        "    </g>\n",
        "    <g clip-path=\"url(#p191fdd2f05)\">\n",
        "     <use style=\"fill:none;stroke:#00bfbf;\" x=\"0.0\" xlink:href=\"#C2_4_378f675e4b\" y=\"1158.19625\"/>\n",
        "    </g>\n",
        "   </g>\n",
        "   <g id=\"LineCollection_4\">\n",
        "    <defs>\n",
        "     <path d=\"\n",
        "M151.417 -1053.18\n",
        "L476.168 -1053.18\n",
        "L476.168 -1108.98\n",
        "L151.417 -1108.98\" id=\"C3_0_0995e58fd5\"/>\n",
        "    </defs>\n",
        "    <g clip-path=\"url(#p191fdd2f05)\">\n",
        "     <use style=\"fill:none;stroke:#bf00bf;\" x=\"0.0\" xlink:href=\"#C3_0_0995e58fd5\" y=\"1158.19625\"/>\n",
        "    </g>\n",
        "   </g>\n",
        "   <g id=\"LineCollection_5\">\n",
        "    <defs>\n",
        "     <path d=\"\n",
        "M151.417 -104.578\n",
        "L541.034 -104.578\n",
        "L541.034 -202.228\n",
        "L314.744 -202.228\" id=\"C4_0_c1f47d7157\"/>\n",
        "     <path d=\"\n",
        "M151.417 -48.7781\n",
        "L559.947 -48.7781\n",
        "L559.947 -153.403\n",
        "L541.034 -153.403\" id=\"C4_1_307c64dbb4\"/>\n",
        "     <path d=\"\n",
        "M151.417 -327.778\n",
        "L620.77 -327.778\n",
        "L620.77 -383.578\n",
        "L151.417 -383.578\" id=\"C4_2_607c4df4e4\"/>\n",
        "     <path d=\"\n",
        "M559.947 -101.091\n",
        "L641.957 -101.091\n",
        "L641.957 -355.678\n",
        "L620.77 -355.678\" id=\"C4_3_548a9c7dc3\"/>\n",
        "     <path d=\"\n",
        "M347.357 -772.434\n",
        "L579.503 -772.434\n",
        "L579.503 -1081.08\n",
        "L476.168 -1081.08\" id=\"C4_4_e3abe1442c\"/>\n",
        "     <path d=\"\n",
        "M151.417 -662.578\n",
        "L619.131 -662.578\n",
        "L619.131 -926.756\n",
        "L579.503 -926.756\" id=\"C4_5_9fdb55fb09\"/>\n",
        "     <path d=\"\n",
        "M459.78 -537.028\n",
        "L639.296 -537.028\n",
        "L639.296 -794.667\n",
        "L619.131 -794.667\" id=\"C4_6_e025249de6\"/>\n",
        "     <path d=\"\n",
        "M151.417 -439.378\n",
        "L668.675 -439.378\n",
        "L668.675 -665.848\n",
        "L639.296 -665.848\" id=\"C4_7_06cb012a74\"/>\n",
        "     <path d=\"\n",
        "M641.957 -228.384\n",
        "L682.846 -228.384\n",
        "L682.846 -552.613\n",
        "L668.675 -552.613\" id=\"C4_8_0710dc7eec\"/>\n",
        "    </defs>\n",
        "    <g clip-path=\"url(#p191fdd2f05)\">\n",
        "     <use style=\"fill:none;stroke:#0000ff;\" x=\"0.0\" xlink:href=\"#C4_0_c1f47d7157\" y=\"1158.19625\"/>\n",
        "    </g>\n",
        "    <g clip-path=\"url(#p191fdd2f05)\">\n",
        "     <use style=\"fill:none;stroke:#0000ff;\" x=\"0.0\" xlink:href=\"#C4_1_307c64dbb4\" y=\"1158.19625\"/>\n",
        "    </g>\n",
        "    <g clip-path=\"url(#p191fdd2f05)\">\n",
        "     <use style=\"fill:none;stroke:#0000ff;\" x=\"0.0\" xlink:href=\"#C4_2_607c4df4e4\" y=\"1158.19625\"/>\n",
        "    </g>\n",
        "    <g clip-path=\"url(#p191fdd2f05)\">\n",
        "     <use style=\"fill:none;stroke:#0000ff;\" x=\"0.0\" xlink:href=\"#C4_3_548a9c7dc3\" y=\"1158.19625\"/>\n",
        "    </g>\n",
        "    <g clip-path=\"url(#p191fdd2f05)\">\n",
        "     <use style=\"fill:none;stroke:#0000ff;\" x=\"0.0\" xlink:href=\"#C4_4_e3abe1442c\" y=\"1158.19625\"/>\n",
        "    </g>\n",
        "    <g clip-path=\"url(#p191fdd2f05)\">\n",
        "     <use style=\"fill:none;stroke:#0000ff;\" x=\"0.0\" xlink:href=\"#C4_5_9fdb55fb09\" y=\"1158.19625\"/>\n",
        "    </g>\n",
        "    <g clip-path=\"url(#p191fdd2f05)\">\n",
        "     <use style=\"fill:none;stroke:#0000ff;\" x=\"0.0\" xlink:href=\"#C4_6_e025249de6\" y=\"1158.19625\"/>\n",
        "    </g>\n",
        "    <g clip-path=\"url(#p191fdd2f05)\">\n",
        "     <use style=\"fill:none;stroke:#0000ff;\" x=\"0.0\" xlink:href=\"#C4_7_06cb012a74\" y=\"1158.19625\"/>\n",
        "    </g>\n",
        "    <g clip-path=\"url(#p191fdd2f05)\">\n",
        "     <use style=\"fill:none;stroke:#0000ff;\" x=\"0.0\" xlink:href=\"#C4_8_0710dc7eec\" y=\"1158.19625\"/>\n",
        "    </g>\n",
        "   </g>\n",
        "   <g id=\"patch_3\">\n",
        "    <path d=\"\n",
        "M151.417 1137.32\n",
        "L151.417 21.3181\" style=\"fill:none;stroke:#000000;stroke-linecap:square;stroke-linejoin:miter;\"/>\n",
        "   </g>\n",
        "   <g id=\"patch_4\">\n",
        "    <path d=\"\n",
        "M709.417 1137.32\n",
        "L709.417 21.3181\" style=\"fill:none;stroke:#000000;stroke-linecap:square;stroke-linejoin:miter;\"/>\n",
        "   </g>\n",
        "   <g id=\"patch_5\">\n",
        "    <path d=\"\n",
        "M151.417 21.3181\n",
        "L709.417 21.3181\" style=\"fill:none;stroke:#000000;stroke-linecap:square;stroke-linejoin:miter;\"/>\n",
        "   </g>\n",
        "   <g id=\"patch_6\">\n",
        "    <path d=\"\n",
        "M151.417 1137.32\n",
        "L709.417 1137.32\" style=\"fill:none;stroke:#000000;stroke-linecap:square;stroke-linejoin:miter;\"/>\n",
        "   </g>\n",
        "   <g id=\"matplotlib.axis_1\">\n",
        "    <g id=\"xtick_1\">\n",
        "     <g id=\"line2d_1\">\n",
        "      <defs>\n",
        "       <path d=\"\n",
        "M0 0\n",
        "L0 -4\" id=\"mc7db9fdffb\" style=\"stroke:#000000;stroke-width:0.5;\"/>\n",
        "      </defs>\n",
        "      <g>\n",
        "       <use style=\"stroke:#000000;stroke-width:0.5;\" x=\"151.4171875\" xlink:href=\"#mc7db9fdffb\" y=\"1137.318125\"/>\n",
        "      </g>\n",
        "     </g>\n",
        "     <g id=\"line2d_2\">\n",
        "      <defs>\n",
        "       <path d=\"\n",
        "M0 0\n",
        "L0 4\" id=\"m5a7d422ac3\" style=\"stroke:#000000;stroke-width:0.5;\"/>\n",
        "      </defs>\n",
        "      <g>\n",
        "       <use style=\"stroke:#000000;stroke-width:0.5;\" x=\"151.4171875\" xlink:href=\"#m5a7d422ac3\" y=\"21.318125\"/>\n",
        "      </g>\n",
        "     </g>\n",
        "     <g id=\"text_1\">\n",
        "      <!-- 0.00 -->\n",
        "      <defs>\n",
        "       <path d=\"\n",
        "M31.7812 66.4062\n",
        "Q24.1719 66.4062 20.3281 58.9062\n",
        "Q16.5 51.4219 16.5 36.375\n",
        "Q16.5 21.3906 20.3281 13.8906\n",
        "Q24.1719 6.39062 31.7812 6.39062\n",
        "Q39.4531 6.39062 43.2812 13.8906\n",
        "Q47.125 21.3906 47.125 36.375\n",
        "Q47.125 51.4219 43.2812 58.9062\n",
        "Q39.4531 66.4062 31.7812 66.4062\n",
        "M31.7812 74.2188\n",
        "Q44.0469 74.2188 50.5156 64.5156\n",
        "Q56.9844 54.8281 56.9844 36.375\n",
        "Q56.9844 17.9688 50.5156 8.26562\n",
        "Q44.0469 -1.42188 31.7812 -1.42188\n",
        "Q19.5312 -1.42188 13.0625 8.26562\n",
        "Q6.59375 17.9688 6.59375 36.375\n",
        "Q6.59375 54.8281 13.0625 64.5156\n",
        "Q19.5312 74.2188 31.7812 74.2188\" id=\"BitstreamVeraSans-Roman-30\"/>\n",
        "       <path d=\"\n",
        "M10.6875 12.4062\n",
        "L21 12.4062\n",
        "L21 0\n",
        "L10.6875 0\n",
        "z\n",
        "\" id=\"BitstreamVeraSans-Roman-2e\"/>\n",
        "      </defs>\n",
        "      <g transform=\"translate(140.94609375 1148.9165625)scale(0.1 -0.1)\">\n",
        "       <use xlink:href=\"#BitstreamVeraSans-Roman-30\"/>\n",
        "       <use x=\"63.623046875\" xlink:href=\"#BitstreamVeraSans-Roman-2e\"/>\n",
        "       <use x=\"95.41015625\" xlink:href=\"#BitstreamVeraSans-Roman-30\"/>\n",
        "       <use x=\"159.033203125\" xlink:href=\"#BitstreamVeraSans-Roman-30\"/>\n",
        "      </g>\n",
        "     </g>\n",
        "    </g>\n",
        "    <g id=\"xtick_2\">\n",
        "     <g id=\"line2d_3\">\n",
        "      <g>\n",
        "       <use style=\"stroke:#000000;stroke-width:0.5;\" x=\"221.164887131\" xlink:href=\"#mc7db9fdffb\" y=\"1137.318125\"/>\n",
        "      </g>\n",
        "     </g>\n",
        "     <g id=\"line2d_4\">\n",
        "      <g>\n",
        "       <use style=\"stroke:#000000;stroke-width:0.5;\" x=\"221.164887131\" xlink:href=\"#m5a7d422ac3\" y=\"21.318125\"/>\n",
        "      </g>\n",
        "     </g>\n",
        "     <g id=\"text_2\">\n",
        "      <!-- 0.05 -->\n",
        "      <defs>\n",
        "       <path d=\"\n",
        "M10.7969 72.9062\n",
        "L49.5156 72.9062\n",
        "L49.5156 64.5938\n",
        "L19.8281 64.5938\n",
        "L19.8281 46.7344\n",
        "Q21.9688 47.4688 24.1094 47.8281\n",
        "Q26.2656 48.1875 28.4219 48.1875\n",
        "Q40.625 48.1875 47.75 41.5\n",
        "Q54.8906 34.8125 54.8906 23.3906\n",
        "Q54.8906 11.625 47.5625 5.09375\n",
        "Q40.2344 -1.42188 26.9062 -1.42188\n",
        "Q22.3125 -1.42188 17.5469 -0.640625\n",
        "Q12.7969 0.140625 7.71875 1.70312\n",
        "L7.71875 11.625\n",
        "Q12.1094 9.23438 16.7969 8.0625\n",
        "Q21.4844 6.89062 26.7031 6.89062\n",
        "Q35.1562 6.89062 40.0781 11.3281\n",
        "Q45.0156 15.7656 45.0156 23.3906\n",
        "Q45.0156 31 40.0781 35.4375\n",
        "Q35.1562 39.8906 26.7031 39.8906\n",
        "Q22.75 39.8906 18.8125 39.0156\n",
        "Q14.8906 38.1406 10.7969 36.2812\n",
        "z\n",
        "\" id=\"BitstreamVeraSans-Roman-35\"/>\n",
        "      </defs>\n",
        "      <g transform=\"translate(210.798480881 1148.9165625)scale(0.1 -0.1)\">\n",
        "       <use xlink:href=\"#BitstreamVeraSans-Roman-30\"/>\n",
        "       <use x=\"63.623046875\" xlink:href=\"#BitstreamVeraSans-Roman-2e\"/>\n",
        "       <use x=\"95.41015625\" xlink:href=\"#BitstreamVeraSans-Roman-30\"/>\n",
        "       <use x=\"159.033203125\" xlink:href=\"#BitstreamVeraSans-Roman-35\"/>\n",
        "      </g>\n",
        "     </g>\n",
        "    </g>\n",
        "    <g id=\"xtick_3\">\n",
        "     <g id=\"line2d_5\">\n",
        "      <g>\n",
        "       <use style=\"stroke:#000000;stroke-width:0.5;\" x=\"290.912586763\" xlink:href=\"#mc7db9fdffb\" y=\"1137.318125\"/>\n",
        "      </g>\n",
        "     </g>\n",
        "     <g id=\"line2d_6\">\n",
        "      <g>\n",
        "       <use style=\"stroke:#000000;stroke-width:0.5;\" x=\"290.912586763\" xlink:href=\"#m5a7d422ac3\" y=\"21.318125\"/>\n",
        "      </g>\n",
        "     </g>\n",
        "     <g id=\"text_3\">\n",
        "      <!-- 0.10 -->\n",
        "      <defs>\n",
        "       <path d=\"\n",
        "M12.4062 8.29688\n",
        "L28.5156 8.29688\n",
        "L28.5156 63.9219\n",
        "L10.9844 60.4062\n",
        "L10.9844 69.3906\n",
        "L28.4219 72.9062\n",
        "L38.2812 72.9062\n",
        "L38.2812 8.29688\n",
        "L54.3906 8.29688\n",
        "L54.3906 0\n",
        "L12.4062 0\n",
        "z\n",
        "\" id=\"BitstreamVeraSans-Roman-31\"/>\n",
        "      </defs>\n",
        "      <g transform=\"translate(280.441493013 1148.9165625)scale(0.1 -0.1)\">\n",
        "       <use xlink:href=\"#BitstreamVeraSans-Roman-30\"/>\n",
        "       <use x=\"63.623046875\" xlink:href=\"#BitstreamVeraSans-Roman-2e\"/>\n",
        "       <use x=\"95.41015625\" xlink:href=\"#BitstreamVeraSans-Roman-31\"/>\n",
        "       <use x=\"159.033203125\" xlink:href=\"#BitstreamVeraSans-Roman-30\"/>\n",
        "      </g>\n",
        "     </g>\n",
        "    </g>\n",
        "    <g id=\"xtick_4\">\n",
        "     <g id=\"line2d_7\">\n",
        "      <g>\n",
        "       <use style=\"stroke:#000000;stroke-width:0.5;\" x=\"360.660286394\" xlink:href=\"#mc7db9fdffb\" y=\"1137.318125\"/>\n",
        "      </g>\n",
        "     </g>\n",
        "     <g id=\"line2d_8\">\n",
        "      <g>\n",
        "       <use style=\"stroke:#000000;stroke-width:0.5;\" x=\"360.660286394\" xlink:href=\"#m5a7d422ac3\" y=\"21.318125\"/>\n",
        "      </g>\n",
        "     </g>\n",
        "     <g id=\"text_4\">\n",
        "      <!-- 0.15 -->\n",
        "      <g transform=\"translate(350.293880144 1148.9165625)scale(0.1 -0.1)\">\n",
        "       <use xlink:href=\"#BitstreamVeraSans-Roman-30\"/>\n",
        "       <use x=\"63.623046875\" xlink:href=\"#BitstreamVeraSans-Roman-2e\"/>\n",
        "       <use x=\"95.41015625\" xlink:href=\"#BitstreamVeraSans-Roman-31\"/>\n",
        "       <use x=\"159.033203125\" xlink:href=\"#BitstreamVeraSans-Roman-35\"/>\n",
        "      </g>\n",
        "     </g>\n",
        "    </g>\n",
        "    <g id=\"xtick_5\">\n",
        "     <g id=\"line2d_9\">\n",
        "      <g>\n",
        "       <use style=\"stroke:#000000;stroke-width:0.5;\" x=\"430.407986026\" xlink:href=\"#mc7db9fdffb\" y=\"1137.318125\"/>\n",
        "      </g>\n",
        "     </g>\n",
        "     <g id=\"line2d_10\">\n",
        "      <g>\n",
        "       <use style=\"stroke:#000000;stroke-width:0.5;\" x=\"430.407986026\" xlink:href=\"#m5a7d422ac3\" y=\"21.318125\"/>\n",
        "      </g>\n",
        "     </g>\n",
        "     <g id=\"text_5\">\n",
        "      <!-- 0.20 -->\n",
        "      <defs>\n",
        "       <path d=\"\n",
        "M19.1875 8.29688\n",
        "L53.6094 8.29688\n",
        "L53.6094 0\n",
        "L7.32812 0\n",
        "L7.32812 8.29688\n",
        "Q12.9375 14.1094 22.625 23.8906\n",
        "Q32.3281 33.6875 34.8125 36.5312\n",
        "Q39.5469 41.8438 41.4219 45.5312\n",
        "Q43.3125 49.2188 43.3125 52.7812\n",
        "Q43.3125 58.5938 39.2344 62.25\n",
        "Q35.1562 65.9219 28.6094 65.9219\n",
        "Q23.9688 65.9219 18.8125 64.3125\n",
        "Q13.6719 62.7031 7.8125 59.4219\n",
        "L7.8125 69.3906\n",
        "Q13.7656 71.7812 18.9375 73\n",
        "Q24.125 74.2188 28.4219 74.2188\n",
        "Q39.75 74.2188 46.4844 68.5469\n",
        "Q53.2188 62.8906 53.2188 53.4219\n",
        "Q53.2188 48.9219 51.5312 44.8906\n",
        "Q49.8594 40.875 45.4062 35.4062\n",
        "Q44.1875 33.9844 37.6406 27.2188\n",
        "Q31.1094 20.4531 19.1875 8.29688\" id=\"BitstreamVeraSans-Roman-32\"/>\n",
        "      </defs>\n",
        "      <g transform=\"translate(419.936892276 1148.9165625)scale(0.1 -0.1)\">\n",
        "       <use xlink:href=\"#BitstreamVeraSans-Roman-30\"/>\n",
        "       <use x=\"63.623046875\" xlink:href=\"#BitstreamVeraSans-Roman-2e\"/>\n",
        "       <use x=\"95.41015625\" xlink:href=\"#BitstreamVeraSans-Roman-32\"/>\n",
        "       <use x=\"159.033203125\" xlink:href=\"#BitstreamVeraSans-Roman-30\"/>\n",
        "      </g>\n",
        "     </g>\n",
        "    </g>\n",
        "    <g id=\"xtick_6\">\n",
        "     <g id=\"line2d_11\">\n",
        "      <g>\n",
        "       <use style=\"stroke:#000000;stroke-width:0.5;\" x=\"500.155685657\" xlink:href=\"#mc7db9fdffb\" y=\"1137.318125\"/>\n",
        "      </g>\n",
        "     </g>\n",
        "     <g id=\"line2d_12\">\n",
        "      <g>\n",
        "       <use style=\"stroke:#000000;stroke-width:0.5;\" x=\"500.155685657\" xlink:href=\"#m5a7d422ac3\" y=\"21.318125\"/>\n",
        "      </g>\n",
        "     </g>\n",
        "     <g id=\"text_6\">\n",
        "      <!-- 0.25 -->\n",
        "      <g transform=\"translate(489.789279407 1148.9165625)scale(0.1 -0.1)\">\n",
        "       <use xlink:href=\"#BitstreamVeraSans-Roman-30\"/>\n",
        "       <use x=\"63.623046875\" xlink:href=\"#BitstreamVeraSans-Roman-2e\"/>\n",
        "       <use x=\"95.41015625\" xlink:href=\"#BitstreamVeraSans-Roman-32\"/>\n",
        "       <use x=\"159.033203125\" xlink:href=\"#BitstreamVeraSans-Roman-35\"/>\n",
        "      </g>\n",
        "     </g>\n",
        "    </g>\n",
        "    <g id=\"xtick_7\">\n",
        "     <g id=\"line2d_13\">\n",
        "      <g>\n",
        "       <use style=\"stroke:#000000;stroke-width:0.5;\" x=\"569.903385289\" xlink:href=\"#mc7db9fdffb\" y=\"1137.318125\"/>\n",
        "      </g>\n",
        "     </g>\n",
        "     <g id=\"line2d_14\">\n",
        "      <g>\n",
        "       <use style=\"stroke:#000000;stroke-width:0.5;\" x=\"569.903385289\" xlink:href=\"#m5a7d422ac3\" y=\"21.318125\"/>\n",
        "      </g>\n",
        "     </g>\n",
        "     <g id=\"text_7\">\n",
        "      <!-- 0.30 -->\n",
        "      <defs>\n",
        "       <path d=\"\n",
        "M40.5781 39.3125\n",
        "Q47.6562 37.7969 51.625 33\n",
        "Q55.6094 28.2188 55.6094 21.1875\n",
        "Q55.6094 10.4062 48.1875 4.48438\n",
        "Q40.7656 -1.42188 27.0938 -1.42188\n",
        "Q22.5156 -1.42188 17.6562 -0.515625\n",
        "Q12.7969 0.390625 7.625 2.20312\n",
        "L7.625 11.7188\n",
        "Q11.7188 9.32812 16.5938 8.10938\n",
        "Q21.4844 6.89062 26.8125 6.89062\n",
        "Q36.0781 6.89062 40.9375 10.5469\n",
        "Q45.7969 14.2031 45.7969 21.1875\n",
        "Q45.7969 27.6406 41.2812 31.2656\n",
        "Q36.7656 34.9062 28.7188 34.9062\n",
        "L20.2188 34.9062\n",
        "L20.2188 43.0156\n",
        "L29.1094 43.0156\n",
        "Q36.375 43.0156 40.2344 45.9219\n",
        "Q44.0938 48.8281 44.0938 54.2969\n",
        "Q44.0938 59.9062 40.1094 62.9062\n",
        "Q36.1406 65.9219 28.7188 65.9219\n",
        "Q24.6562 65.9219 20.0156 65.0312\n",
        "Q15.375 64.1562 9.8125 62.3125\n",
        "L9.8125 71.0938\n",
        "Q15.4375 72.6562 20.3438 73.4375\n",
        "Q25.25 74.2188 29.5938 74.2188\n",
        "Q40.8281 74.2188 47.3594 69.1094\n",
        "Q53.9062 64.0156 53.9062 55.3281\n",
        "Q53.9062 49.2656 50.4375 45.0938\n",
        "Q46.9688 40.9219 40.5781 39.3125\" id=\"BitstreamVeraSans-Roman-33\"/>\n",
        "      </defs>\n",
        "      <g transform=\"translate(559.432291539 1148.9165625)scale(0.1 -0.1)\">\n",
        "       <use xlink:href=\"#BitstreamVeraSans-Roman-30\"/>\n",
        "       <use x=\"63.623046875\" xlink:href=\"#BitstreamVeraSans-Roman-2e\"/>\n",
        "       <use x=\"95.41015625\" xlink:href=\"#BitstreamVeraSans-Roman-33\"/>\n",
        "       <use x=\"159.033203125\" xlink:href=\"#BitstreamVeraSans-Roman-30\"/>\n",
        "      </g>\n",
        "     </g>\n",
        "    </g>\n",
        "    <g id=\"xtick_8\">\n",
        "     <g id=\"line2d_15\">\n",
        "      <g>\n",
        "       <use style=\"stroke:#000000;stroke-width:0.5;\" x=\"639.65108492\" xlink:href=\"#mc7db9fdffb\" y=\"1137.318125\"/>\n",
        "      </g>\n",
        "     </g>\n",
        "     <g id=\"line2d_16\">\n",
        "      <g>\n",
        "       <use style=\"stroke:#000000;stroke-width:0.5;\" x=\"639.65108492\" xlink:href=\"#m5a7d422ac3\" y=\"21.318125\"/>\n",
        "      </g>\n",
        "     </g>\n",
        "     <g id=\"text_8\">\n",
        "      <!-- 0.35 -->\n",
        "      <g transform=\"translate(629.28467867 1148.9165625)scale(0.1 -0.1)\">\n",
        "       <use xlink:href=\"#BitstreamVeraSans-Roman-30\"/>\n",
        "       <use x=\"63.623046875\" xlink:href=\"#BitstreamVeraSans-Roman-2e\"/>\n",
        "       <use x=\"95.41015625\" xlink:href=\"#BitstreamVeraSans-Roman-33\"/>\n",
        "       <use x=\"159.033203125\" xlink:href=\"#BitstreamVeraSans-Roman-35\"/>\n",
        "      </g>\n",
        "     </g>\n",
        "    </g>\n",
        "    <g id=\"xtick_9\">\n",
        "     <g id=\"line2d_17\">\n",
        "      <g>\n",
        "       <use style=\"stroke:#000000;stroke-width:0.5;\" x=\"709.398784552\" xlink:href=\"#mc7db9fdffb\" y=\"1137.318125\"/>\n",
        "      </g>\n",
        "     </g>\n",
        "     <g id=\"line2d_18\">\n",
        "      <g>\n",
        "       <use style=\"stroke:#000000;stroke-width:0.5;\" x=\"709.398784552\" xlink:href=\"#m5a7d422ac3\" y=\"21.318125\"/>\n",
        "      </g>\n",
        "     </g>\n",
        "     <g id=\"text_9\">\n",
        "      <!-- 0.40 -->\n",
        "      <defs>\n",
        "       <path d=\"\n",
        "M37.7969 64.3125\n",
        "L12.8906 25.3906\n",
        "L37.7969 25.3906\n",
        "z\n",
        "\n",
        "M35.2031 72.9062\n",
        "L47.6094 72.9062\n",
        "L47.6094 25.3906\n",
        "L58.0156 25.3906\n",
        "L58.0156 17.1875\n",
        "L47.6094 17.1875\n",
        "L47.6094 0\n",
        "L37.7969 0\n",
        "L37.7969 17.1875\n",
        "L4.89062 17.1875\n",
        "L4.89062 26.7031\n",
        "z\n",
        "\" id=\"BitstreamVeraSans-Roman-34\"/>\n",
        "      </defs>\n",
        "      <g transform=\"translate(698.927690802 1148.9165625)scale(0.1 -0.1)\">\n",
        "       <use xlink:href=\"#BitstreamVeraSans-Roman-30\"/>\n",
        "       <use x=\"63.623046875\" xlink:href=\"#BitstreamVeraSans-Roman-2e\"/>\n",
        "       <use x=\"95.41015625\" xlink:href=\"#BitstreamVeraSans-Roman-34\"/>\n",
        "       <use x=\"159.033203125\" xlink:href=\"#BitstreamVeraSans-Roman-30\"/>\n",
        "      </g>\n",
        "     </g>\n",
        "    </g>\n",
        "   </g>\n",
        "   <g id=\"matplotlib.axis_2\">\n",
        "    <g id=\"ytick_1\">\n",
        "     <g id=\"text_10\">\n",
        "      <!-- Teriyaki 1st -->\n",
        "      <defs>\n",
        "       <path d=\"\n",
        "M41.1094 46.2969\n",
        "Q39.5938 47.1719 37.8125 47.5781\n",
        "Q36.0312 48 33.8906 48\n",
        "Q26.2656 48 22.1875 43.0469\n",
        "Q18.1094 38.0938 18.1094 28.8125\n",
        "L18.1094 0\n",
        "L9.07812 0\n",
        "L9.07812 54.6875\n",
        "L18.1094 54.6875\n",
        "L18.1094 46.1875\n",
        "Q20.9531 51.1719 25.4844 53.5781\n",
        "Q30.0312 56 36.5312 56\n",
        "Q37.4531 56 38.5781 55.875\n",
        "Q39.7031 55.7656 41.0625 55.5156\n",
        "z\n",
        "\" id=\"BitstreamVeraSans-Roman-72\"/>\n",
        "       <path d=\"\n",
        "M44.2812 53.0781\n",
        "L44.2812 44.5781\n",
        "Q40.4844 46.5312 36.375 47.5\n",
        "Q32.2812 48.4844 27.875 48.4844\n",
        "Q21.1875 48.4844 17.8438 46.4375\n",
        "Q14.5 44.3906 14.5 40.2812\n",
        "Q14.5 37.1562 16.8906 35.375\n",
        "Q19.2812 33.5938 26.5156 31.9844\n",
        "L29.5938 31.2969\n",
        "Q39.1562 29.25 43.1875 25.5156\n",
        "Q47.2188 21.7812 47.2188 15.0938\n",
        "Q47.2188 7.46875 41.1875 3.01562\n",
        "Q35.1562 -1.42188 24.6094 -1.42188\n",
        "Q20.2188 -1.42188 15.4531 -0.5625\n",
        "Q10.6875 0.296875 5.42188 2\n",
        "L5.42188 11.2812\n",
        "Q10.4062 8.6875 15.2344 7.39062\n",
        "Q20.0625 6.10938 24.8125 6.10938\n",
        "Q31.1562 6.10938 34.5625 8.28125\n",
        "Q37.9844 10.4531 37.9844 14.4062\n",
        "Q37.9844 18.0625 35.5156 20.0156\n",
        "Q33.0625 21.9688 24.7031 23.7812\n",
        "L21.5781 24.5156\n",
        "Q13.2344 26.2656 9.51562 29.9062\n",
        "Q5.8125 33.5469 5.8125 39.8906\n",
        "Q5.8125 47.6094 11.2812 51.7969\n",
        "Q16.75 56 26.8125 56\n",
        "Q31.7812 56 36.1719 55.2656\n",
        "Q40.5781 54.5469 44.2812 53.0781\" id=\"BitstreamVeraSans-Roman-73\"/>\n",
        "       <path d=\"\n",
        "M18.3125 70.2188\n",
        "L18.3125 54.6875\n",
        "L36.8125 54.6875\n",
        "L36.8125 47.7031\n",
        "L18.3125 47.7031\n",
        "L18.3125 18.0156\n",
        "Q18.3125 11.3281 20.1406 9.42188\n",
        "Q21.9688 7.51562 27.5938 7.51562\n",
        "L36.8125 7.51562\n",
        "L36.8125 0\n",
        "L27.5938 0\n",
        "Q17.1875 0 13.2344 3.875\n",
        "Q9.28125 7.76562 9.28125 18.0156\n",
        "L9.28125 47.7031\n",
        "L2.6875 47.7031\n",
        "L2.6875 54.6875\n",
        "L9.28125 54.6875\n",
        "L9.28125 70.2188\n",
        "z\n",
        "\" id=\"BitstreamVeraSans-Roman-74\"/>\n",
        "       <path d=\"\n",
        "M34.2812 27.4844\n",
        "Q23.3906 27.4844 19.1875 25\n",
        "Q14.9844 22.5156 14.9844 16.5\n",
        "Q14.9844 11.7188 18.1406 8.90625\n",
        "Q21.2969 6.10938 26.7031 6.10938\n",
        "Q34.1875 6.10938 38.7031 11.4062\n",
        "Q43.2188 16.7031 43.2188 25.4844\n",
        "L43.2188 27.4844\n",
        "z\n",
        "\n",
        "M52.2031 31.2031\n",
        "L52.2031 0\n",
        "L43.2188 0\n",
        "L43.2188 8.29688\n",
        "Q40.1406 3.32812 35.5469 0.953125\n",
        "Q30.9531 -1.42188 24.3125 -1.42188\n",
        "Q15.9219 -1.42188 10.9531 3.29688\n",
        "Q6 8.01562 6 15.9219\n",
        "Q6 25.1406 12.1719 29.8281\n",
        "Q18.3594 34.5156 30.6094 34.5156\n",
        "L43.2188 34.5156\n",
        "L43.2188 35.4062\n",
        "Q43.2188 41.6094 39.1406 45\n",
        "Q35.0625 48.3906 27.6875 48.3906\n",
        "Q23 48.3906 18.5469 47.2656\n",
        "Q14.1094 46.1406 10.0156 43.8906\n",
        "L10.0156 52.2031\n",
        "Q14.9375 54.1094 19.5781 55.0469\n",
        "Q24.2188 56 28.6094 56\n",
        "Q40.4844 56 46.3438 49.8438\n",
        "Q52.2031 43.7031 52.2031 31.2031\" id=\"BitstreamVeraSans-Roman-61\"/>\n",
        "       <path d=\"\n",
        "M9.42188 54.6875\n",
        "L18.4062 54.6875\n",
        "L18.4062 0\n",
        "L9.42188 0\n",
        "z\n",
        "\n",
        "M9.42188 75.9844\n",
        "L18.4062 75.9844\n",
        "L18.4062 64.5938\n",
        "L9.42188 64.5938\n",
        "z\n",
        "\" id=\"BitstreamVeraSans-Roman-69\"/>\n",
        "       <path d=\"\n",
        "M32.1719 -5.07812\n",
        "Q28.375 -14.8438 24.75 -17.8125\n",
        "Q21.1406 -20.7969 15.0938 -20.7969\n",
        "L7.90625 -20.7969\n",
        "L7.90625 -13.2812\n",
        "L13.1875 -13.2812\n",
        "Q16.8906 -13.2812 18.9375 -11.5156\n",
        "Q21 -9.76562 23.4844 -3.21875\n",
        "L25.0938 0.875\n",
        "L2.98438 54.6875\n",
        "L12.5 54.6875\n",
        "L29.5938 11.9219\n",
        "L46.6875 54.6875\n",
        "L56.2031 54.6875\n",
        "z\n",
        "\" id=\"BitstreamVeraSans-Roman-79\"/>\n",
        "       <path d=\"\n",
        "M56.2031 29.5938\n",
        "L56.2031 25.2031\n",
        "L14.8906 25.2031\n",
        "Q15.4844 15.9219 20.4844 11.0625\n",
        "Q25.4844 6.20312 34.4219 6.20312\n",
        "Q39.5938 6.20312 44.4531 7.46875\n",
        "Q49.3125 8.73438 54.1094 11.2812\n",
        "L54.1094 2.78125\n",
        "Q49.2656 0.734375 44.1875 -0.34375\n",
        "Q39.1094 -1.42188 33.8906 -1.42188\n",
        "Q20.7969 -1.42188 13.1562 6.1875\n",
        "Q5.51562 13.8125 5.51562 26.8125\n",
        "Q5.51562 40.2344 12.7656 48.1094\n",
        "Q20.0156 56 32.3281 56\n",
        "Q43.3594 56 49.7812 48.8906\n",
        "Q56.2031 41.7969 56.2031 29.5938\n",
        "M47.2188 32.2344\n",
        "Q47.125 39.5938 43.0938 43.9844\n",
        "Q39.0625 48.3906 32.4219 48.3906\n",
        "Q24.9062 48.3906 20.3906 44.1406\n",
        "Q15.875 39.8906 15.1875 32.1719\n",
        "z\n",
        "\" id=\"BitstreamVeraSans-Roman-65\"/>\n",
        "       <path id=\"BitstreamVeraSans-Roman-20\"/>\n",
        "       <path d=\"\n",
        "M9.07812 75.9844\n",
        "L18.1094 75.9844\n",
        "L18.1094 31.1094\n",
        "L44.9219 54.6875\n",
        "L56.3906 54.6875\n",
        "L27.3906 29.1094\n",
        "L57.625 0\n",
        "L45.9062 0\n",
        "L18.1094 26.7031\n",
        "L18.1094 0\n",
        "L9.07812 0\n",
        "z\n",
        "\" id=\"BitstreamVeraSans-Roman-6b\"/>\n",
        "       <path d=\"\n",
        "M-0.296875 72.9062\n",
        "L61.375 72.9062\n",
        "L61.375 64.5938\n",
        "L35.5 64.5938\n",
        "L35.5 0\n",
        "L25.5938 0\n",
        "L25.5938 64.5938\n",
        "L-0.296875 64.5938\n",
        "z\n",
        "\" id=\"BitstreamVeraSans-Roman-54\"/>\n",
        "      </defs>\n",
        "      <g transform=\"translate(90.890625 1112.1775)scale(0.1 -0.1)\">\n",
        "       <use xlink:href=\"#BitstreamVeraSans-Roman-54\"/>\n",
        "       <use x=\"44.083984375\" xlink:href=\"#BitstreamVeraSans-Roman-65\"/>\n",
        "       <use x=\"105.607421875\" xlink:href=\"#BitstreamVeraSans-Roman-72\"/>\n",
        "       <use x=\"146.720703125\" xlink:href=\"#BitstreamVeraSans-Roman-69\"/>\n",
        "       <use x=\"174.50390625\" xlink:href=\"#BitstreamVeraSans-Roman-79\"/>\n",
        "       <use x=\"233.68359375\" xlink:href=\"#BitstreamVeraSans-Roman-61\"/>\n",
        "       <use x=\"294.962890625\" xlink:href=\"#BitstreamVeraSans-Roman-6b\"/>\n",
        "       <use x=\"352.873046875\" xlink:href=\"#BitstreamVeraSans-Roman-69\"/>\n",
        "       <use x=\"380.65625\" xlink:href=\"#BitstreamVeraSans-Roman-20\"/>\n",
        "       <use x=\"412.443359375\" xlink:href=\"#BitstreamVeraSans-Roman-31\"/>\n",
        "       <use x=\"476.06640625\" xlink:href=\"#BitstreamVeraSans-Roman-73\"/>\n",
        "       <use x=\"528.166015625\" xlink:href=\"#BitstreamVeraSans-Roman-74\"/>\n",
        "      </g>\n",
        "     </g>\n",
        "    </g>\n",
        "    <g id=\"ytick_2\">\n",
        "     <g id=\"text_11\">\n",
        "      <!-- Fog\u00f3n Cocina Mexicana -->\n",
        "      <defs>\n",
        "       <path d=\"\n",
        "M54.8906 54.6875\n",
        "L35.1094 28.0781\n",
        "L55.9062 0\n",
        "L45.3125 0\n",
        "L29.3906 21.4844\n",
        "L13.4844 0\n",
        "L2.875 0\n",
        "L24.125 28.6094\n",
        "L4.6875 54.6875\n",
        "L15.2812 54.6875\n",
        "L29.7812 35.2031\n",
        "L44.2812 54.6875\n",
        "z\n",
        "\" id=\"BitstreamVeraSans-Roman-78\"/>\n",
        "       <path d=\"\n",
        "M48.7812 52.5938\n",
        "L48.7812 44.1875\n",
        "Q44.9688 46.2969 41.1406 47.3438\n",
        "Q37.3125 48.3906 33.4062 48.3906\n",
        "Q24.6562 48.3906 19.8125 42.8438\n",
        "Q14.9844 37.3125 14.9844 27.2969\n",
        "Q14.9844 17.2812 19.8125 11.7344\n",
        "Q24.6562 6.20312 33.4062 6.20312\n",
        "Q37.3125 6.20312 41.1406 7.25\n",
        "Q44.9688 8.29688 48.7812 10.4062\n",
        "L48.7812 2.09375\n",
        "Q45.0156 0.34375 40.9844 -0.53125\n",
        "Q36.9688 -1.42188 32.4219 -1.42188\n",
        "Q20.0625 -1.42188 12.7812 6.34375\n",
        "Q5.51562 14.1094 5.51562 27.2969\n",
        "Q5.51562 40.6719 12.8594 48.3281\n",
        "Q20.2188 56 33.0156 56\n",
        "Q37.1562 56 41.1094 55.1406\n",
        "Q45.0625 54.2969 48.7812 52.5938\" id=\"BitstreamVeraSans-Roman-63\"/>\n",
        "       <path d=\"\n",
        "M9.8125 72.9062\n",
        "L24.5156 72.9062\n",
        "L43.1094 23.2969\n",
        "L61.8125 72.9062\n",
        "L76.5156 72.9062\n",
        "L76.5156 0\n",
        "L66.8906 0\n",
        "L66.8906 64.0156\n",
        "L48.0938 14.0156\n",
        "L38.1875 14.0156\n",
        "L19.3906 64.0156\n",
        "L19.3906 0\n",
        "L9.8125 0\n",
        "z\n",
        "\" id=\"BitstreamVeraSans-Roman-4d\"/>\n",
        "       <path d=\"\n",
        "M45.4062 27.9844\n",
        "Q45.4062 37.75 41.375 43.1094\n",
        "Q37.3594 48.4844 30.0781 48.4844\n",
        "Q22.8594 48.4844 18.8281 43.1094\n",
        "Q14.7969 37.75 14.7969 27.9844\n",
        "Q14.7969 18.2656 18.8281 12.8906\n",
        "Q22.8594 7.51562 30.0781 7.51562\n",
        "Q37.3594 7.51562 41.375 12.8906\n",
        "Q45.4062 18.2656 45.4062 27.9844\n",
        "M54.3906 6.78125\n",
        "Q54.3906 -7.17188 48.1875 -13.9844\n",
        "Q42 -20.7969 29.2031 -20.7969\n",
        "Q24.4688 -20.7969 20.2656 -20.0938\n",
        "Q16.0625 -19.3906 12.1094 -17.9219\n",
        "L12.1094 -9.1875\n",
        "Q16.0625 -11.3281 19.9219 -12.3438\n",
        "Q23.7812 -13.375 27.7812 -13.375\n",
        "Q36.625 -13.375 41.0156 -8.76562\n",
        "Q45.4062 -4.15625 45.4062 5.17188\n",
        "L45.4062 9.625\n",
        "Q42.625 4.78125 38.2812 2.39062\n",
        "Q33.9375 0 27.875 0\n",
        "Q17.8281 0 11.6719 7.65625\n",
        "Q5.51562 15.3281 5.51562 27.9844\n",
        "Q5.51562 40.6719 11.6719 48.3281\n",
        "Q17.8281 56 27.875 56\n",
        "Q33.9375 56 38.2812 53.6094\n",
        "Q42.625 51.2188 45.4062 46.3906\n",
        "L45.4062 54.6875\n",
        "L54.3906 54.6875\n",
        "z\n",
        "\" id=\"BitstreamVeraSans-Roman-67\"/>\n",
        "       <path d=\"\n",
        "M30.6094 48.3906\n",
        "Q23.3906 48.3906 19.1875 42.75\n",
        "Q14.9844 37.1094 14.9844 27.2969\n",
        "Q14.9844 17.4844 19.1562 11.8438\n",
        "Q23.3438 6.20312 30.6094 6.20312\n",
        "Q37.7969 6.20312 41.9844 11.8594\n",
        "Q46.1875 17.5312 46.1875 27.2969\n",
        "Q46.1875 37.0156 41.9844 42.7031\n",
        "Q37.7969 48.3906 30.6094 48.3906\n",
        "M30.6094 56\n",
        "Q42.3281 56 49.0156 48.375\n",
        "Q55.7188 40.7656 55.7188 27.2969\n",
        "Q55.7188 13.875 49.0156 6.21875\n",
        "Q42.3281 -1.42188 30.6094 -1.42188\n",
        "Q18.8438 -1.42188 12.1719 6.21875\n",
        "Q5.51562 13.875 5.51562 27.2969\n",
        "Q5.51562 40.7656 12.1719 48.375\n",
        "Q18.8438 56 30.6094 56\" id=\"BitstreamVeraSans-Roman-6f\"/>\n",
        "       <path d=\"\n",
        "M54.8906 33.0156\n",
        "L54.8906 0\n",
        "L45.9062 0\n",
        "L45.9062 32.7188\n",
        "Q45.9062 40.4844 42.875 44.3281\n",
        "Q39.8438 48.1875 33.7969 48.1875\n",
        "Q26.5156 48.1875 22.3125 43.5469\n",
        "Q18.1094 38.9219 18.1094 30.9062\n",
        "L18.1094 0\n",
        "L9.07812 0\n",
        "L9.07812 54.6875\n",
        "L18.1094 54.6875\n",
        "L18.1094 46.1875\n",
        "Q21.3438 51.125 25.7031 53.5625\n",
        "Q30.0781 56 35.7969 56\n",
        "Q45.2188 56 50.0469 50.1719\n",
        "Q54.8906 44.3438 54.8906 33.0156\" id=\"BitstreamVeraSans-Roman-6e\"/>\n",
        "       <path d=\"\n",
        "M30.6094 48.3906\n",
        "Q23.3906 48.3906 19.1875 42.75\n",
        "Q14.9844 37.1094 14.9844 27.2969\n",
        "Q14.9844 17.4844 19.1562 11.8438\n",
        "Q23.3438 6.20312 30.6094 6.20312\n",
        "Q37.7969 6.20312 41.9844 11.8594\n",
        "Q46.1875 17.5312 46.1875 27.2969\n",
        "Q46.1875 37.0156 41.9844 42.7031\n",
        "Q37.7969 48.3906 30.6094 48.3906\n",
        "M30.6094 56\n",
        "Q42.3281 56 49.0156 48.375\n",
        "Q55.7188 40.7656 55.7188 27.2969\n",
        "Q55.7188 13.875 49.0156 6.21875\n",
        "Q42.3281 -1.42188 30.6094 -1.42188\n",
        "Q18.8438 -1.42188 12.1719 6.21875\n",
        "Q5.51562 13.875 5.51562 27.2969\n",
        "Q5.51562 40.7656 12.1719 48.375\n",
        "Q18.8438 56 30.6094 56\n",
        "M37.4062 79.9844\n",
        "L47.125 79.9844\n",
        "L31.2188 61.625\n",
        "L23.7344 61.625\n",
        "z\n",
        "\" id=\"BitstreamVeraSans-Roman-f3\"/>\n",
        "       <path d=\"\n",
        "M64.4062 67.2812\n",
        "L64.4062 56.8906\n",
        "Q59.4219 61.5312 53.7812 63.8125\n",
        "Q48.1406 66.1094 41.7969 66.1094\n",
        "Q29.2969 66.1094 22.6562 58.4688\n",
        "Q16.0156 50.8281 16.0156 36.375\n",
        "Q16.0156 21.9688 22.6562 14.3281\n",
        "Q29.2969 6.6875 41.7969 6.6875\n",
        "Q48.1406 6.6875 53.7812 8.98438\n",
        "Q59.4219 11.2812 64.4062 15.9219\n",
        "L64.4062 5.60938\n",
        "Q59.2344 2.09375 53.4375 0.328125\n",
        "Q47.6562 -1.42188 41.2188 -1.42188\n",
        "Q24.6562 -1.42188 15.125 8.70312\n",
        "Q5.60938 18.8438 5.60938 36.375\n",
        "Q5.60938 53.9531 15.125 64.0781\n",
        "Q24.6562 74.2188 41.2188 74.2188\n",
        "Q47.75 74.2188 53.5312 72.4844\n",
        "Q59.3281 70.75 64.4062 67.2812\" id=\"BitstreamVeraSans-Roman-43\"/>\n",
        "       <path d=\"\n",
        "M9.8125 72.9062\n",
        "L51.7031 72.9062\n",
        "L51.7031 64.5938\n",
        "L19.6719 64.5938\n",
        "L19.6719 43.1094\n",
        "L48.5781 43.1094\n",
        "L48.5781 34.8125\n",
        "L19.6719 34.8125\n",
        "L19.6719 0\n",
        "L9.8125 0\n",
        "z\n",
        "\" id=\"BitstreamVeraSans-Roman-46\"/>\n",
        "      </defs>\n",
        "      <g transform=\"translate(30.4171875 1056.5775)scale(0.1 -0.1)\">\n",
        "       <use xlink:href=\"#BitstreamVeraSans-Roman-46\"/>\n",
        "       <use x=\"53.89453125\" xlink:href=\"#BitstreamVeraSans-Roman-6f\"/>\n",
        "       <use x=\"115.076171875\" xlink:href=\"#BitstreamVeraSans-Roman-67\"/>\n",
        "       <use x=\"178.552734375\" xlink:href=\"#BitstreamVeraSans-Roman-f3\"/>\n",
        "       <use x=\"239.734375\" xlink:href=\"#BitstreamVeraSans-Roman-6e\"/>\n",
        "       <use x=\"303.11328125\" xlink:href=\"#BitstreamVeraSans-Roman-20\"/>\n",
        "       <use x=\"334.900390625\" xlink:href=\"#BitstreamVeraSans-Roman-43\"/>\n",
        "       <use x=\"404.724609375\" xlink:href=\"#BitstreamVeraSans-Roman-6f\"/>\n",
        "       <use x=\"465.90625\" xlink:href=\"#BitstreamVeraSans-Roman-63\"/>\n",
        "       <use x=\"520.88671875\" xlink:href=\"#BitstreamVeraSans-Roman-69\"/>\n",
        "       <use x=\"548.669921875\" xlink:href=\"#BitstreamVeraSans-Roman-6e\"/>\n",
        "       <use x=\"612.048828125\" xlink:href=\"#BitstreamVeraSans-Roman-61\"/>\n",
        "       <use x=\"673.328125\" xlink:href=\"#BitstreamVeraSans-Roman-20\"/>\n",
        "       <use x=\"705.115234375\" xlink:href=\"#BitstreamVeraSans-Roman-4d\"/>\n",
        "       <use x=\"791.39453125\" xlink:href=\"#BitstreamVeraSans-Roman-65\"/>\n",
        "       <use x=\"851.16796875\" xlink:href=\"#BitstreamVeraSans-Roman-78\"/>\n",
        "       <use x=\"910.34765625\" xlink:href=\"#BitstreamVeraSans-Roman-69\"/>\n",
        "       <use x=\"938.130859375\" xlink:href=\"#BitstreamVeraSans-Roman-63\"/>\n",
        "       <use x=\"993.111328125\" xlink:href=\"#BitstreamVeraSans-Roman-61\"/>\n",
        "       <use x=\"1054.390625\" xlink:href=\"#BitstreamVeraSans-Roman-6e\"/>\n",
        "       <use x=\"1117.76953125\" xlink:href=\"#BitstreamVeraSans-Roman-61\"/>\n",
        "      </g>\n",
        "     </g>\n",
        "    </g>\n",
        "    <g id=\"ytick_3\">\n",
        "     <g id=\"text_12\">\n",
        "      <!-- Shinn's Place -->\n",
        "      <defs>\n",
        "       <path d=\"\n",
        "M53.5156 70.5156\n",
        "L53.5156 60.8906\n",
        "Q47.9062 63.5781 42.9219 64.8906\n",
        "Q37.9375 66.2188 33.2969 66.2188\n",
        "Q25.25 66.2188 20.875 63.0938\n",
        "Q16.5 59.9688 16.5 54.2031\n",
        "Q16.5 49.3594 19.4062 46.8906\n",
        "Q22.3125 44.4375 30.4219 42.9219\n",
        "L36.375 41.7031\n",
        "Q47.4062 39.5938 52.6562 34.2969\n",
        "Q57.9062 29 57.9062 20.125\n",
        "Q57.9062 9.51562 50.7969 4.04688\n",
        "Q43.7031 -1.42188 29.9844 -1.42188\n",
        "Q24.8125 -1.42188 18.9688 -0.25\n",
        "Q13.1406 0.921875 6.89062 3.21875\n",
        "L6.89062 13.375\n",
        "Q12.8906 10.0156 18.6562 8.29688\n",
        "Q24.4219 6.59375 29.9844 6.59375\n",
        "Q38.4219 6.59375 43.0156 9.90625\n",
        "Q47.6094 13.2344 47.6094 19.3906\n",
        "Q47.6094 24.75 44.3125 27.7812\n",
        "Q41.0156 30.8125 33.5 32.3281\n",
        "L27.4844 33.5\n",
        "Q16.4531 35.6875 11.5156 40.375\n",
        "Q6.59375 45.0625 6.59375 53.4219\n",
        "Q6.59375 63.0938 13.4062 68.6562\n",
        "Q20.2188 74.2188 32.1719 74.2188\n",
        "Q37.3125 74.2188 42.625 73.2812\n",
        "Q47.9531 72.3594 53.5156 70.5156\" id=\"BitstreamVeraSans-Roman-53\"/>\n",
        "       <path d=\"\n",
        "M19.6719 64.7969\n",
        "L19.6719 37.4062\n",
        "L32.0781 37.4062\n",
        "Q38.9688 37.4062 42.7188 40.9688\n",
        "Q46.4844 44.5312 46.4844 51.125\n",
        "Q46.4844 57.6719 42.7188 61.2344\n",
        "Q38.9688 64.7969 32.0781 64.7969\n",
        "z\n",
        "\n",
        "M9.8125 72.9062\n",
        "L32.0781 72.9062\n",
        "Q44.3438 72.9062 50.6094 67.3594\n",
        "Q56.8906 61.8125 56.8906 51.125\n",
        "Q56.8906 40.3281 50.6094 34.8125\n",
        "Q44.3438 29.2969 32.0781 29.2969\n",
        "L19.6719 29.2969\n",
        "L19.6719 0\n",
        "L9.8125 0\n",
        "z\n",
        "\" id=\"BitstreamVeraSans-Roman-50\"/>\n",
        "       <path d=\"\n",
        "M17.9219 72.9062\n",
        "L17.9219 45.7969\n",
        "L9.625 45.7969\n",
        "L9.625 72.9062\n",
        "z\n",
        "\" id=\"BitstreamVeraSans-Roman-27\"/>\n",
        "       <path d=\"\n",
        "M9.42188 75.9844\n",
        "L18.4062 75.9844\n",
        "L18.4062 0\n",
        "L9.42188 0\n",
        "z\n",
        "\" id=\"BitstreamVeraSans-Roman-6c\"/>\n",
        "       <path d=\"\n",
        "M54.8906 33.0156\n",
        "L54.8906 0\n",
        "L45.9062 0\n",
        "L45.9062 32.7188\n",
        "Q45.9062 40.4844 42.875 44.3281\n",
        "Q39.8438 48.1875 33.7969 48.1875\n",
        "Q26.5156 48.1875 22.3125 43.5469\n",
        "Q18.1094 38.9219 18.1094 30.9062\n",
        "L18.1094 0\n",
        "L9.07812 0\n",
        "L9.07812 75.9844\n",
        "L18.1094 75.9844\n",
        "L18.1094 46.1875\n",
        "Q21.3438 51.125 25.7031 53.5625\n",
        "Q30.0781 56 35.7969 56\n",
        "Q45.2188 56 50.0469 50.1719\n",
        "Q54.8906 44.3438 54.8906 33.0156\" id=\"BitstreamVeraSans-Roman-68\"/>\n",
        "      </defs>\n",
        "      <g transform=\"translate(82.0875 1000.5775)scale(0.1 -0.1)\">\n",
        "       <use xlink:href=\"#BitstreamVeraSans-Roman-53\"/>\n",
        "       <use x=\"63.4765625\" xlink:href=\"#BitstreamVeraSans-Roman-68\"/>\n",
        "       <use x=\"126.85546875\" xlink:href=\"#BitstreamVeraSans-Roman-69\"/>\n",
        "       <use x=\"154.638671875\" xlink:href=\"#BitstreamVeraSans-Roman-6e\"/>\n",
        "       <use x=\"218.017578125\" xlink:href=\"#BitstreamVeraSans-Roman-6e\"/>\n",
        "       <use x=\"281.396484375\" xlink:href=\"#BitstreamVeraSans-Roman-27\"/>\n",
        "       <use x=\"308.88671875\" xlink:href=\"#BitstreamVeraSans-Roman-73\"/>\n",
        "       <use x=\"360.986328125\" xlink:href=\"#BitstreamVeraSans-Roman-20\"/>\n",
        "       <use x=\"392.7734375\" xlink:href=\"#BitstreamVeraSans-Roman-50\"/>\n",
        "       <use x=\"453.076171875\" xlink:href=\"#BitstreamVeraSans-Roman-6c\"/>\n",
        "       <use x=\"480.859375\" xlink:href=\"#BitstreamVeraSans-Roman-61\"/>\n",
        "       <use x=\"542.138671875\" xlink:href=\"#BitstreamVeraSans-Roman-63\"/>\n",
        "       <use x=\"597.119140625\" xlink:href=\"#BitstreamVeraSans-Roman-65\"/>\n",
        "      </g>\n",
        "     </g>\n",
        "    </g>\n",
        "    <g id=\"ytick_4\">\n",
        "     <g id=\"text_13\">\n",
        "      <!-- sunrice-seattle -->\n",
        "      <defs>\n",
        "       <path d=\"\n",
        "M8.5 21.5781\n",
        "L8.5 54.6875\n",
        "L17.4844 54.6875\n",
        "L17.4844 21.9219\n",
        "Q17.4844 14.1562 20.5 10.2656\n",
        "Q23.5312 6.39062 29.5938 6.39062\n",
        "Q36.8594 6.39062 41.0781 11.0312\n",
        "Q45.3125 15.6719 45.3125 23.6875\n",
        "L45.3125 54.6875\n",
        "L54.2969 54.6875\n",
        "L54.2969 0\n",
        "L45.3125 0\n",
        "L45.3125 8.40625\n",
        "Q42.0469 3.42188 37.7188 1\n",
        "Q33.4062 -1.42188 27.6875 -1.42188\n",
        "Q18.2656 -1.42188 13.375 4.4375\n",
        "Q8.5 10.2969 8.5 21.5781\" id=\"BitstreamVeraSans-Roman-75\"/>\n",
        "       <path d=\"\n",
        "M4.89062 31.3906\n",
        "L31.2031 31.3906\n",
        "L31.2031 23.3906\n",
        "L4.89062 23.3906\n",
        "z\n",
        "\" id=\"BitstreamVeraSans-Roman-2d\"/>\n",
        "      </defs>\n",
        "      <g transform=\"translate(74.196875 944.7775)scale(0.1 -0.1)\">\n",
        "       <use xlink:href=\"#BitstreamVeraSans-Roman-73\"/>\n",
        "       <use x=\"52.099609375\" xlink:href=\"#BitstreamVeraSans-Roman-75\"/>\n",
        "       <use x=\"115.478515625\" xlink:href=\"#BitstreamVeraSans-Roman-6e\"/>\n",
        "       <use x=\"178.857421875\" xlink:href=\"#BitstreamVeraSans-Roman-72\"/>\n",
        "       <use x=\"219.970703125\" xlink:href=\"#BitstreamVeraSans-Roman-69\"/>\n",
        "       <use x=\"247.75390625\" xlink:href=\"#BitstreamVeraSans-Roman-63\"/>\n",
        "       <use x=\"302.734375\" xlink:href=\"#BitstreamVeraSans-Roman-65\"/>\n",
        "       <use x=\"364.2578125\" xlink:href=\"#BitstreamVeraSans-Roman-2d\"/>\n",
        "       <use x=\"400.341796875\" xlink:href=\"#BitstreamVeraSans-Roman-73\"/>\n",
        "       <use x=\"452.44140625\" xlink:href=\"#BitstreamVeraSans-Roman-65\"/>\n",
        "       <use x=\"513.96484375\" xlink:href=\"#BitstreamVeraSans-Roman-61\"/>\n",
        "       <use x=\"575.244140625\" xlink:href=\"#BitstreamVeraSans-Roman-74\"/>\n",
        "       <use x=\"614.453125\" xlink:href=\"#BitstreamVeraSans-Roman-74\"/>\n",
        "       <use x=\"653.662109375\" xlink:href=\"#BitstreamVeraSans-Roman-6c\"/>\n",
        "       <use x=\"681.4453125\" xlink:href=\"#BitstreamVeraSans-Roman-65\"/>\n",
        "      </g>\n",
        "     </g>\n",
        "    </g>\n",
        "    <g id=\"ytick_5\">\n",
        "     <g id=\"text_14\">\n",
        "      <!-- deli-seoul-seattle -->\n",
        "      <defs>\n",
        "       <path d=\"\n",
        "M45.4062 46.3906\n",
        "L45.4062 75.9844\n",
        "L54.3906 75.9844\n",
        "L54.3906 0\n",
        "L45.4062 0\n",
        "L45.4062 8.20312\n",
        "Q42.5781 3.32812 38.25 0.953125\n",
        "Q33.9375 -1.42188 27.875 -1.42188\n",
        "Q17.9688 -1.42188 11.7344 6.48438\n",
        "Q5.51562 14.4062 5.51562 27.2969\n",
        "Q5.51562 40.1875 11.7344 48.0938\n",
        "Q17.9688 56 27.875 56\n",
        "Q33.9375 56 38.25 53.625\n",
        "Q42.5781 51.2656 45.4062 46.3906\n",
        "M14.7969 27.2969\n",
        "Q14.7969 17.3906 18.875 11.75\n",
        "Q22.9531 6.10938 30.0781 6.10938\n",
        "Q37.2031 6.10938 41.2969 11.75\n",
        "Q45.4062 17.3906 45.4062 27.2969\n",
        "Q45.4062 37.2031 41.2969 42.8438\n",
        "Q37.2031 48.4844 30.0781 48.4844\n",
        "Q22.9531 48.4844 18.875 42.8438\n",
        "Q14.7969 37.2031 14.7969 27.2969\" id=\"BitstreamVeraSans-Roman-64\"/>\n",
        "      </defs>\n",
        "      <g transform=\"translate(62.36875 888.9775)scale(0.1 -0.1)\">\n",
        "       <use xlink:href=\"#BitstreamVeraSans-Roman-64\"/>\n",
        "       <use x=\"63.4765625\" xlink:href=\"#BitstreamVeraSans-Roman-65\"/>\n",
        "       <use x=\"125.0\" xlink:href=\"#BitstreamVeraSans-Roman-6c\"/>\n",
        "       <use x=\"152.783203125\" xlink:href=\"#BitstreamVeraSans-Roman-69\"/>\n",
        "       <use x=\"180.56640625\" xlink:href=\"#BitstreamVeraSans-Roman-2d\"/>\n",
        "       <use x=\"216.650390625\" xlink:href=\"#BitstreamVeraSans-Roman-73\"/>\n",
        "       <use x=\"268.75\" xlink:href=\"#BitstreamVeraSans-Roman-65\"/>\n",
        "       <use x=\"330.2734375\" xlink:href=\"#BitstreamVeraSans-Roman-6f\"/>\n",
        "       <use x=\"391.455078125\" xlink:href=\"#BitstreamVeraSans-Roman-75\"/>\n",
        "       <use x=\"454.833984375\" xlink:href=\"#BitstreamVeraSans-Roman-6c\"/>\n",
        "       <use x=\"482.6171875\" xlink:href=\"#BitstreamVeraSans-Roman-2d\"/>\n",
        "       <use x=\"518.701171875\" xlink:href=\"#BitstreamVeraSans-Roman-73\"/>\n",
        "       <use x=\"570.80078125\" xlink:href=\"#BitstreamVeraSans-Roman-65\"/>\n",
        "       <use x=\"632.32421875\" xlink:href=\"#BitstreamVeraSans-Roman-61\"/>\n",
        "       <use x=\"693.603515625\" xlink:href=\"#BitstreamVeraSans-Roman-74\"/>\n",
        "       <use x=\"732.8125\" xlink:href=\"#BitstreamVeraSans-Roman-74\"/>\n",
        "       <use x=\"772.021484375\" xlink:href=\"#BitstreamVeraSans-Roman-6c\"/>\n",
        "       <use x=\"799.8046875\" xlink:href=\"#BitstreamVeraSans-Roman-65\"/>\n",
        "      </g>\n",
        "     </g>\n",
        "    </g>\n",
        "    <g id=\"ytick_6\">\n",
        "     <g id=\"text_15\">\n",
        "      <!-- Zaccagni's -->\n",
        "      <defs>\n",
        "       <path d=\"\n",
        "M5.60938 72.9062\n",
        "L62.8906 72.9062\n",
        "L62.8906 65.375\n",
        "L16.7969 8.29688\n",
        "L64.0156 8.29688\n",
        "L64.0156 0\n",
        "L4.5 0\n",
        "L4.5 7.51562\n",
        "L50.5938 64.5938\n",
        "L5.60938 64.5938\n",
        "z\n",
        "\" id=\"BitstreamVeraSans-Roman-5a\"/>\n",
        "      </defs>\n",
        "      <g transform=\"translate(94.8296875 833.1775)scale(0.1 -0.1)\">\n",
        "       <use xlink:href=\"#BitstreamVeraSans-Roman-5a\"/>\n",
        "       <use x=\"68.505859375\" xlink:href=\"#BitstreamVeraSans-Roman-61\"/>\n",
        "       <use x=\"129.78515625\" xlink:href=\"#BitstreamVeraSans-Roman-63\"/>\n",
        "       <use x=\"184.765625\" xlink:href=\"#BitstreamVeraSans-Roman-63\"/>\n",
        "       <use x=\"239.74609375\" xlink:href=\"#BitstreamVeraSans-Roman-61\"/>\n",
        "       <use x=\"301.025390625\" xlink:href=\"#BitstreamVeraSans-Roman-67\"/>\n",
        "       <use x=\"364.501953125\" xlink:href=\"#BitstreamVeraSans-Roman-6e\"/>\n",
        "       <use x=\"427.880859375\" xlink:href=\"#BitstreamVeraSans-Roman-69\"/>\n",
        "       <use x=\"455.6640625\" xlink:href=\"#BitstreamVeraSans-Roman-27\"/>\n",
        "       <use x=\"483.154296875\" xlink:href=\"#BitstreamVeraSans-Roman-73\"/>\n",
        "      </g>\n",
        "     </g>\n",
        "    </g>\n",
        "    <g id=\"ytick_7\">\n",
        "     <g id=\"text_16\">\n",
        "      <!-- kaffeeklatsch-seattle -->\n",
        "      <defs>\n",
        "       <path d=\"\n",
        "M37.1094 75.9844\n",
        "L37.1094 68.5\n",
        "L28.5156 68.5\n",
        "Q23.6875 68.5 21.7969 66.5469\n",
        "Q19.9219 64.5938 19.9219 59.5156\n",
        "L19.9219 54.6875\n",
        "L34.7188 54.6875\n",
        "L34.7188 47.7031\n",
        "L19.9219 47.7031\n",
        "L19.9219 0\n",
        "L10.8906 0\n",
        "L10.8906 47.7031\n",
        "L2.29688 47.7031\n",
        "L2.29688 54.6875\n",
        "L10.8906 54.6875\n",
        "L10.8906 58.5\n",
        "Q10.8906 67.625 15.1406 71.7969\n",
        "Q19.3906 75.9844 28.6094 75.9844\n",
        "z\n",
        "\" id=\"BitstreamVeraSans-Roman-66\"/>\n",
        "      </defs>\n",
        "      <g transform=\"translate(44.234375 777.3775)scale(0.1 -0.1)\">\n",
        "       <use xlink:href=\"#BitstreamVeraSans-Roman-6b\"/>\n",
        "       <use x=\"56.16015625\" xlink:href=\"#BitstreamVeraSans-Roman-61\"/>\n",
        "       <use x=\"117.439453125\" xlink:href=\"#BitstreamVeraSans-Roman-66\"/>\n",
        "       <use x=\"152.64453125\" xlink:href=\"#BitstreamVeraSans-Roman-66\"/>\n",
        "       <use x=\"187.849609375\" xlink:href=\"#BitstreamVeraSans-Roman-65\"/>\n",
        "       <use x=\"249.373046875\" xlink:href=\"#BitstreamVeraSans-Roman-65\"/>\n",
        "       <use x=\"310.896484375\" xlink:href=\"#BitstreamVeraSans-Roman-6b\"/>\n",
        "       <use x=\"368.806640625\" xlink:href=\"#BitstreamVeraSans-Roman-6c\"/>\n",
        "       <use x=\"396.58984375\" xlink:href=\"#BitstreamVeraSans-Roman-61\"/>\n",
        "       <use x=\"457.869140625\" xlink:href=\"#BitstreamVeraSans-Roman-74\"/>\n",
        "       <use x=\"497.078125\" xlink:href=\"#BitstreamVeraSans-Roman-73\"/>\n",
        "       <use x=\"549.177734375\" xlink:href=\"#BitstreamVeraSans-Roman-63\"/>\n",
        "       <use x=\"604.158203125\" xlink:href=\"#BitstreamVeraSans-Roman-68\"/>\n",
        "       <use x=\"667.537109375\" xlink:href=\"#BitstreamVeraSans-Roman-2d\"/>\n",
        "       <use x=\"703.62109375\" xlink:href=\"#BitstreamVeraSans-Roman-73\"/>\n",
        "       <use x=\"755.720703125\" xlink:href=\"#BitstreamVeraSans-Roman-65\"/>\n",
        "       <use x=\"817.244140625\" xlink:href=\"#BitstreamVeraSans-Roman-61\"/>\n",
        "       <use x=\"878.5234375\" xlink:href=\"#BitstreamVeraSans-Roman-74\"/>\n",
        "       <use x=\"917.732421875\" xlink:href=\"#BitstreamVeraSans-Roman-74\"/>\n",
        "       <use x=\"956.94140625\" xlink:href=\"#BitstreamVeraSans-Roman-6c\"/>\n",
        "       <use x=\"984.724609375\" xlink:href=\"#BitstreamVeraSans-Roman-65\"/>\n",
        "      </g>\n",
        "     </g>\n",
        "    </g>\n",
        "    <g id=\"ytick_8\">\n",
        "     <g id=\"text_17\">\n",
        "      <!-- EJ Burger -->\n",
        "      <defs>\n",
        "       <path d=\"\n",
        "M9.8125 72.9062\n",
        "L19.6719 72.9062\n",
        "L19.6719 5.07812\n",
        "Q19.6719 -8.10938 14.6719 -14.0625\n",
        "Q9.67188 -20.0156 -1.42188 -20.0156\n",
        "L-5.17188 -20.0156\n",
        "L-5.17188 -11.7188\n",
        "L-2.09375 -11.7188\n",
        "Q4.4375 -11.7188 7.125 -8.04688\n",
        "Q9.8125 -4.39062 9.8125 5.07812\n",
        "z\n",
        "\" id=\"BitstreamVeraSans-Roman-4a\"/>\n",
        "       <path d=\"\n",
        "M19.6719 34.8125\n",
        "L19.6719 8.10938\n",
        "L35.5 8.10938\n",
        "Q43.4531 8.10938 47.2812 11.4062\n",
        "Q51.125 14.7031 51.125 21.4844\n",
        "Q51.125 28.3281 47.2812 31.5625\n",
        "Q43.4531 34.8125 35.5 34.8125\n",
        "z\n",
        "\n",
        "M19.6719 64.7969\n",
        "L19.6719 42.8281\n",
        "L34.2812 42.8281\n",
        "Q41.5 42.8281 45.0312 45.5312\n",
        "Q48.5781 48.25 48.5781 53.8125\n",
        "Q48.5781 59.3281 45.0312 62.0625\n",
        "Q41.5 64.7969 34.2812 64.7969\n",
        "z\n",
        "\n",
        "M9.8125 72.9062\n",
        "L35.0156 72.9062\n",
        "Q46.2969 72.9062 52.3906 68.2188\n",
        "Q58.5 63.5312 58.5 54.8906\n",
        "Q58.5 48.1875 55.375 44.2344\n",
        "Q52.25 40.2812 46.1875 39.3125\n",
        "Q53.4688 37.75 57.5 32.7812\n",
        "Q61.5312 27.8281 61.5312 20.4062\n",
        "Q61.5312 10.6406 54.8906 5.3125\n",
        "Q48.25 0 35.9844 0\n",
        "L9.8125 0\n",
        "z\n",
        "\" id=\"BitstreamVeraSans-Roman-42\"/>\n",
        "       <path d=\"\n",
        "M9.8125 72.9062\n",
        "L55.9062 72.9062\n",
        "L55.9062 64.5938\n",
        "L19.6719 64.5938\n",
        "L19.6719 43.0156\n",
        "L54.3906 43.0156\n",
        "L54.3906 34.7188\n",
        "L19.6719 34.7188\n",
        "L19.6719 8.29688\n",
        "L56.7812 8.29688\n",
        "L56.7812 0\n",
        "L9.8125 0\n",
        "z\n",
        "\" id=\"BitstreamVeraSans-Roman-45\"/>\n",
        "      </defs>\n",
        "      <g transform=\"translate(101.2234375 721.5775)scale(0.1 -0.1)\">\n",
        "       <use xlink:href=\"#BitstreamVeraSans-Roman-45\"/>\n",
        "       <use x=\"63.18359375\" xlink:href=\"#BitstreamVeraSans-Roman-4a\"/>\n",
        "       <use x=\"92.67578125\" xlink:href=\"#BitstreamVeraSans-Roman-20\"/>\n",
        "       <use x=\"124.462890625\" xlink:href=\"#BitstreamVeraSans-Roman-42\"/>\n",
        "       <use x=\"193.06640625\" xlink:href=\"#BitstreamVeraSans-Roman-75\"/>\n",
        "       <use x=\"256.4453125\" xlink:href=\"#BitstreamVeraSans-Roman-72\"/>\n",
        "       <use x=\"295.80859375\" xlink:href=\"#BitstreamVeraSans-Roman-67\"/>\n",
        "       <use x=\"359.28515625\" xlink:href=\"#BitstreamVeraSans-Roman-65\"/>\n",
        "       <use x=\"420.80859375\" xlink:href=\"#BitstreamVeraSans-Roman-72\"/>\n",
        "      </g>\n",
        "     </g>\n",
        "    </g>\n",
        "    <g id=\"ytick_9\">\n",
        "     <g id=\"text_18\">\n",
        "      <!-- veggie-grill-seattle-6 -->\n",
        "      <defs>\n",
        "       <path d=\"\n",
        "M33.0156 40.375\n",
        "Q26.375 40.375 22.4844 35.8281\n",
        "Q18.6094 31.2969 18.6094 23.3906\n",
        "Q18.6094 15.5312 22.4844 10.9531\n",
        "Q26.375 6.39062 33.0156 6.39062\n",
        "Q39.6562 6.39062 43.5312 10.9531\n",
        "Q47.4062 15.5312 47.4062 23.3906\n",
        "Q47.4062 31.2969 43.5312 35.8281\n",
        "Q39.6562 40.375 33.0156 40.375\n",
        "M52.5938 71.2969\n",
        "L52.5938 62.3125\n",
        "Q48.875 64.0625 45.0938 64.9844\n",
        "Q41.3125 65.9219 37.5938 65.9219\n",
        "Q27.8281 65.9219 22.6719 59.3281\n",
        "Q17.5312 52.7344 16.7969 39.4062\n",
        "Q19.6719 43.6562 24.0156 45.9219\n",
        "Q28.375 48.1875 33.5938 48.1875\n",
        "Q44.5781 48.1875 50.9531 41.5156\n",
        "Q57.3281 34.8594 57.3281 23.3906\n",
        "Q57.3281 12.1562 50.6875 5.35938\n",
        "Q44.0469 -1.42188 33.0156 -1.42188\n",
        "Q20.3594 -1.42188 13.6719 8.26562\n",
        "Q6.98438 17.9688 6.98438 36.375\n",
        "Q6.98438 53.6562 15.1875 63.9375\n",
        "Q23.3906 74.2188 37.2031 74.2188\n",
        "Q40.9219 74.2188 44.7031 73.4844\n",
        "Q48.4844 72.75 52.5938 71.2969\" id=\"BitstreamVeraSans-Roman-36\"/>\n",
        "       <path d=\"\n",
        "M2.98438 54.6875\n",
        "L12.5 54.6875\n",
        "L29.5938 8.79688\n",
        "L46.6875 54.6875\n",
        "L56.2031 54.6875\n",
        "L35.6875 0\n",
        "L23.4844 0\n",
        "z\n",
        "\" id=\"BitstreamVeraSans-Roman-76\"/>\n",
        "      </defs>\n",
        "      <g transform=\"translate(44.403125 665.7775)scale(0.1 -0.1)\">\n",
        "       <use xlink:href=\"#BitstreamVeraSans-Roman-76\"/>\n",
        "       <use x=\"59.1796875\" xlink:href=\"#BitstreamVeraSans-Roman-65\"/>\n",
        "       <use x=\"120.703125\" xlink:href=\"#BitstreamVeraSans-Roman-67\"/>\n",
        "       <use x=\"184.1796875\" xlink:href=\"#BitstreamVeraSans-Roman-67\"/>\n",
        "       <use x=\"247.65625\" xlink:href=\"#BitstreamVeraSans-Roman-69\"/>\n",
        "       <use x=\"275.439453125\" xlink:href=\"#BitstreamVeraSans-Roman-65\"/>\n",
        "       <use x=\"336.962890625\" xlink:href=\"#BitstreamVeraSans-Roman-2d\"/>\n",
        "       <use x=\"373.046875\" xlink:href=\"#BitstreamVeraSans-Roman-67\"/>\n",
        "       <use x=\"436.5234375\" xlink:href=\"#BitstreamVeraSans-Roman-72\"/>\n",
        "       <use x=\"477.63671875\" xlink:href=\"#BitstreamVeraSans-Roman-69\"/>\n",
        "       <use x=\"505.419921875\" xlink:href=\"#BitstreamVeraSans-Roman-6c\"/>\n",
        "       <use x=\"533.203125\" xlink:href=\"#BitstreamVeraSans-Roman-6c\"/>\n",
        "       <use x=\"560.986328125\" xlink:href=\"#BitstreamVeraSans-Roman-2d\"/>\n",
        "       <use x=\"597.0703125\" xlink:href=\"#BitstreamVeraSans-Roman-73\"/>\n",
        "       <use x=\"649.169921875\" xlink:href=\"#BitstreamVeraSans-Roman-65\"/>\n",
        "       <use x=\"710.693359375\" xlink:href=\"#BitstreamVeraSans-Roman-61\"/>\n",
        "       <use x=\"771.97265625\" xlink:href=\"#BitstreamVeraSans-Roman-74\"/>\n",
        "       <use x=\"811.181640625\" xlink:href=\"#BitstreamVeraSans-Roman-74\"/>\n",
        "       <use x=\"850.390625\" xlink:href=\"#BitstreamVeraSans-Roman-6c\"/>\n",
        "       <use x=\"878.173828125\" xlink:href=\"#BitstreamVeraSans-Roman-65\"/>\n",
        "       <use x=\"939.697265625\" xlink:href=\"#BitstreamVeraSans-Roman-2d\"/>\n",
        "       <use x=\"975.78125\" xlink:href=\"#BitstreamVeraSans-Roman-36\"/>\n",
        "      </g>\n",
        "     </g>\n",
        "    </g>\n",
        "    <g id=\"ytick_10\">\n",
        "     <g id=\"text_19\">\n",
        "      <!-- loving-hut-seattle -->\n",
        "      <g transform=\"translate(60.5390625 609.9775)scale(0.1 -0.1)\">\n",
        "       <use xlink:href=\"#BitstreamVeraSans-Roman-6c\"/>\n",
        "       <use x=\"27.783203125\" xlink:href=\"#BitstreamVeraSans-Roman-6f\"/>\n",
        "       <use x=\"88.96484375\" xlink:href=\"#BitstreamVeraSans-Roman-76\"/>\n",
        "       <use x=\"148.14453125\" xlink:href=\"#BitstreamVeraSans-Roman-69\"/>\n",
        "       <use x=\"175.927734375\" xlink:href=\"#BitstreamVeraSans-Roman-6e\"/>\n",
        "       <use x=\"239.306640625\" xlink:href=\"#BitstreamVeraSans-Roman-67\"/>\n",
        "       <use x=\"302.783203125\" xlink:href=\"#BitstreamVeraSans-Roman-2d\"/>\n",
        "       <use x=\"338.8671875\" xlink:href=\"#BitstreamVeraSans-Roman-68\"/>\n",
        "       <use x=\"402.24609375\" xlink:href=\"#BitstreamVeraSans-Roman-75\"/>\n",
        "       <use x=\"465.625\" xlink:href=\"#BitstreamVeraSans-Roman-74\"/>\n",
        "       <use x=\"504.833984375\" xlink:href=\"#BitstreamVeraSans-Roman-2d\"/>\n",
        "       <use x=\"540.91796875\" xlink:href=\"#BitstreamVeraSans-Roman-73\"/>\n",
        "       <use x=\"593.017578125\" xlink:href=\"#BitstreamVeraSans-Roman-65\"/>\n",
        "       <use x=\"654.541015625\" xlink:href=\"#BitstreamVeraSans-Roman-61\"/>\n",
        "       <use x=\"715.8203125\" xlink:href=\"#BitstreamVeraSans-Roman-74\"/>\n",
        "       <use x=\"755.029296875\" xlink:href=\"#BitstreamVeraSans-Roman-74\"/>\n",
        "       <use x=\"794.23828125\" xlink:href=\"#BitstreamVeraSans-Roman-6c\"/>\n",
        "       <use x=\"822.021484375\" xlink:href=\"#BitstreamVeraSans-Roman-65\"/>\n",
        "      </g>\n",
        "     </g>\n",
        "    </g>\n",
        "    <g id=\"ytick_11\">\n",
        "     <g id=\"text_20\">\n",
        "      <!-- plum-vegan-bistro-seattle -->\n",
        "      <defs>\n",
        "       <path d=\"\n",
        "M18.1094 8.20312\n",
        "L18.1094 -20.7969\n",
        "L9.07812 -20.7969\n",
        "L9.07812 54.6875\n",
        "L18.1094 54.6875\n",
        "L18.1094 46.3906\n",
        "Q20.9531 51.2656 25.2656 53.625\n",
        "Q29.5938 56 35.5938 56\n",
        "Q45.5625 56 51.7812 48.0938\n",
        "Q58.0156 40.1875 58.0156 27.2969\n",
        "Q58.0156 14.4062 51.7812 6.48438\n",
        "Q45.5625 -1.42188 35.5938 -1.42188\n",
        "Q29.5938 -1.42188 25.2656 0.953125\n",
        "Q20.9531 3.32812 18.1094 8.20312\n",
        "M48.6875 27.2969\n",
        "Q48.6875 37.2031 44.6094 42.8438\n",
        "Q40.5312 48.4844 33.4062 48.4844\n",
        "Q26.2656 48.4844 22.1875 42.8438\n",
        "Q18.1094 37.2031 18.1094 27.2969\n",
        "Q18.1094 17.3906 22.1875 11.75\n",
        "Q26.2656 6.10938 33.4062 6.10938\n",
        "Q40.5312 6.10938 44.6094 11.75\n",
        "Q48.6875 17.3906 48.6875 27.2969\" id=\"BitstreamVeraSans-Roman-70\"/>\n",
        "       <path d=\"\n",
        "M52 44.1875\n",
        "Q55.375 50.25 60.0625 53.125\n",
        "Q64.75 56 71.0938 56\n",
        "Q79.6406 56 84.2812 50.0156\n",
        "Q88.9219 44.0469 88.9219 33.0156\n",
        "L88.9219 0\n",
        "L79.8906 0\n",
        "L79.8906 32.7188\n",
        "Q79.8906 40.5781 77.0938 44.375\n",
        "Q74.3125 48.1875 68.6094 48.1875\n",
        "Q61.625 48.1875 57.5625 43.5469\n",
        "Q53.5156 38.9219 53.5156 30.9062\n",
        "L53.5156 0\n",
        "L44.4844 0\n",
        "L44.4844 32.7188\n",
        "Q44.4844 40.625 41.7031 44.4062\n",
        "Q38.9219 48.1875 33.1094 48.1875\n",
        "Q26.2188 48.1875 22.1562 43.5312\n",
        "Q18.1094 38.875 18.1094 30.9062\n",
        "L18.1094 0\n",
        "L9.07812 0\n",
        "L9.07812 54.6875\n",
        "L18.1094 54.6875\n",
        "L18.1094 46.1875\n",
        "Q21.1875 51.2188 25.4844 53.6094\n",
        "Q29.7812 56 35.6875 56\n",
        "Q41.6562 56 45.8281 52.9688\n",
        "Q50 49.9531 52 44.1875\" id=\"BitstreamVeraSans-Roman-6d\"/>\n",
        "       <path d=\"\n",
        "M48.6875 27.2969\n",
        "Q48.6875 37.2031 44.6094 42.8438\n",
        "Q40.5312 48.4844 33.4062 48.4844\n",
        "Q26.2656 48.4844 22.1875 42.8438\n",
        "Q18.1094 37.2031 18.1094 27.2969\n",
        "Q18.1094 17.3906 22.1875 11.75\n",
        "Q26.2656 6.10938 33.4062 6.10938\n",
        "Q40.5312 6.10938 44.6094 11.75\n",
        "Q48.6875 17.3906 48.6875 27.2969\n",
        "M18.1094 46.3906\n",
        "Q20.9531 51.2656 25.2656 53.625\n",
        "Q29.5938 56 35.5938 56\n",
        "Q45.5625 56 51.7812 48.0938\n",
        "Q58.0156 40.1875 58.0156 27.2969\n",
        "Q58.0156 14.4062 51.7812 6.48438\n",
        "Q45.5625 -1.42188 35.5938 -1.42188\n",
        "Q29.5938 -1.42188 25.2656 0.953125\n",
        "Q20.9531 3.32812 18.1094 8.20312\n",
        "L18.1094 0\n",
        "L9.07812 0\n",
        "L9.07812 75.9844\n",
        "L18.1094 75.9844\n",
        "z\n",
        "\" id=\"BitstreamVeraSans-Roman-62\"/>\n",
        "      </defs>\n",
        "      <g transform=\"translate(19.4953125 554.1775)scale(0.1 -0.1)\">\n",
        "       <use xlink:href=\"#BitstreamVeraSans-Roman-70\"/>\n",
        "       <use x=\"63.4765625\" xlink:href=\"#BitstreamVeraSans-Roman-6c\"/>\n",
        "       <use x=\"91.259765625\" xlink:href=\"#BitstreamVeraSans-Roman-75\"/>\n",
        "       <use x=\"154.638671875\" xlink:href=\"#BitstreamVeraSans-Roman-6d\"/>\n",
        "       <use x=\"252.05078125\" xlink:href=\"#BitstreamVeraSans-Roman-2d\"/>\n",
        "       <use x=\"285.509765625\" xlink:href=\"#BitstreamVeraSans-Roman-76\"/>\n",
        "       <use x=\"344.689453125\" xlink:href=\"#BitstreamVeraSans-Roman-65\"/>\n",
        "       <use x=\"406.212890625\" xlink:href=\"#BitstreamVeraSans-Roman-67\"/>\n",
        "       <use x=\"469.689453125\" xlink:href=\"#BitstreamVeraSans-Roman-61\"/>\n",
        "       <use x=\"530.96875\" xlink:href=\"#BitstreamVeraSans-Roman-6e\"/>\n",
        "       <use x=\"594.34765625\" xlink:href=\"#BitstreamVeraSans-Roman-2d\"/>\n",
        "       <use x=\"630.431640625\" xlink:href=\"#BitstreamVeraSans-Roman-62\"/>\n",
        "       <use x=\"693.908203125\" xlink:href=\"#BitstreamVeraSans-Roman-69\"/>\n",
        "       <use x=\"721.69140625\" xlink:href=\"#BitstreamVeraSans-Roman-73\"/>\n",
        "       <use x=\"773.791015625\" xlink:href=\"#BitstreamVeraSans-Roman-74\"/>\n",
        "       <use x=\"813.0\" xlink:href=\"#BitstreamVeraSans-Roman-72\"/>\n",
        "       <use x=\"851.86328125\" xlink:href=\"#BitstreamVeraSans-Roman-6f\"/>\n",
        "       <use x=\"914.919921875\" xlink:href=\"#BitstreamVeraSans-Roman-2d\"/>\n",
        "       <use x=\"951.00390625\" xlink:href=\"#BitstreamVeraSans-Roman-73\"/>\n",
        "       <use x=\"1003.103515625\" xlink:href=\"#BitstreamVeraSans-Roman-65\"/>\n",
        "       <use x=\"1064.626953125\" xlink:href=\"#BitstreamVeraSans-Roman-61\"/>\n",
        "       <use x=\"1125.90625\" xlink:href=\"#BitstreamVeraSans-Roman-74\"/>\n",
        "       <use x=\"1165.115234375\" xlink:href=\"#BitstreamVeraSans-Roman-74\"/>\n",
        "       <use x=\"1204.32421875\" xlink:href=\"#BitstreamVeraSans-Roman-6c\"/>\n",
        "       <use x=\"1232.107421875\" xlink:href=\"#BitstreamVeraSans-Roman-65\"/>\n",
        "      </g>\n",
        "     </g>\n",
        "    </g>\n",
        "    <g id=\"ytick_12\">\n",
        "     <g id=\"text_21\">\n",
        "      <!-- thai-u-up-seattle-3 -->\n",
        "      <g transform=\"translate(55.24375 498.3775)scale(0.1 -0.1)\">\n",
        "       <use xlink:href=\"#BitstreamVeraSans-Roman-74\"/>\n",
        "       <use x=\"39.208984375\" xlink:href=\"#BitstreamVeraSans-Roman-68\"/>\n",
        "       <use x=\"102.587890625\" xlink:href=\"#BitstreamVeraSans-Roman-61\"/>\n",
        "       <use x=\"163.8671875\" xlink:href=\"#BitstreamVeraSans-Roman-69\"/>\n",
        "       <use x=\"191.650390625\" xlink:href=\"#BitstreamVeraSans-Roman-2d\"/>\n",
        "       <use x=\"227.734375\" xlink:href=\"#BitstreamVeraSans-Roman-75\"/>\n",
        "       <use x=\"291.11328125\" xlink:href=\"#BitstreamVeraSans-Roman-2d\"/>\n",
        "       <use x=\"327.197265625\" xlink:href=\"#BitstreamVeraSans-Roman-75\"/>\n",
        "       <use x=\"390.576171875\" xlink:href=\"#BitstreamVeraSans-Roman-70\"/>\n",
        "       <use x=\"454.052734375\" xlink:href=\"#BitstreamVeraSans-Roman-2d\"/>\n",
        "       <use x=\"490.13671875\" xlink:href=\"#BitstreamVeraSans-Roman-73\"/>\n",
        "       <use x=\"542.236328125\" xlink:href=\"#BitstreamVeraSans-Roman-65\"/>\n",
        "       <use x=\"603.759765625\" xlink:href=\"#BitstreamVeraSans-Roman-61\"/>\n",
        "       <use x=\"665.0390625\" xlink:href=\"#BitstreamVeraSans-Roman-74\"/>\n",
        "       <use x=\"704.248046875\" xlink:href=\"#BitstreamVeraSans-Roman-74\"/>\n",
        "       <use x=\"743.45703125\" xlink:href=\"#BitstreamVeraSans-Roman-6c\"/>\n",
        "       <use x=\"771.240234375\" xlink:href=\"#BitstreamVeraSans-Roman-65\"/>\n",
        "       <use x=\"832.763671875\" xlink:href=\"#BitstreamVeraSans-Roman-2d\"/>\n",
        "       <use x=\"868.84765625\" xlink:href=\"#BitstreamVeraSans-Roman-33\"/>\n",
        "      </g>\n",
        "     </g>\n",
        "    </g>\n",
        "    <g id=\"ytick_13\">\n",
        "     <g id=\"text_22\">\n",
        "      <!-- el-cami\u00f3n-seattle-5 -->\n",
        "      <g transform=\"translate(51.8609375 442.5775)scale(0.1 -0.1)\">\n",
        "       <use xlink:href=\"#BitstreamVeraSans-Roman-65\"/>\n",
        "       <use x=\"61.5234375\" xlink:href=\"#BitstreamVeraSans-Roman-6c\"/>\n",
        "       <use x=\"89.306640625\" xlink:href=\"#BitstreamVeraSans-Roman-2d\"/>\n",
        "       <use x=\"125.390625\" xlink:href=\"#BitstreamVeraSans-Roman-63\"/>\n",
        "       <use x=\"180.37109375\" xlink:href=\"#BitstreamVeraSans-Roman-61\"/>\n",
        "       <use x=\"241.650390625\" xlink:href=\"#BitstreamVeraSans-Roman-6d\"/>\n",
        "       <use x=\"339.0625\" xlink:href=\"#BitstreamVeraSans-Roman-69\"/>\n",
        "       <use x=\"366.845703125\" xlink:href=\"#BitstreamVeraSans-Roman-f3\"/>\n",
        "       <use x=\"428.02734375\" xlink:href=\"#BitstreamVeraSans-Roman-6e\"/>\n",
        "       <use x=\"491.40625\" xlink:href=\"#BitstreamVeraSans-Roman-2d\"/>\n",
        "       <use x=\"527.490234375\" xlink:href=\"#BitstreamVeraSans-Roman-73\"/>\n",
        "       <use x=\"579.58984375\" xlink:href=\"#BitstreamVeraSans-Roman-65\"/>\n",
        "       <use x=\"641.11328125\" xlink:href=\"#BitstreamVeraSans-Roman-61\"/>\n",
        "       <use x=\"702.392578125\" xlink:href=\"#BitstreamVeraSans-Roman-74\"/>\n",
        "       <use x=\"741.6015625\" xlink:href=\"#BitstreamVeraSans-Roman-74\"/>\n",
        "       <use x=\"780.810546875\" xlink:href=\"#BitstreamVeraSans-Roman-6c\"/>\n",
        "       <use x=\"808.59375\" xlink:href=\"#BitstreamVeraSans-Roman-65\"/>\n",
        "       <use x=\"870.1171875\" xlink:href=\"#BitstreamVeraSans-Roman-2d\"/>\n",
        "       <use x=\"906.201171875\" xlink:href=\"#BitstreamVeraSans-Roman-35\"/>\n",
        "      </g>\n",
        "     </g>\n",
        "    </g>\n",
        "    <g id=\"ytick_14\">\n",
        "     <g id=\"text_23\">\n",
        "      <!-- la-pasadita-seattle -->\n",
        "      <g transform=\"translate(55.51875 386.7775)scale(0.1 -0.1)\">\n",
        "       <use xlink:href=\"#BitstreamVeraSans-Roman-6c\"/>\n",
        "       <use x=\"27.783203125\" xlink:href=\"#BitstreamVeraSans-Roman-61\"/>\n",
        "       <use x=\"89.0625\" xlink:href=\"#BitstreamVeraSans-Roman-2d\"/>\n",
        "       <use x=\"125.146484375\" xlink:href=\"#BitstreamVeraSans-Roman-70\"/>\n",
        "       <use x=\"188.623046875\" xlink:href=\"#BitstreamVeraSans-Roman-61\"/>\n",
        "       <use x=\"249.90234375\" xlink:href=\"#BitstreamVeraSans-Roman-73\"/>\n",
        "       <use x=\"302.001953125\" xlink:href=\"#BitstreamVeraSans-Roman-61\"/>\n",
        "       <use x=\"363.28125\" xlink:href=\"#BitstreamVeraSans-Roman-64\"/>\n",
        "       <use x=\"426.7578125\" xlink:href=\"#BitstreamVeraSans-Roman-69\"/>\n",
        "       <use x=\"454.541015625\" xlink:href=\"#BitstreamVeraSans-Roman-74\"/>\n",
        "       <use x=\"493.75\" xlink:href=\"#BitstreamVeraSans-Roman-61\"/>\n",
        "       <use x=\"555.029296875\" xlink:href=\"#BitstreamVeraSans-Roman-2d\"/>\n",
        "       <use x=\"591.11328125\" xlink:href=\"#BitstreamVeraSans-Roman-73\"/>\n",
        "       <use x=\"643.212890625\" xlink:href=\"#BitstreamVeraSans-Roman-65\"/>\n",
        "       <use x=\"704.736328125\" xlink:href=\"#BitstreamVeraSans-Roman-61\"/>\n",
        "       <use x=\"766.015625\" xlink:href=\"#BitstreamVeraSans-Roman-74\"/>\n",
        "       <use x=\"805.224609375\" xlink:href=\"#BitstreamVeraSans-Roman-74\"/>\n",
        "       <use x=\"844.43359375\" xlink:href=\"#BitstreamVeraSans-Roman-6c\"/>\n",
        "       <use x=\"872.216796875\" xlink:href=\"#BitstreamVeraSans-Roman-65\"/>\n",
        "      </g>\n",
        "     </g>\n",
        "    </g>\n",
        "    <g id=\"ytick_15\">\n",
        "     <g id=\"text_24\">\n",
        "      <!-- El Naranjo -->\n",
        "      <defs>\n",
        "       <path d=\"\n",
        "M9.8125 72.9062\n",
        "L23.0938 72.9062\n",
        "L55.4219 11.9219\n",
        "L55.4219 72.9062\n",
        "L64.9844 72.9062\n",
        "L64.9844 0\n",
        "L51.7031 0\n",
        "L19.3906 60.9844\n",
        "L19.3906 0\n",
        "L9.8125 0\n",
        "z\n",
        "\" id=\"BitstreamVeraSans-Roman-4e\"/>\n",
        "       <path d=\"\n",
        "M9.42188 54.6875\n",
        "L18.4062 54.6875\n",
        "L18.4062 -0.984375\n",
        "Q18.4062 -11.4219 14.4219 -16.1094\n",
        "Q10.4531 -20.7969 1.60938 -20.7969\n",
        "L-1.8125 -20.7969\n",
        "L-1.8125 -13.1875\n",
        "L0.59375 -13.1875\n",
        "Q5.71875 -13.1875 7.5625 -10.8125\n",
        "Q9.42188 -8.45312 9.42188 -0.984375\n",
        "z\n",
        "\n",
        "M9.42188 75.9844\n",
        "L18.4062 75.9844\n",
        "L18.4062 64.5938\n",
        "L9.42188 64.5938\n",
        "z\n",
        "\" id=\"BitstreamVeraSans-Roman-6a\"/>\n",
        "      </defs>\n",
        "      <g transform=\"translate(96.60625 330.9775)scale(0.1 -0.1)\">\n",
        "       <use xlink:href=\"#BitstreamVeraSans-Roman-45\"/>\n",
        "       <use x=\"63.18359375\" xlink:href=\"#BitstreamVeraSans-Roman-6c\"/>\n",
        "       <use x=\"90.966796875\" xlink:href=\"#BitstreamVeraSans-Roman-20\"/>\n",
        "       <use x=\"122.75390625\" xlink:href=\"#BitstreamVeraSans-Roman-4e\"/>\n",
        "       <use x=\"197.55859375\" xlink:href=\"#BitstreamVeraSans-Roman-61\"/>\n",
        "       <use x=\"258.837890625\" xlink:href=\"#BitstreamVeraSans-Roman-72\"/>\n",
        "       <use x=\"299.951171875\" xlink:href=\"#BitstreamVeraSans-Roman-61\"/>\n",
        "       <use x=\"361.23046875\" xlink:href=\"#BitstreamVeraSans-Roman-6e\"/>\n",
        "       <use x=\"424.609375\" xlink:href=\"#BitstreamVeraSans-Roman-6a\"/>\n",
        "       <use x=\"452.392578125\" xlink:href=\"#BitstreamVeraSans-Roman-6f\"/>\n",
        "      </g>\n",
        "     </g>\n",
        "    </g>\n",
        "    <g id=\"ytick_16\">\n",
        "     <g id=\"text_25\">\n",
        "      <!-- Taqueria El Asadero -->\n",
        "      <defs>\n",
        "       <path d=\"\n",
        "M34.1875 63.1875\n",
        "L20.7969 26.9062\n",
        "L47.6094 26.9062\n",
        "z\n",
        "\n",
        "M28.6094 72.9062\n",
        "L39.7969 72.9062\n",
        "L67.5781 0\n",
        "L57.3281 0\n",
        "L50.6875 18.7031\n",
        "L17.8281 18.7031\n",
        "L11.1875 0\n",
        "L0.78125 0\n",
        "z\n",
        "\" id=\"BitstreamVeraSans-Roman-41\"/>\n",
        "       <path d=\"\n",
        "M14.7969 27.2969\n",
        "Q14.7969 17.3906 18.875 11.75\n",
        "Q22.9531 6.10938 30.0781 6.10938\n",
        "Q37.2031 6.10938 41.2969 11.75\n",
        "Q45.4062 17.3906 45.4062 27.2969\n",
        "Q45.4062 37.2031 41.2969 42.8438\n",
        "Q37.2031 48.4844 30.0781 48.4844\n",
        "Q22.9531 48.4844 18.875 42.8438\n",
        "Q14.7969 37.2031 14.7969 27.2969\n",
        "M45.4062 8.20312\n",
        "Q42.5781 3.32812 38.25 0.953125\n",
        "Q33.9375 -1.42188 27.875 -1.42188\n",
        "Q17.9688 -1.42188 11.7344 6.48438\n",
        "Q5.51562 14.4062 5.51562 27.2969\n",
        "Q5.51562 40.1875 11.7344 48.0938\n",
        "Q17.9688 56 27.875 56\n",
        "Q33.9375 56 38.25 53.625\n",
        "Q42.5781 51.2656 45.4062 46.3906\n",
        "L45.4062 54.6875\n",
        "L54.3906 54.6875\n",
        "L54.3906 -20.7969\n",
        "L45.4062 -20.7969\n",
        "z\n",
        "\" id=\"BitstreamVeraSans-Roman-71\"/>\n",
        "      </defs>\n",
        "      <g transform=\"translate(49.3546875 275.1775)scale(0.1 -0.1)\">\n",
        "       <use xlink:href=\"#BitstreamVeraSans-Roman-54\"/>\n",
        "       <use x=\"44.583984375\" xlink:href=\"#BitstreamVeraSans-Roman-61\"/>\n",
        "       <use x=\"105.86328125\" xlink:href=\"#BitstreamVeraSans-Roman-71\"/>\n",
        "       <use x=\"169.33984375\" xlink:href=\"#BitstreamVeraSans-Roman-75\"/>\n",
        "       <use x=\"232.71875\" xlink:href=\"#BitstreamVeraSans-Roman-65\"/>\n",
        "       <use x=\"294.2421875\" xlink:href=\"#BitstreamVeraSans-Roman-72\"/>\n",
        "       <use x=\"335.35546875\" xlink:href=\"#BitstreamVeraSans-Roman-69\"/>\n",
        "       <use x=\"363.138671875\" xlink:href=\"#BitstreamVeraSans-Roman-61\"/>\n",
        "       <use x=\"424.41796875\" xlink:href=\"#BitstreamVeraSans-Roman-20\"/>\n",
        "       <use x=\"456.205078125\" xlink:href=\"#BitstreamVeraSans-Roman-45\"/>\n",
        "       <use x=\"519.388671875\" xlink:href=\"#BitstreamVeraSans-Roman-6c\"/>\n",
        "       <use x=\"547.171875\" xlink:href=\"#BitstreamVeraSans-Roman-20\"/>\n",
        "       <use x=\"578.958984375\" xlink:href=\"#BitstreamVeraSans-Roman-41\"/>\n",
        "       <use x=\"647.3671875\" xlink:href=\"#BitstreamVeraSans-Roman-73\"/>\n",
        "       <use x=\"699.466796875\" xlink:href=\"#BitstreamVeraSans-Roman-61\"/>\n",
        "       <use x=\"760.74609375\" xlink:href=\"#BitstreamVeraSans-Roman-64\"/>\n",
        "       <use x=\"824.22265625\" xlink:href=\"#BitstreamVeraSans-Roman-65\"/>\n",
        "       <use x=\"885.74609375\" xlink:href=\"#BitstreamVeraSans-Roman-72\"/>\n",
        "       <use x=\"924.609375\" xlink:href=\"#BitstreamVeraSans-Roman-6f\"/>\n",
        "      </g>\n",
        "     </g>\n",
        "    </g>\n",
        "    <g id=\"ytick_17\">\n",
        "     <g id=\"text_26\">\n",
        "      <!-- taqueria-la-fondita-2-seattle -->\n",
        "      <g transform=\"translate(7.2 219.3775)scale(0.1 -0.1)\">\n",
        "       <use xlink:href=\"#BitstreamVeraSans-Roman-74\"/>\n",
        "       <use x=\"39.208984375\" xlink:href=\"#BitstreamVeraSans-Roman-61\"/>\n",
        "       <use x=\"100.48828125\" xlink:href=\"#BitstreamVeraSans-Roman-71\"/>\n",
        "       <use x=\"163.96484375\" xlink:href=\"#BitstreamVeraSans-Roman-75\"/>\n",
        "       <use x=\"227.34375\" xlink:href=\"#BitstreamVeraSans-Roman-65\"/>\n",
        "       <use x=\"288.8671875\" xlink:href=\"#BitstreamVeraSans-Roman-72\"/>\n",
        "       <use x=\"329.98046875\" xlink:href=\"#BitstreamVeraSans-Roman-69\"/>\n",
        "       <use x=\"357.763671875\" xlink:href=\"#BitstreamVeraSans-Roman-61\"/>\n",
        "       <use x=\"419.04296875\" xlink:href=\"#BitstreamVeraSans-Roman-2d\"/>\n",
        "       <use x=\"455.126953125\" xlink:href=\"#BitstreamVeraSans-Roman-6c\"/>\n",
        "       <use x=\"482.91015625\" xlink:href=\"#BitstreamVeraSans-Roman-61\"/>\n",
        "       <use x=\"544.189453125\" xlink:href=\"#BitstreamVeraSans-Roman-2d\"/>\n",
        "       <use x=\"580.2734375\" xlink:href=\"#BitstreamVeraSans-Roman-66\"/>\n",
        "       <use x=\"615.478515625\" xlink:href=\"#BitstreamVeraSans-Roman-6f\"/>\n",
        "       <use x=\"676.66015625\" xlink:href=\"#BitstreamVeraSans-Roman-6e\"/>\n",
        "       <use x=\"740.0390625\" xlink:href=\"#BitstreamVeraSans-Roman-64\"/>\n",
        "       <use x=\"803.515625\" xlink:href=\"#BitstreamVeraSans-Roman-69\"/>\n",
        "       <use x=\"831.298828125\" xlink:href=\"#BitstreamVeraSans-Roman-74\"/>\n",
        "       <use x=\"870.5078125\" xlink:href=\"#BitstreamVeraSans-Roman-61\"/>\n",
        "       <use x=\"931.787109375\" xlink:href=\"#BitstreamVeraSans-Roman-2d\"/>\n",
        "       <use x=\"967.87109375\" xlink:href=\"#BitstreamVeraSans-Roman-32\"/>\n",
        "       <use x=\"1031.494140625\" xlink:href=\"#BitstreamVeraSans-Roman-2d\"/>\n",
        "       <use x=\"1067.578125\" xlink:href=\"#BitstreamVeraSans-Roman-73\"/>\n",
        "       <use x=\"1119.677734375\" xlink:href=\"#BitstreamVeraSans-Roman-65\"/>\n",
        "       <use x=\"1181.201171875\" xlink:href=\"#BitstreamVeraSans-Roman-61\"/>\n",
        "       <use x=\"1242.48046875\" xlink:href=\"#BitstreamVeraSans-Roman-74\"/>\n",
        "       <use x=\"1281.689453125\" xlink:href=\"#BitstreamVeraSans-Roman-74\"/>\n",
        "       <use x=\"1320.8984375\" xlink:href=\"#BitstreamVeraSans-Roman-6c\"/>\n",
        "       <use x=\"1348.681640625\" xlink:href=\"#BitstreamVeraSans-Roman-65\"/>\n",
        "      </g>\n",
        "     </g>\n",
        "    </g>\n",
        "    <g id=\"ytick_18\">\n",
        "     <g id=\"text_27\">\n",
        "      <!-- el-sabroso-seattle -->\n",
        "      <g transform=\"translate(58.8859375 163.5775)scale(0.1 -0.1)\">\n",
        "       <use xlink:href=\"#BitstreamVeraSans-Roman-65\"/>\n",
        "       <use x=\"61.5234375\" xlink:href=\"#BitstreamVeraSans-Roman-6c\"/>\n",
        "       <use x=\"89.306640625\" xlink:href=\"#BitstreamVeraSans-Roman-2d\"/>\n",
        "       <use x=\"125.390625\" xlink:href=\"#BitstreamVeraSans-Roman-73\"/>\n",
        "       <use x=\"177.490234375\" xlink:href=\"#BitstreamVeraSans-Roman-61\"/>\n",
        "       <use x=\"238.76953125\" xlink:href=\"#BitstreamVeraSans-Roman-62\"/>\n",
        "       <use x=\"302.24609375\" xlink:href=\"#BitstreamVeraSans-Roman-72\"/>\n",
        "       <use x=\"341.109375\" xlink:href=\"#BitstreamVeraSans-Roman-6f\"/>\n",
        "       <use x=\"402.291015625\" xlink:href=\"#BitstreamVeraSans-Roman-73\"/>\n",
        "       <use x=\"454.390625\" xlink:href=\"#BitstreamVeraSans-Roman-6f\"/>\n",
        "       <use x=\"517.447265625\" xlink:href=\"#BitstreamVeraSans-Roman-2d\"/>\n",
        "       <use x=\"553.53125\" xlink:href=\"#BitstreamVeraSans-Roman-73\"/>\n",
        "       <use x=\"605.630859375\" xlink:href=\"#BitstreamVeraSans-Roman-65\"/>\n",
        "       <use x=\"667.154296875\" xlink:href=\"#BitstreamVeraSans-Roman-61\"/>\n",
        "       <use x=\"728.43359375\" xlink:href=\"#BitstreamVeraSans-Roman-74\"/>\n",
        "       <use x=\"767.642578125\" xlink:href=\"#BitstreamVeraSans-Roman-74\"/>\n",
        "       <use x=\"806.8515625\" xlink:href=\"#BitstreamVeraSans-Roman-6c\"/>\n",
        "       <use x=\"834.634765625\" xlink:href=\"#BitstreamVeraSans-Roman-65\"/>\n",
        "      </g>\n",
        "     </g>\n",
        "    </g>\n",
        "    <g id=\"ytick_19\">\n",
        "     <g id=\"text_28\">\n",
        "      <!-- Plum Burgers -->\n",
        "      <g transform=\"translate(80.884375 107.7775)scale(0.1 -0.1)\">\n",
        "       <use xlink:href=\"#BitstreamVeraSans-Roman-50\"/>\n",
        "       <use x=\"60.302734375\" xlink:href=\"#BitstreamVeraSans-Roman-6c\"/>\n",
        "       <use x=\"88.0859375\" xlink:href=\"#BitstreamVeraSans-Roman-75\"/>\n",
        "       <use x=\"151.46484375\" xlink:href=\"#BitstreamVeraSans-Roman-6d\"/>\n",
        "       <use x=\"248.876953125\" xlink:href=\"#BitstreamVeraSans-Roman-20\"/>\n",
        "       <use x=\"280.6640625\" xlink:href=\"#BitstreamVeraSans-Roman-42\"/>\n",
        "       <use x=\"349.267578125\" xlink:href=\"#BitstreamVeraSans-Roman-75\"/>\n",
        "       <use x=\"412.646484375\" xlink:href=\"#BitstreamVeraSans-Roman-72\"/>\n",
        "       <use x=\"452.009765625\" xlink:href=\"#BitstreamVeraSans-Roman-67\"/>\n",
        "       <use x=\"515.486328125\" xlink:href=\"#BitstreamVeraSans-Roman-65\"/>\n",
        "       <use x=\"577.009765625\" xlink:href=\"#BitstreamVeraSans-Roman-72\"/>\n",
        "       <use x=\"618.123046875\" xlink:href=\"#BitstreamVeraSans-Roman-73\"/>\n",
        "      </g>\n",
        "     </g>\n",
        "    </g>\n",
        "    <g id=\"ytick_20\">\n",
        "     <g id=\"text_29\">\n",
        "      <!-- Curb Jumper Street Eats -->\n",
        "      <g transform=\"translate(26.9921875 51.9775)scale(0.1 -0.1)\">\n",
        "       <use xlink:href=\"#BitstreamVeraSans-Roman-43\"/>\n",
        "       <use x=\"69.82421875\" xlink:href=\"#BitstreamVeraSans-Roman-75\"/>\n",
        "       <use x=\"133.203125\" xlink:href=\"#BitstreamVeraSans-Roman-72\"/>\n",
        "       <use x=\"174.31640625\" xlink:href=\"#BitstreamVeraSans-Roman-62\"/>\n",
        "       <use x=\"237.79296875\" xlink:href=\"#BitstreamVeraSans-Roman-20\"/>\n",
        "       <use x=\"269.580078125\" xlink:href=\"#BitstreamVeraSans-Roman-4a\"/>\n",
        "       <use x=\"299.072265625\" xlink:href=\"#BitstreamVeraSans-Roman-75\"/>\n",
        "       <use x=\"362.451171875\" xlink:href=\"#BitstreamVeraSans-Roman-6d\"/>\n",
        "       <use x=\"459.86328125\" xlink:href=\"#BitstreamVeraSans-Roman-70\"/>\n",
        "       <use x=\"523.33984375\" xlink:href=\"#BitstreamVeraSans-Roman-65\"/>\n",
        "       <use x=\"584.86328125\" xlink:href=\"#BitstreamVeraSans-Roman-72\"/>\n",
        "       <use x=\"625.9765625\" xlink:href=\"#BitstreamVeraSans-Roman-20\"/>\n",
        "       <use x=\"657.763671875\" xlink:href=\"#BitstreamVeraSans-Roman-53\"/>\n",
        "       <use x=\"721.240234375\" xlink:href=\"#BitstreamVeraSans-Roman-74\"/>\n",
        "       <use x=\"760.44921875\" xlink:href=\"#BitstreamVeraSans-Roman-72\"/>\n",
        "       <use x=\"799.3125\" xlink:href=\"#BitstreamVeraSans-Roman-65\"/>\n",
        "       <use x=\"860.8359375\" xlink:href=\"#BitstreamVeraSans-Roman-65\"/>\n",
        "       <use x=\"922.359375\" xlink:href=\"#BitstreamVeraSans-Roman-74\"/>\n",
        "       <use x=\"961.568359375\" xlink:href=\"#BitstreamVeraSans-Roman-20\"/>\n",
        "       <use x=\"993.35546875\" xlink:href=\"#BitstreamVeraSans-Roman-45\"/>\n",
        "       <use x=\"1056.5390625\" xlink:href=\"#BitstreamVeraSans-Roman-61\"/>\n",
        "       <use x=\"1117.818359375\" xlink:href=\"#BitstreamVeraSans-Roman-74\"/>\n",
        "       <use x=\"1157.02734375\" xlink:href=\"#BitstreamVeraSans-Roman-73\"/>\n",
        "      </g>\n",
        "     </g>\n",
        "    </g>\n",
        "   </g>\n",
        "   <g id=\"text_30\">\n",
        "    <!-- Clustered results for plum-burgers-seattle -->\n",
        "    <g transform=\"translate(304.9328125 16.318125)scale(0.12 -0.12)\">\n",
        "     <use xlink:href=\"#BitstreamVeraSans-Roman-43\"/>\n",
        "     <use x=\"69.82421875\" xlink:href=\"#BitstreamVeraSans-Roman-6c\"/>\n",
        "     <use x=\"97.607421875\" xlink:href=\"#BitstreamVeraSans-Roman-75\"/>\n",
        "     <use x=\"160.986328125\" xlink:href=\"#BitstreamVeraSans-Roman-73\"/>\n",
        "     <use x=\"213.0859375\" xlink:href=\"#BitstreamVeraSans-Roman-74\"/>\n",
        "     <use x=\"252.294921875\" xlink:href=\"#BitstreamVeraSans-Roman-65\"/>\n",
        "     <use x=\"313.818359375\" xlink:href=\"#BitstreamVeraSans-Roman-72\"/>\n",
        "     <use x=\"352.681640625\" xlink:href=\"#BitstreamVeraSans-Roman-65\"/>\n",
        "     <use x=\"414.205078125\" xlink:href=\"#BitstreamVeraSans-Roman-64\"/>\n",
        "     <use x=\"477.681640625\" xlink:href=\"#BitstreamVeraSans-Roman-20\"/>\n",
        "     <use x=\"509.46875\" xlink:href=\"#BitstreamVeraSans-Roman-72\"/>\n",
        "     <use x=\"548.33203125\" xlink:href=\"#BitstreamVeraSans-Roman-65\"/>\n",
        "     <use x=\"609.85546875\" xlink:href=\"#BitstreamVeraSans-Roman-73\"/>\n",
        "     <use x=\"661.955078125\" xlink:href=\"#BitstreamVeraSans-Roman-75\"/>\n",
        "     <use x=\"725.333984375\" xlink:href=\"#BitstreamVeraSans-Roman-6c\"/>\n",
        "     <use x=\"753.1171875\" xlink:href=\"#BitstreamVeraSans-Roman-74\"/>\n",
        "     <use x=\"792.326171875\" xlink:href=\"#BitstreamVeraSans-Roman-73\"/>\n",
        "     <use x=\"844.42578125\" xlink:href=\"#BitstreamVeraSans-Roman-20\"/>\n",
        "     <use x=\"876.212890625\" xlink:href=\"#BitstreamVeraSans-Roman-66\"/>\n",
        "     <use x=\"911.41796875\" xlink:href=\"#BitstreamVeraSans-Roman-6f\"/>\n",
        "     <use x=\"972.599609375\" xlink:href=\"#BitstreamVeraSans-Roman-72\"/>\n",
        "     <use x=\"1013.712890625\" xlink:href=\"#BitstreamVeraSans-Roman-20\"/>\n",
        "     <use x=\"1045.5\" xlink:href=\"#BitstreamVeraSans-Roman-70\"/>\n",
        "     <use x=\"1108.9765625\" xlink:href=\"#BitstreamVeraSans-Roman-6c\"/>\n",
        "     <use x=\"1136.759765625\" xlink:href=\"#BitstreamVeraSans-Roman-75\"/>\n",
        "     <use x=\"1200.138671875\" xlink:href=\"#BitstreamVeraSans-Roman-6d\"/>\n",
        "     <use x=\"1297.55078125\" xlink:href=\"#BitstreamVeraSans-Roman-2d\"/>\n",
        "     <use x=\"1333.634765625\" xlink:href=\"#BitstreamVeraSans-Roman-62\"/>\n",
        "     <use x=\"1397.111328125\" xlink:href=\"#BitstreamVeraSans-Roman-75\"/>\n",
        "     <use x=\"1460.490234375\" xlink:href=\"#BitstreamVeraSans-Roman-72\"/>\n",
        "     <use x=\"1499.853515625\" xlink:href=\"#BitstreamVeraSans-Roman-67\"/>\n",
        "     <use x=\"1563.330078125\" xlink:href=\"#BitstreamVeraSans-Roman-65\"/>\n",
        "     <use x=\"1624.853515625\" xlink:href=\"#BitstreamVeraSans-Roman-72\"/>\n",
        "     <use x=\"1665.966796875\" xlink:href=\"#BitstreamVeraSans-Roman-73\"/>\n",
        "     <use x=\"1718.06640625\" xlink:href=\"#BitstreamVeraSans-Roman-2d\"/>\n",
        "     <use x=\"1754.150390625\" xlink:href=\"#BitstreamVeraSans-Roman-73\"/>\n",
        "     <use x=\"1806.25\" xlink:href=\"#BitstreamVeraSans-Roman-65\"/>\n",
        "     <use x=\"1867.7734375\" xlink:href=\"#BitstreamVeraSans-Roman-61\"/>\n",
        "     <use x=\"1929.052734375\" xlink:href=\"#BitstreamVeraSans-Roman-74\"/>\n",
        "     <use x=\"1968.26171875\" xlink:href=\"#BitstreamVeraSans-Roman-74\"/>\n",
        "     <use x=\"2007.470703125\" xlink:href=\"#BitstreamVeraSans-Roman-6c\"/>\n",
        "     <use x=\"2035.25390625\" xlink:href=\"#BitstreamVeraSans-Roman-65\"/>\n",
        "    </g>\n",
        "   </g>\n",
        "  </g>\n",
        " </g>\n",
        " <defs>\n",
        "  <clipPath id=\"p191fdd2f05\">\n",
        "   <rect height=\"1116.0\" width=\"558.0\" x=\"151.4171875\" y=\"21.318125\"/>\n",
        "  </clipPath>\n",
        " </defs>\n",
        "</svg>\n"
       ],
       "text": [
        "<matplotlib.figure.Figure at 0x164c90bd0>"
       ]
      }
     ],
     "prompt_number": 215
    },
    {
     "cell_type": "code",
     "collapsed": false,
     "input": [],
     "language": "python",
     "metadata": {},
     "outputs": []
    },
    {
     "cell_type": "code",
     "collapsed": false,
     "input": [
      "model.predict_proba?"
     ],
     "language": "python",
     "metadata": {},
     "outputs": [],
     "prompt_number": 5
    },
    {
     "cell_type": "code",
     "collapsed": false,
     "input": [
      "model.create_normalized_matrices()"
     ],
     "language": "python",
     "metadata": {},
     "outputs": [],
     "prompt_number": 25
    },
    {
     "cell_type": "code",
     "collapsed": false,
     "input": [
      "\n",
      "def convert_to_observation(model, sentence):\n",
      "    words = sentence.split()\n",
      "    indices = [model.vocab.get_index(word) for word in words]\n",
      "    observation = np.hstack(model.model_matrix.get_value(borrow=True)[indices])\n",
      "    return np.hstack([observation, np.zeros((model.window - len(indices)) * model.size + model.object_size, dtype=np.float32)])\n",
      "\n",
      "sentence = \"waiters\"\n",
      "\n",
      "nearest_object_to_sentence = np.dot(model.projection_matrix.get_value(borrow=True).T, np.concatenate(model.predict_vector_proba(convert_to_observation(model, sentence))))[-model.object_size:]\n",
      "for index, distance in model.most_similar_object(nearest_object_to_sentence / np.linalg.norm(nearest_object_to_sentence)):\n",
      "    present_restaurant(texts_data[index], text = texts[index])\n",
      "    display(HTML(\"\"\"\n",
      "            <div>\n",
      "                <div style='background: rgb(221,222,223);width:102px;padding:1px;border-radius:2px'>\n",
      "                    <div style='height:20px; width:%dpx;padding-left:3px;background-color:rgb(71, 189, 249);font-size:9px;color:white'>\n",
      "                        %.0f%%\n",
      "                    </div>\n",
      "                </div>\n",
      "            </div>\n",
      "            \"\"\" % (int(distance * 100), distance * 100)))\n"
     ],
     "language": "python",
     "metadata": {},
     "outputs": [
      {
       "html": [
        "\n",
        "    <div>\n",
        "        <h2>la-teranga-seattle</h2>\n",
        "        <span style='color: #ca0814;'><span>$</span><span>$</span></span><span style='color: #e4e4e4;'><span>$</span><span>$</span></span><br /> \n",
        "        <span style='color: #feea60;'>\u2605\u2605\u2605\u2605</span><span style='color: #e4e4e4;'>\u2605</span>\n",
        "        <span style='color:#333;font-size:9px'>5393 words</span>\n",
        "        <br/>\n",
        "        <span style='color:#777:font-size:9px'>Categories: </span><span style='color:#333;font-size:13px'>senegalese</span>\n",
        "        <p style='width:450px'>i remembered that there was this place i 've been meaning to try . for take-out , i went for the rice entree with lamb . this was similar to</p>\n",
        "    </div>"
       ],
       "metadata": {},
       "output_type": "display_data",
       "text": [
        "<IPython.core.display.HTML at 0x15a40d090>"
       ]
      },
      {
       "html": [
        "\n",
        "            <div>\n",
        "                <div style='background: rgb(221,222,223);width:102px;padding:1px;border-radius:2px'>\n",
        "                    <div style='height:20px; width:79px;padding-left:3px;background-color:rgb(71, 189, 249);font-size:9px;color:white'>\n",
        "                        80%\n",
        "                    </div>\n",
        "                </div>\n",
        "            </div>\n",
        "            "
       ],
       "metadata": {},
       "output_type": "display_data",
       "text": [
        "<IPython.core.display.HTML at 0x159f44210>"
       ]
      },
      {
       "html": [
        "\n",
        "    <div>\n",
        "        <h2>La Teranga</h2>\n",
        "        <span style='color: #ca0814;'><span>$</span><span>$</span></span><span style='color: #e4e4e4;'><span>$</span><span>$</span></span><br /> \n",
        "        <span style='color: #feea60;'>\u2605\u2605\u2605\u2605</span><span style='color: #e4e4e4;'>\u2605</span>\n",
        "        <span style='color:#333;font-size:9px'>5333 words</span>\n",
        "        <br/>\n",
        "        <span style='color:#777:font-size:9px'>Categories: </span><span style='color:#333;font-size:13px'>senegalese</span>\n",
        "        <p style='width:450px'>west african food and i have put up with a lot more than tiny spaces to get it ! we started with the plantains , and asked for a hot</p>\n",
        "    </div>"
       ],
       "metadata": {},
       "output_type": "display_data",
       "text": [
        "<IPython.core.display.HTML at 0x159f44210>"
       ]
      },
      {
       "html": [
        "\n",
        "            <div>\n",
        "                <div style='background: rgb(221,222,223);width:102px;padding:1px;border-radius:2px'>\n",
        "                    <div style='height:20px; width:74px;padding-left:3px;background-color:rgb(71, 189, 249);font-size:9px;color:white'>\n",
        "                        75%\n",
        "                    </div>\n",
        "                </div>\n",
        "            </div>\n",
        "            "
       ],
       "metadata": {},
       "output_type": "display_data",
       "text": [
        "<IPython.core.display.HTML at 0x159f44210>"
       ]
      },
      {
       "html": [
        "\n",
        "    <div>\n",
        "        <h2>vostok-dumpling-house-seattle</h2>\n",
        "        <span style='color: #ca0814;'><span>$</span><span>$</span></span><span style='color: #e4e4e4;'><span>$</span><span>$</span></span><br /> \n",
        "        <span style='color: #feea60;'>\u2605\u2605\u2605\u2605</span><span style='color: #e4e4e4;'>\u2605</span>\n",
        "        <span style='color:#333;font-size:9px'>7732 words</span>\n",
        "        <br/>\n",
        "        <span style='color:#777:font-size:9px'>Categories: </span><span style='color:#333;font-size:13px'>russian, ukrainian</span>\n",
        "        <p style='width:450px'>, seattle , wa by kevin b . '' pork dumplings with candied bacon that will make you weep . '' '' the vareniki had a most divine aroma wafting</p>\n",
        "    </div>"
       ],
       "metadata": {},
       "output_type": "display_data",
       "text": [
        "<IPython.core.display.HTML at 0x159f44210>"
       ]
      },
      {
       "html": [
        "\n",
        "            <div>\n",
        "                <div style='background: rgb(221,222,223);width:102px;padding:1px;border-radius:2px'>\n",
        "                    <div style='height:20px; width:63px;padding-left:3px;background-color:rgb(71, 189, 249);font-size:9px;color:white'>\n",
        "                        63%\n",
        "                    </div>\n",
        "                </div>\n",
        "            </div>\n",
        "            "
       ],
       "metadata": {},
       "output_type": "display_data",
       "text": [
        "<IPython.core.display.HTML at 0x159f44210>"
       ]
      },
      {
       "html": [
        "\n",
        "    <div>\n",
        "        <h2>mojito-seattle</h2>\n",
        "        <span style='color: #ca0814;'><span>$</span><span>$</span></span><span style='color: #e4e4e4;'><span>$</span><span>$</span></span><br /> \n",
        "        <span style='color: #feea60;'>\u2605\u2605\u2605\u2605</span><span style='color: #e4e4e4;'>\u2605</span>\n",
        "        <span style='color:#333;font-size:9px'>5939 words</span>\n",
        "        <br/>\n",
        "        <span style='color:#777:font-size:9px'>Categories: </span><span style='color:#333;font-size:13px'>cuban, colombian, venezuelan</span>\n",
        "        <p style='width:450px'>no trouble getting a table . the waiter was very friendly and funny . holy crap this was great . the margarita was strong & tart just the way i</p>\n",
        "    </div>"
       ],
       "metadata": {},
       "output_type": "display_data",
       "text": [
        "<IPython.core.display.HTML at 0x159f44210>"
       ]
      },
      {
       "html": [
        "\n",
        "            <div>\n",
        "                <div style='background: rgb(221,222,223);width:102px;padding:1px;border-radius:2px'>\n",
        "                    <div style='height:20px; width:61px;padding-left:3px;background-color:rgb(71, 189, 249);font-size:9px;color:white'>\n",
        "                        61%\n",
        "                    </div>\n",
        "                </div>\n",
        "            </div>\n",
        "            "
       ],
       "metadata": {},
       "output_type": "display_data",
       "text": [
        "<IPython.core.display.HTML at 0x159f44210>"
       ]
      },
      {
       "html": [
        "\n",
        "    <div>\n",
        "        <h2>Mojito</h2>\n",
        "        <span style='color: #ca0814;'><span>$</span><span>$</span></span><span style='color: #e4e4e4;'><span>$</span><span>$</span></span><br /> \n",
        "        <span style='color: #feea60;'>\u2605\u2605\u2605\u2605</span><span style='color: #e4e4e4;'>\u2605</span>\n",
        "        <span style='color:#333;font-size:9px'>6028 words</span>\n",
        "        <br/>\n",
        "        <span style='color:#777:font-size:9px'>Categories: </span><span style='color:#333;font-size:13px'>cuban, colombian, venezuelan</span>\n",
        "        <p style='width:450px'>no trouble getting a table . the waiter was very friendly and funny . holy crap this was great . the margarita was strong & tart just the way i</p>\n",
        "    </div>"
       ],
       "metadata": {},
       "output_type": "display_data",
       "text": [
        "<IPython.core.display.HTML at 0x159f44210>"
       ]
      },
      {
       "html": [
        "\n",
        "            <div>\n",
        "                <div style='background: rgb(221,222,223);width:102px;padding:1px;border-radius:2px'>\n",
        "                    <div style='height:20px; width:59px;padding-left:3px;background-color:rgb(71, 189, 249);font-size:9px;color:white'>\n",
        "                        60%\n",
        "                    </div>\n",
        "                </div>\n",
        "            </div>\n",
        "            "
       ],
       "metadata": {},
       "output_type": "display_data",
       "text": [
        "<IPython.core.display.HTML at 0x159f44210>"
       ]
      },
      {
       "html": [
        "\n",
        "    <div>\n",
        "        <h2>El Salvador Pupuseria Tita's</h2>\n",
        "        <span style='color: #ca0814;'><span>$</span><span>$</span></span><span style='color: #e4e4e4;'><span>$</span><span>$</span></span><br /> \n",
        "        <span style='color: #feea60;'>\u2605\u2605\u2605</span><span style='color: #e4e4e4;'>\u2605\u2605</span>\n",
        "        <span style='color:#333;font-size:9px'>960 words</span>\n",
        "        <br/>\n",
        "        <span style='color:#777:font-size:9px'>Categories: </span><span style='color:#333;font-size:13px'>salvadoran</span>\n",
        "        <p style='width:450px'>right through lunch and just had to grab something to eat around 3 pm , i love pupusas when they are light and airy . these were n't . the</p>\n",
        "    </div>"
       ],
       "metadata": {},
       "output_type": "display_data",
       "text": [
        "<IPython.core.display.HTML at 0x159f44210>"
       ]
      },
      {
       "html": [
        "\n",
        "            <div>\n",
        "                <div style='background: rgb(221,222,223);width:102px;padding:1px;border-radius:2px'>\n",
        "                    <div style='height:20px; width:59px;padding-left:3px;background-color:rgb(71, 189, 249);font-size:9px;color:white'>\n",
        "                        60%\n",
        "                    </div>\n",
        "                </div>\n",
        "            </div>\n",
        "            "
       ],
       "metadata": {},
       "output_type": "display_data",
       "text": [
        "<IPython.core.display.HTML at 0x159f44210>"
       ]
      },
      {
       "html": [
        "\n",
        "    <div>\n",
        "        <h2>ha-seattle</h2>\n",
        "        <span style='color: #ca0814;'><span>$</span><span>$</span></span><span style='color: #e4e4e4;'><span>$</span><span>$</span></span><br /> \n",
        "        <span style='color: #feea60;'>\u2605\u2605\u2605\u2605</span><span style='color: #e4e4e4;'>\u2605</span>\n",
        "        <span style='color:#333;font-size:9px'>5819 words</span>\n",
        "        <br/>\n",
        "        <span style='color:#777:font-size:9px'>Categories: </span><span style='color:#333;font-size:13px'>comfortfood</span>\n",
        "        <p style='width:450px'>hood and glad we stumbled upon ha ! it has a quirky laid back atmosphere , good comfort food and a special on drinks almost every night . ca n't</p>\n",
        "    </div>"
       ],
       "metadata": {},
       "output_type": "display_data",
       "text": [
        "<IPython.core.display.HTML at 0x159f44210>"
       ]
      },
      {
       "html": [
        "\n",
        "            <div>\n",
        "                <div style='background: rgb(221,222,223);width:102px;padding:1px;border-radius:2px'>\n",
        "                    <div style='height:20px; width:59px;padding-left:3px;background-color:rgb(71, 189, 249);font-size:9px;color:white'>\n",
        "                        59%\n",
        "                    </div>\n",
        "                </div>\n",
        "            </div>\n",
        "            "
       ],
       "metadata": {},
       "output_type": "display_data",
       "text": [
        "<IPython.core.display.HTML at 0x159f44210>"
       ]
      },
      {
       "html": [
        "\n",
        "    <div>\n",
        "        <h2>malay-satay-hut-seattle</h2>\n",
        "        <span style='color: #ca0814;'><span>$</span><span>$</span></span><span style='color: #e4e4e4;'><span>$</span><span>$</span></span><br /> \n",
        "        <span style='color: #feea60;'>\u2605\u2605\u2605\u2605</span><span style='color: #e4e4e4;'>\u2605</span>\n",
        "        <span style='color:#333;font-size:9px'>6544 words</span>\n",
        "        <br/>\n",
        "        <span style='color:#777:font-size:9px'>Categories: </span><span style='color:#333;font-size:13px'>malaysian, singaporean</span>\n",
        "        <p style='width:450px'>they keep the food here truly authentic and genuine - my top rated menu items are : * roti chanai with curry* dry curry chicken* beef rendang* haninese chicken rice*</p>\n",
        "    </div>"
       ],
       "metadata": {},
       "output_type": "display_data",
       "text": [
        "<IPython.core.display.HTML at 0x159f44210>"
       ]
      },
      {
       "html": [
        "\n",
        "            <div>\n",
        "                <div style='background: rgb(221,222,223);width:102px;padding:1px;border-radius:2px'>\n",
        "                    <div style='height:20px; width:58px;padding-left:3px;background-color:rgb(71, 189, 249);font-size:9px;color:white'>\n",
        "                        59%\n",
        "                    </div>\n",
        "                </div>\n",
        "            </div>\n",
        "            "
       ],
       "metadata": {},
       "output_type": "display_data",
       "text": [
        "<IPython.core.display.HTML at 0x159f44210>"
       ]
      },
      {
       "html": [
        "\n",
        "    <div>\n",
        "        <h2>Vostok Dumpling House</h2>\n",
        "        <span style='color: #ca0814;'><span>$</span><span>$</span></span><span style='color: #e4e4e4;'><span>$</span><span>$</span></span><br /> \n",
        "        <span style='color: #feea60;'>\u2605\u2605\u2605\u2605</span><span style='color: #e4e4e4;'>\u2605</span>\n",
        "        <span style='color:#333;font-size:9px'>7874 words</span>\n",
        "        <br/>\n",
        "        <span style='color:#777:font-size:9px'>Categories: </span><span style='color:#333;font-size:13px'>russian, ukrainian</span>\n",
        "        <p style='width:450px'>station but when we arrived , they were busting to the seams with hungry seattleites . we checked next door and decided that dumplings were a better fit for the</p>\n",
        "    </div>"
       ],
       "metadata": {},
       "output_type": "display_data",
       "text": [
        "<IPython.core.display.HTML at 0x159f44210>"
       ]
      },
      {
       "html": [
        "\n",
        "            <div>\n",
        "                <div style='background: rgb(221,222,223);width:102px;padding:1px;border-radius:2px'>\n",
        "                    <div style='height:20px; width:57px;padding-left:3px;background-color:rgb(71, 189, 249);font-size:9px;color:white'>\n",
        "                        57%\n",
        "                    </div>\n",
        "                </div>\n",
        "            </div>\n",
        "            "
       ],
       "metadata": {},
       "output_type": "display_data",
       "text": [
        "<IPython.core.display.HTML at 0x159f44210>"
       ]
      },
      {
       "html": [
        "\n",
        "    <div>\n",
        "        <h2>Eric's Place</h2>\n",
        "        <span style='color: #ca0814;'><span></span></span><span style='color: #e4e4e4;'><span>$</span><span>$</span><span>$</span><span>$</span></span><br /> \n",
        "        <span style='color: #feea60;'>\u2605\u2605\u2605\u2605</span><span style='color: #e4e4e4;'>\u2605</span>\n",
        "        <span style='color:#333;font-size:9px'>97 words</span>\n",
        "        <br/>\n",
        "        <span style='color:#777:font-size:9px'>Categories: </span><span style='color:#333;font-size:13px'>newamerican, belgian</span>\n",
        "        <p style='width:450px'>menu rotates quite often , which is both a blessing and a curse . the blue cheese potato salad was divine and i ca n't recommend it highly enough .</p>\n",
        "    </div>"
       ],
       "metadata": {},
       "output_type": "display_data",
       "text": [
        "<IPython.core.display.HTML at 0x159f44210>"
       ]
      },
      {
       "html": [
        "\n",
        "            <div>\n",
        "                <div style='background: rgb(221,222,223);width:102px;padding:1px;border-radius:2px'>\n",
        "                    <div style='height:20px; width:57px;padding-left:3px;background-color:rgb(71, 189, 249);font-size:9px;color:white'>\n",
        "                        57%\n",
        "                    </div>\n",
        "                </div>\n",
        "            </div>\n",
        "            "
       ],
       "metadata": {},
       "output_type": "display_data",
       "text": [
        "<IPython.core.display.HTML at 0x159f44210>"
       ]
      },
      {
       "html": [
        "\n",
        "    <div>\n",
        "        <h2>La Bodega</h2>\n",
        "        <span style='color: #ca0814;'><span>$</span><span>$</span></span><span style='color: #e4e4e4;'><span>$</span><span>$</span></span><br /> \n",
        "        <span style='color: #feea60;'>\u2605\u2605\u2605\u2605</span><span style='color: #e4e4e4;'>\u2605</span>\n",
        "        <span style='color:#333;font-size:9px'>2449 words</span>\n",
        "        <br/>\n",
        "        <span style='color:#777:font-size:9px'>Categories: </span><span style='color:#333;font-size:13px'>dominican, sandwiches</span>\n",
        "        <p style='width:450px'>. i met with two other people here during the rush and i 'm surprised that all of us made it out alive as first-timers . i had a bacon</p>\n",
        "    </div>"
       ],
       "metadata": {},
       "output_type": "display_data",
       "text": [
        "<IPython.core.display.HTML at 0x159f44210>"
       ]
      },
      {
       "html": [
        "\n",
        "            <div>\n",
        "                <div style='background: rgb(221,222,223);width:102px;padding:1px;border-radius:2px'>\n",
        "                    <div style='height:20px; width:56px;padding-left:3px;background-color:rgb(71, 189, 249);font-size:9px;color:white'>\n",
        "                        57%\n",
        "                    </div>\n",
        "                </div>\n",
        "            </div>\n",
        "            "
       ],
       "metadata": {},
       "output_type": "display_data",
       "text": [
        "<IPython.core.display.HTML at 0x159f44210>"
       ]
      },
      {
       "html": [
        "\n",
        "    <div>\n",
        "        <h2>bodrum-bistro-seattle</h2>\n",
        "        <span style='color: #ca0814;'><span>$</span><span>$</span></span><span style='color: #e4e4e4;'><span>$</span><span>$</span></span><br /> \n",
        "        <span style='color: #feea60;'>\u2605\u2605\u2605\u2605</span><span style='color: #e4e4e4;'>\u2605</span>\n",
        "        <span style='color:#333;font-size:9px'>918 words</span>\n",
        "        <br/>\n",
        "        <span style='color:#777:font-size:9px'>Categories: </span><span style='color:#333;font-size:13px'>mediterranean, turkish</span>\n",
        "        <p style='width:450px'>away behind a verdant courtyard , this little gem is more mediterranean than italian , and more read more '' seattle , wa perfect . bodrum bistro is a wallingford</p>\n",
        "    </div>"
       ],
       "metadata": {},
       "output_type": "display_data",
       "text": [
        "<IPython.core.display.HTML at 0x159f44210>"
       ]
      },
      {
       "html": [
        "\n",
        "            <div>\n",
        "                <div style='background: rgb(221,222,223);width:102px;padding:1px;border-radius:2px'>\n",
        "                    <div style='height:20px; width:55px;padding-left:3px;background-color:rgb(71, 189, 249);font-size:9px;color:white'>\n",
        "                        56%\n",
        "                    </div>\n",
        "                </div>\n",
        "            </div>\n",
        "            "
       ],
       "metadata": {},
       "output_type": "display_data",
       "text": [
        "<IPython.core.display.HTML at 0x159f44210>"
       ]
      },
      {
       "html": [
        "\n",
        "    <div>\n",
        "        <h2>Ha!</h2>\n",
        "        <span style='color: #ca0814;'><span>$</span><span>$</span></span><span style='color: #e4e4e4;'><span>$</span><span>$</span></span><br /> \n",
        "        <span style='color: #feea60;'>\u2605\u2605\u2605\u2605</span><span style='color: #e4e4e4;'>\u2605</span>\n",
        "        <span style='color:#333;font-size:9px'>5703 words</span>\n",
        "        <br/>\n",
        "        <span style='color:#777:font-size:9px'>Categories: </span><span style='color:#333;font-size:13px'>comfortfood</span>\n",
        "        <p style='width:450px'>uncomplicated , high quality ingredients , excellent cocktails . '' '' crab melt was delicious and highly recommended . '' '' we had a 40th birthday party there and the</p>\n",
        "    </div>"
       ],
       "metadata": {},
       "output_type": "display_data",
       "text": [
        "<IPython.core.display.HTML at 0x159f44210>"
       ]
      },
      {
       "html": [
        "\n",
        "            <div>\n",
        "                <div style='background: rgb(221,222,223);width:102px;padding:1px;border-radius:2px'>\n",
        "                    <div style='height:20px; width:55px;padding-left:3px;background-color:rgb(71, 189, 249);font-size:9px;color:white'>\n",
        "                        55%\n",
        "                    </div>\n",
        "                </div>\n",
        "            </div>\n",
        "            "
       ],
       "metadata": {},
       "output_type": "display_data",
       "text": [
        "<IPython.core.display.HTML at 0x159f44210>"
       ]
      },
      {
       "html": [
        "\n",
        "    <div>\n",
        "        <h2>Tropicos Breeze</h2>\n",
        "        <span style='color: #ca0814;'><span>$</span><span>$</span></span><span style='color: #e4e4e4;'><span>$</span><span>$</span></span><br /> \n",
        "        <span style='color: #feea60;'>\u2605\u2605\u2605\u2605</span><span style='color: #e4e4e4;'>\u2605</span>\n",
        "        <span style='color:#333;font-size:9px'>6616 words</span>\n",
        "        <br/>\n",
        "        <span style='color:#777:font-size:9px'>Categories: </span><span style='color:#333;font-size:13px'>salvadoran, seafood</span>\n",
        "        <p style='width:450px'>the smell walking in the door and the clientele assured me i was going to be in for an authentic columbian treat . the place is large so seating is</p>\n",
        "    </div>"
       ],
       "metadata": {},
       "output_type": "display_data",
       "text": [
        "<IPython.core.display.HTML at 0x159f44210>"
       ]
      },
      {
       "html": [
        "\n",
        "            <div>\n",
        "                <div style='background: rgb(221,222,223);width:102px;padding:1px;border-radius:2px'>\n",
        "                    <div style='height:20px; width:54px;padding-left:3px;background-color:rgb(71, 189, 249);font-size:9px;color:white'>\n",
        "                        55%\n",
        "                    </div>\n",
        "                </div>\n",
        "            </div>\n",
        "            "
       ],
       "metadata": {},
       "output_type": "display_data",
       "text": [
        "<IPython.core.display.HTML at 0x159f44210>"
       ]
      },
      {
       "html": [
        "\n",
        "    <div>\n",
        "        <h2>Row House Cafe</h2>\n",
        "        <span style='color: #ca0814;'><span>$</span><span>$</span></span><span style='color: #e4e4e4;'><span>$</span><span>$</span></span><br /> \n",
        "        <span style='color: #feea60;'>\u2605\u2605\u2605\u2605</span><span style='color: #e4e4e4;'>\u2605</span>\n",
        "        <span style='color:#333;font-size:9px'>6241 words</span>\n",
        "        <br/>\n",
        "        <span style='color:#777:font-size:9px'>Categories: </span><span style='color:#333;font-size:13px'>breakfast_brunch, comfortfood, cocktailbars</span>\n",
        "        <p style='width:450px'>row house converted into a cafe is a great theme and provides for a very hip and contemporary atmosphere . there are 5 unique sitting areas which provides for a</p>\n",
        "    </div>"
       ],
       "metadata": {},
       "output_type": "display_data",
       "text": [
        "<IPython.core.display.HTML at 0x159f44210>"
       ]
      },
      {
       "html": [
        "\n",
        "            <div>\n",
        "                <div style='background: rgb(221,222,223);width:102px;padding:1px;border-radius:2px'>\n",
        "                    <div style='height:20px; width:54px;padding-left:3px;background-color:rgb(71, 189, 249);font-size:9px;color:white'>\n",
        "                        55%\n",
        "                    </div>\n",
        "                </div>\n",
        "            </div>\n",
        "            "
       ],
       "metadata": {},
       "output_type": "display_data",
       "text": [
        "<IPython.core.display.HTML at 0x159f44210>"
       ]
      },
      {
       "html": [
        "\n",
        "    <div>\n",
        "        <h2>brouwers-cafe-seattle</h2>\n",
        "        <span style='color: #ca0814;'><span>$</span><span>$</span></span><span style='color: #e4e4e4;'><span>$</span><span>$</span></span><br /> \n",
        "        <span style='color: #feea60;'>\u2605\u2605\u2605\u2605</span><span style='color: #e4e4e4;'>\u2605</span>\n",
        "        <span style='color:#333;font-size:9px'>6063 words</span>\n",
        "        <br/>\n",
        "        <span style='color:#777:font-size:9px'>Categories: </span><span style='color:#333;font-size:13px'>modern_european, belgian, pubs</span>\n",
        "        <p style='width:450px'>( zwanze day , a couple beer launches , halloween ) and always have fun . other patrons tend to keep to themselves . service is attentive . the food</p>\n",
        "    </div>"
       ],
       "metadata": {},
       "output_type": "display_data",
       "text": [
        "<IPython.core.display.HTML at 0x159f44210>"
       ]
      },
      {
       "html": [
        "\n",
        "            <div>\n",
        "                <div style='background: rgb(221,222,223);width:102px;padding:1px;border-radius:2px'>\n",
        "                    <div style='height:20px; width:54px;padding-left:3px;background-color:rgb(71, 189, 249);font-size:9px;color:white'>\n",
        "                        54%\n",
        "                    </div>\n",
        "                </div>\n",
        "            </div>\n",
        "            "
       ],
       "metadata": {},
       "output_type": "display_data",
       "text": [
        "<IPython.core.display.HTML at 0x159f44210>"
       ]
      },
      {
       "html": [
        "\n",
        "    <div>\n",
        "        <h2>Red Pepper</h2>\n",
        "        <span style='color: #ca0814;'><span>$</span><span>$</span></span><span style='color: #e4e4e4;'><span>$</span><span>$</span></span><br /> \n",
        "        <span style='color: #feea60;'>\u2605\u2605\u2605</span><span style='color: #e4e4e4;'>\u2605\u2605</span>\n",
        "        <span style='color:#333;font-size:9px'>2370 words</span>\n",
        "        <br/>\n",
        "        <span style='color:#777:font-size:9px'>Categories: </span><span style='color:#333;font-size:13px'>szechuan</span>\n",
        "        <p style='width:450px'>'ve got passable cantonese / dim sum ( tai kong ) , northern chinese ( dalian ) , taiwanese ( yumbit and henry 's ) , american-chinese ( mandarin chef</p>\n",
        "    </div>"
       ],
       "metadata": {},
       "output_type": "display_data",
       "text": [
        "<IPython.core.display.HTML at 0x159f44210>"
       ]
      },
      {
       "html": [
        "\n",
        "            <div>\n",
        "                <div style='background: rgb(221,222,223);width:102px;padding:1px;border-radius:2px'>\n",
        "                    <div style='height:20px; width:54px;padding-left:3px;background-color:rgb(71, 189, 249);font-size:9px;color:white'>\n",
        "                        54%\n",
        "                    </div>\n",
        "                </div>\n",
        "            </div>\n",
        "            "
       ],
       "metadata": {},
       "output_type": "display_data",
       "text": [
        "<IPython.core.display.HTML at 0x159f44210>"
       ]
      },
      {
       "html": [
        "\n",
        "    <div>\n",
        "        <h2>tiko-riko-seattle</h2>\n",
        "        <span style='color: #ca0814;'><span>$</span></span><span style='color: #e4e4e4;'><span>$</span><span>$</span><span>$</span></span><br /> \n",
        "        <span style='color: #feea60;'>\u2605\u2605\u2605\u2605</span><span style='color: #e4e4e4;'>\u2605</span>\n",
        "        <span style='color:#333;font-size:9px'>5972 words</span>\n",
        "        <br/>\n",
        "        <span style='color:#777:font-size:9px'>Categories: </span><span style='color:#333;font-size:13px'>salvadoran</span>\n",
        "        <p style='width:450px'>also listened as a really unfortunate lady explained ( in terrible spanish ) to the sweet and patient man behind the counter , that she 'd traveled to the establishment</p>\n",
        "    </div>"
       ],
       "metadata": {},
       "output_type": "display_data",
       "text": [
        "<IPython.core.display.HTML at 0x159f44210>"
       ]
      },
      {
       "html": [
        "\n",
        "            <div>\n",
        "                <div style='background: rgb(221,222,223);width:102px;padding:1px;border-radius:2px'>\n",
        "                    <div style='height:20px; width:54px;padding-left:3px;background-color:rgb(71, 189, 249);font-size:9px;color:white'>\n",
        "                        54%\n",
        "                    </div>\n",
        "                </div>\n",
        "            </div>\n",
        "            "
       ],
       "metadata": {},
       "output_type": "display_data",
       "text": [
        "<IPython.core.display.HTML at 0x159f44210>"
       ]
      },
      {
       "html": [
        "\n",
        "    <div>\n",
        "        <h2>Curbside Kebab</h2>\n",
        "        <span style='color: #ca0814;'><span>$</span></span><span style='color: #e4e4e4;'><span>$</span><span>$</span><span>$</span></span><br /> \n",
        "        <span style='color: #feea60;'>\u2605\u2605\u2605</span><span style='color: #e4e4e4;'>\u2605\u2605</span>\n",
        "        <span style='color:#333;font-size:9px'>551 words</span>\n",
        "        <br/>\n",
        "        <span style='color:#777:font-size:9px'>Categories: </span><span style='color:#333;font-size:13px'>mediterranean, mideastern, foodtrucks</span>\n",
        "        <p style='width:450px'>plans to reopen . it is closed . what a bummer ... seattle , wa literally the worst gyro i 've ever had . so bad , i 'm writing</p>\n",
        "    </div>"
       ],
       "metadata": {},
       "output_type": "display_data",
       "text": [
        "<IPython.core.display.HTML at 0x159f44210>"
       ]
      },
      {
       "html": [
        "\n",
        "            <div>\n",
        "                <div style='background: rgb(221,222,223);width:102px;padding:1px;border-radius:2px'>\n",
        "                    <div style='height:20px; width:53px;padding-left:3px;background-color:rgb(71, 189, 249);font-size:9px;color:white'>\n",
        "                        54%\n",
        "                    </div>\n",
        "                </div>\n",
        "            </div>\n",
        "            "
       ],
       "metadata": {},
       "output_type": "display_data",
       "text": [
        "<IPython.core.display.HTML at 0x159f44210>"
       ]
      },
      {
       "html": [
        "\n",
        "    <div>\n",
        "        <h2>swedish-cultural-center-seattle-seattle</h2>\n",
        "        <span style='color: #ca0814;'><span>$</span></span><span style='color: #e4e4e4;'><span>$</span><span>$</span><span>$</span></span><br /> \n",
        "        <span style='color: #feea60;'>\u2605\u2605\u2605\u2605</span><span style='color: #e4e4e4;'>\u2605</span>\n",
        "        <span style='color:#333;font-size:9px'>8275 words</span>\n",
        "        <br/>\n",
        "        <span style='color:#777:font-size:9px'>Categories: </span><span style='color:#333;font-size:13px'>scandinavian, culturalcenter</span>\n",
        "        <p style='width:450px'>lingonberry sauce and whipped cream , and a slice of ham ... what could be better . this is a great fun family event , and it 's a way</p>\n",
        "    </div>"
       ],
       "metadata": {},
       "output_type": "display_data",
       "text": [
        "<IPython.core.display.HTML at 0x159f44210>"
       ]
      },
      {
       "html": [
        "\n",
        "            <div>\n",
        "                <div style='background: rgb(221,222,223);width:102px;padding:1px;border-radius:2px'>\n",
        "                    <div style='height:20px; width:53px;padding-left:3px;background-color:rgb(71, 189, 249);font-size:9px;color:white'>\n",
        "                        54%\n",
        "                    </div>\n",
        "                </div>\n",
        "            </div>\n",
        "            "
       ],
       "metadata": {},
       "output_type": "display_data",
       "text": [
        "<IPython.core.display.HTML at 0x159f44210>"
       ]
      }
     ],
     "prompt_number": 35
    },
    {
     "cell_type": "code",
     "collapsed": false,
     "input": [
      "model.projection_matrix.get_value().shape"
     ],
     "language": "python",
     "metadata": {},
     "outputs": [
      {
       "metadata": {},
       "output_type": "pyout",
       "prompt_number": 9,
       "text": [
        "(198, 220)"
       ]
      }
     ],
     "prompt_number": 9
    },
    {
     "cell_type": "code",
     "collapsed": false,
     "input": [
      "model.output_sigmoid_classes"
     ],
     "language": "python",
     "metadata": {},
     "outputs": [
      {
       "metadata": {},
       "output_type": "pyout",
       "prompt_number": 10,
       "text": [
        "188"
       ]
      }
     ],
     "prompt_number": 10
    },
    {
     "cell_type": "code",
     "collapsed": false,
     "input": [
      "sum(model.output_classes)"
     ],
     "language": "python",
     "metadata": {},
     "outputs": [
      {
       "metadata": {},
       "output_type": "pyout",
       "prompt_number": 13,
       "text": [
        "10"
       ]
      }
     ],
     "prompt_number": 13
    },
    {
     "cell_type": "code",
     "collapsed": false,
     "input": [
      "model._create_update_fun()"
     ],
     "language": "python",
     "metadata": {},
     "outputs": [],
     "prompt_number": 19
    },
    {
     "cell_type": "code",
     "collapsed": false,
     "input": [],
     "language": "python",
     "metadata": {},
     "outputs": []
    }
   ],
   "metadata": {}
  }
 ]
}