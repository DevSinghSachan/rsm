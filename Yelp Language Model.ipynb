{
 "metadata": {
  "name": "",
  "signature": "sha256:53e293844ea61935d6e404be899b16d128ed48ccf240b30ce7c3aadeded40ddb"
 },
 "nbformat": 3,
 "nbformat_minor": 0,
 "worksheets": [
  {
   "cells": [
    {
     "cell_type": "code",
     "collapsed": false,
     "input": [
      "%load_ext cythonmagic\n",
      "%load_ext autoreload\n",
      "%matplotlib inline\n",
      "%autoreload 2\n",
      "import numpy as np\n",
      "import gzip, pickle\n",
      "from collections import OrderedDict\n",
      "from word2vec_extended import Word2VecExtended\n",
      "from IPython.display import clear_output\n",
      "import sys\n",
      "sys.path.append(\"/Users/jonathanraiman/Desktop/Coding/language_modeling/\")\n",
      "from yelplm import YelpLM, CategoriesConverter, DatasetGenerator\n",
      "lmsenti = Word2VecExtended.load(\"/Users/jonathanraiman/Desktop/Coding/language_modeling/saves/kid_model_30_oov_senti\")"
     ],
     "language": "python",
     "metadata": {},
     "outputs": [],
     "prompt_number": 1
    },
    {
     "cell_type": "markdown",
     "metadata": {},
     "source": [
      "However there is a speedup using Cython (and it is even larger if we do not allocate extra memory, and write directly to the objects we want):"
     ]
    },
    {
     "cell_type": "code",
     "collapsed": false,
     "input": [
      "%timeit using_theano()"
     ],
     "language": "python",
     "metadata": {},
     "outputs": [
      {
       "output_type": "stream",
       "stream": "stdout",
       "text": [
        "1000 loops, best of 3: 941 \u00b5s per loop\n"
       ]
      }
     ],
     "prompt_number": 271
    },
    {
     "cell_type": "code",
     "collapsed": false,
     "input": [
      "%timeit using_cython()"
     ],
     "language": "python",
     "metadata": {},
     "outputs": [
      {
       "output_type": "stream",
       "stream": "stdout",
       "text": [
        "1000 loops, best of 3: 282 \u00b5s per loop\n"
       ]
      }
     ],
     "prompt_number": 67
    },
    {
     "cell_type": "code",
     "collapsed": false,
     "input": [
      "%timeit using_numpy()"
     ],
     "language": "python",
     "metadata": {},
     "outputs": [
      {
       "output_type": "stream",
       "stream": "stdout",
       "text": [
        "1000 loops, best of 3: 859 \u00b5s per loop\n"
       ]
      }
     ],
     "prompt_number": 68
    },
    {
     "cell_type": "markdown",
     "metadata": {},
     "source": [
      "### Get a dataset of restaurants\n",
      "\n",
      "Either get the data from mongo:"
     ]
    },
    {
     "cell_type": "code",
     "collapsed": false,
     "input": [
      "from utils import connect_to_database, get_some_restaurants\n",
      "connect_to_database(database_name = 'yelp')\n",
      "max_el = 10000\n",
      "texts, texts_data = get_some_restaurants(max_el, min_words = 10) # be as large as a single window.\n",
      "with gzip.open(\"saves/saved_texts.gz\", 'wb') as file:\n",
      "    pickle.dump((texts, texts_data), file, 1)"
     ],
     "language": "python",
     "metadata": {},
     "outputs": []
    },
    {
     "cell_type": "markdown",
     "metadata": {},
     "source": [
      "or load it from the drive:"
     ]
    },
    {
     "cell_type": "code",
     "collapsed": false,
     "input": [
      "file = gzip.open(\"saves/saved_texts.gz\", 'r')\n",
      "texts, texts_data = pickle.load(file)\n",
      "file.close()"
     ],
     "language": "python",
     "metadata": {},
     "outputs": [],
     "prompt_number": 2
    },
    {
     "cell_type": "markdown",
     "metadata": {},
     "source": [
      "The model can then be built by discovering which labels are needed (pricing, rating, and categories in this case), and from this data we build the `YelpLM` model:"
     ]
    },
    {
     "cell_type": "code",
     "collapsed": false,
     "input": [
      "categories = set()\n",
      "for el in texts_data:\n",
      "    for c in el[\"categories\"]:\n",
      "        categories.add(c)\n",
      "catconvert = CategoriesConverter(categories)\n",
      "dataset_gen = DatasetGenerator(texts, texts_data, catconvert)\n",
      "\n",
      "# should modify this to do some auto-encoding / self regression.\n",
      "model = YelpLM(\n",
      "    vocabulary = lmsenti,\n",
      "    object_vocabulary_size = len(texts),\n",
      "    window = 10,\n",
      "    bilinear_form = False,\n",
      "    size = 20,\n",
      "    object_size = 20,\n",
      "    output_sigmoid_classes = catconvert.num_categories,\n",
      "    output_sigmoid_labels = catconvert.index2category,\n",
      "    output_labels = [[\"\", \"$\", \"$$\", \"$$$\", \"$$$$\"], [\"1\", \"2\", \"3\", \"4\", \"5\"]],\n",
      "    output_classes=[5, 5] # \"\", \"$\", \"$$\",...,\"$$$$\", 5 price classes, and 5 rating classes\n",
      ")"
     ],
     "language": "python",
     "metadata": {},
     "outputs": [],
     "prompt_number": 3
    },
    {
     "cell_type": "code",
     "collapsed": false,
     "input": [
      "dataset_gen.save_ids(\"saves/yelplm_window_10_lm_20_objlm_20_4/__objects__.gz\")"
     ],
     "language": "python",
     "metadata": {},
     "outputs": [],
     "prompt_number": 5
    },
    {
     "cell_type": "markdown",
     "metadata": {},
     "source": [
      "Training is then a matter of going through the dataset in any order and lowering the training rate as we aim to reduce the prediction error over the labels for each restaurant while taking as input the restaurant vectors and the text windows."
     ]
    },
    {
     "cell_type": "code",
     "collapsed": false,
     "input": [
      "import logging\n",
      "logger = logging.getLogger(\"yelplm.training\")\n",
      "logger.setLevel(logging.INFO)\n",
      "min_alpha = float(0.0001)\n",
      "max_alpha = float(0.0035)\n",
      "max_epoch = 9\n",
      "for epoch in range(0, max_epoch):\n",
      "    alpha = max(min_alpha, max_alpha * (1. - (float(epoch) / float(max_epoch))))\n",
      "    model._alpha = alpha\n",
      "    objects, err = model.train(dataset_gen, workers = 8, chunksize = 24)\n",
      "    model.save_model(\"saves/yelplm_window_10_lm_20_objlm_20_%d/\" % (epoch))\n",
      "    print(\"Epoch = %d, Error = %.3f, alpha = %.3f\" % (epoch, err, alpha))"
     ],
     "language": "python",
     "metadata": {},
     "outputs": []
    },
    {
     "cell_type": "code",
     "collapsed": false,
     "input": [
      "model.load_saved_weights(\"saves/yelplm_window_10_lm_20_objlm_20_4/\")"
     ],
     "language": "python",
     "metadata": {},
     "outputs": [],
     "prompt_number": 4
    },
    {
     "cell_type": "code",
     "collapsed": false,
     "input": [
      "model.create_normalized_matrices()"
     ],
     "language": "python",
     "metadata": {},
     "outputs": [],
     "prompt_number": 6
    },
    {
     "cell_type": "code",
     "collapsed": false,
     "input": [
      "model.most_similar_word(\"science\")"
     ],
     "language": "python",
     "metadata": {},
     "outputs": [
      {
       "metadata": {},
       "output_type": "pyout",
       "prompt_number": 7,
       "text": [
        "[('request', 0.9545077085494995, 7163),\n",
        " ('hopefully', 0.9531156420707703, 38713),\n",
        " ('community', 0.9526830911636353, 6000),\n",
        " ('infused', 0.9511095285415649, 7513),\n",
        " ('yummy', 0.9509859085083008, 34636),\n",
        " ('fallen', 0.9509795904159546, 6096),\n",
        " ('feeling', 0.9508317708969116, 38029),\n",
        " (\"'d\", 0.9483151435852051, 26839),\n",
        " ('reading', 0.9478667974472046, 20754),\n",
        " ('work', 0.9475015997886658, 586)]"
       ]
      }
     ],
     "prompt_number": 7
    },
    {
     "cell_type": "code",
     "collapsed": false,
     "input": [
      "model.save_model_parameters(\"saves/yelplm_window_10_lm_20_objlm_20_4\")"
     ],
     "language": "python",
     "metadata": {},
     "outputs": [],
     "prompt_number": 6
    },
    {
     "cell_type": "code",
     "collapsed": false,
     "input": [
      "model.save_model_to_java(\"saves/yelplm_window_10_lm_20_objlm_20_4\")"
     ],
     "language": "python",
     "metadata": {},
     "outputs": [],
     "prompt_number": 8
    },
    {
     "cell_type": "code",
     "collapsed": false,
     "input": [
      "catconvert.save_to_java(\"saves/yelplm_window_10_lm_20_objlm_20_4/__categories__.gz\")"
     ],
     "language": "python",
     "metadata": {},
     "outputs": [],
     "prompt_number": 4
    },
    {
     "cell_type": "code",
     "collapsed": false,
     "input": [
      "model.save_vocabulary(\"saves/yelplm_window_10_lm_20_objlm_20_4\")"
     ],
     "language": "python",
     "metadata": {},
     "outputs": [],
     "prompt_number": 8
    },
    {
     "cell_type": "code",
     "collapsed": false,
     "input": [
      "model.create_normalized_matrices()"
     ],
     "language": "python",
     "metadata": {},
     "outputs": [],
     "prompt_number": 6
    },
    {
     "cell_type": "code",
     "collapsed": false,
     "input": [
      "model.most_similar_word(\"science\", topn = 10)"
     ],
     "language": "python",
     "metadata": {},
     "outputs": [
      {
       "metadata": {},
       "output_type": "pyout",
       "prompt_number": 50,
       "text": [
        "[('request', 0.9545077085494995, 7163),\n",
        " ('hopefully', 0.9531156420707703, 38713),\n",
        " ('community', 0.9526830911636353, 6000),\n",
        " ('infused', 0.9511095285415649, 7513),\n",
        " ('yummy', 0.9509859085083008, 34636),\n",
        " ('fallen', 0.9509795904159546, 6096),\n",
        " ('feeling', 0.9508317708969116, 38029),\n",
        " (\"'d\", 0.9483151435852051, 26839),\n",
        " ('reading', 0.9478667974472046, 20754),\n",
        " ('work', 0.9475015997886658, 586)]"
       ]
      }
     ],
     "prompt_number": 50
    },
    {
     "cell_type": "code",
     "collapsed": false,
     "input": [
      "from utils import present_restaurant\n",
      "from IPython.display import display, HTML\n",
      "import re\n",
      "\n",
      "def levenshtein_distance(source, target):\n",
      "    if len(source) < len(target):\n",
      "        return levenshtein_distance(target, source)\n",
      " \n",
      "    # So now we have len(source) >= len(target).\n",
      "    if len(target) == 0:\n",
      "        return len(source)\n",
      " \n",
      "    # We call tuple() to force strings to be used as sequences\n",
      "    # ('c', 'a', 't', 's') - numpy uses them as values by default.\n",
      "    source = np.array(tuple(source))\n",
      "    target = np.array(tuple(target))\n",
      " \n",
      "    # We use a dynamic programming algorithm, but with the\n",
      "    # added optimization that we only need the last two rows\n",
      "    # of the matrix.\n",
      "    previous_row = np.arange(target.size + 1)\n",
      "    for s in source:\n",
      "        # Insertion (target grows longer than source):\n",
      "        current_row = previous_row + 1\n",
      " \n",
      "        # Substitution or matching:\n",
      "        # Target and source items are aligned, and either\n",
      "        # are different (cost of 1), or are the same (cost of 0).\n",
      "        current_row[1:] = np.minimum(\n",
      "                current_row[1:],\n",
      "                np.add(previous_row[:-1], target != s))\n",
      " \n",
      "        # Deletion (target grows shorter than source):\n",
      "        current_row[1:] = np.minimum(\n",
      "                current_row[1:],\n",
      "                current_row[0:-1] + 1)\n",
      " \n",
      "        previous_row = current_row\n",
      " \n",
      "    return previous_row[-1]\n",
      "\n",
      "def search_for_object(self, object_index, topn = 10):\n",
      "    present_restaurant(texts_data[object_index], text = texts[object_index])\n",
      "    for result, distance in self.most_similar_object(object_index, topn=topn):\n",
      "        present_restaurant(texts_data[result], text = texts[result])\n",
      "        display(HTML(\"\"\"\n",
      "            <div>\n",
      "                <div style='background: rgb(221,222,223);width:102px;padding:1px;border-radius:2px'>\n",
      "                    <div style='height:20px; width:%dpx;padding-left:3px;background-color:rgb(71, 189, 249);font-size:9px;color:white'>\n",
      "                        %.0f%%\n",
      "                    </div>\n",
      "                </div>\n",
      "            </div>\n",
      "            \"\"\" % (int(distance * 100), distance * 100)))\n",
      "def search_with_text(self, text, topn = 10, levenshtein = False):\n",
      "    text = text.lower()\n",
      "    min_distance_index = -1\n",
      "    min_distance = float('inf')\n",
      "    min_distance_word = None\n",
      "    \n",
      "    for i, datum in enumerate(texts_data):\n",
      "        if levenshtein:\n",
      "            min_local_distance = float('inf')\n",
      "            if datum[\"_id\"].lower().find(text) != -1:\n",
      "                min_local_distance = 3\n",
      "                if min_local_distance < min_distance:\n",
      "                    min_distance_word = datum[\"_id\"]\n",
      "                    min_distance = min_local_distance\n",
      "                    min_distance_index = i\n",
      "            for scrap in re.split( \"[ -]\", datum[\"_id\"].lower()) + [datum[\"_id\"].lower()] + datum[\"categories\"]:\n",
      "                min_local_distance = min(min_local_distance, levenshtein_distance(text, scrap))\n",
      "                if min_local_distance < min_distance:\n",
      "                    min_distance_word = scrap\n",
      "                    min_distance = min_local_distance\n",
      "                    min_distance_index = i\n",
      "            if min_distance <= 1:\n",
      "                break\n",
      "        else:\n",
      "            if datum[\"_id\"].lower().find(text) != -1 or datum[\"id\"].lower().find(text) != -1:\n",
      "                min_distance = i\n",
      "                break\n",
      "            for cat in datum[\"categories\"]:\n",
      "                if cat.lower().find(text) != -1:\n",
      "                    min_distance = i\n",
      "                    break\n",
      "            \n",
      "    if min_distance_index == -1 or min_distance == len(text) or min_distance == len(min_distance_word):\n",
      "        print(\"Could not be found\")\n",
      "    else:\n",
      "        if min_distance > 0:\n",
      "            display(HTML(\"\"\"\n",
      "            <span style=\"color: #333\">Did you mean </span> <b>%s</b> <span style=\"color: #333\">(%d edit%s)</span> ?\n",
      "            \"\"\" % (min_distance_word, min_distance, \"s\" if min_distance != 1 else \"\")))\n",
      "        return search_for_object(self, min_distance_index, topn=topn)"
     ],
     "language": "python",
     "metadata": {},
     "outputs": [],
     "prompt_number": 7
    },
    {
     "cell_type": "code",
     "collapsed": false,
     "input": [
      "search_with_text(model, \"burgerz\", levenshtein= True, topn=5)"
     ],
     "language": "python",
     "metadata": {},
     "outputs": [
      {
       "html": [
        "\n",
        "            <span style=\"color: #333\">Did you mean </span> <b>burgers</b> <span style=\"color: #333\">(1 edit)</span> ?\n",
        "            "
       ],
       "metadata": {},
       "output_type": "display_data",
       "text": [
        "<IPython.core.display.HTML at 0x164ef1590>"
       ]
      },
      {
       "html": [
        "\n",
        "    <div>\n",
        "        <h2>plum-burgers-seattle</h2>\n",
        "        <span style='color: #ca0814;'>$</span><span style='color: #e4e4e4;'>$$</span><br /> \n",
        "        <span style='color: #feea60;'>\u2605\u2605\u2605\u2605</span><span style='color: #e4e4e4;'>\u2605</span>\n",
        "        <span style='color:#333;font-size:9px'>397 words</span>\n",
        "        <br/>\n",
        "        <span style='color:#777:font-size:9px'>Categories: </span><span style='color:#333;font-size:13px'>burgers, vegan, foodtrucks</span>\n",
        "        <p style='width:450px'>. the kale was raw , dressed with a soy-ginger dressing , and quite tasty , though cut a bit large ( i had to tear several pieces up to</p>\n",
        "    </div>"
       ],
       "metadata": {},
       "output_type": "display_data",
       "text": [
        "<IPython.core.display.HTML at 0x114937390>"
       ]
      },
      {
       "html": [
        "\n",
        "    <div>\n",
        "        <h2>sunrice-seattle</h2>\n",
        "        <span style='color: #ca0814;'>$</span><span style='color: #e4e4e4;'>$$</span><br /> \n",
        "        <span style='color: #feea60;'>\u2605\u2605\u2605\u2605</span><span style='color: #e4e4e4;'>\u2605</span>\n",
        "        <span style='color:#333;font-size:9px'>4876 words</span>\n",
        "        <br/>\n",
        "        <span style='color:#777:font-size:9px'>Categories: </span><span style='color:#333;font-size:13px'>korean</span>\n",
        "        <p style='width:450px'>the food was outstanding with the appetizer being the only negative . here 's what we had- ahi poke - ... '' read more '' seattle , wa i 've</p>\n",
        "    </div>"
       ],
       "metadata": {},
       "output_type": "display_data",
       "text": [
        "<IPython.core.display.HTML at 0x10ff72a90>"
       ]
      },
      {
       "html": [
        "\n",
        "            <div>\n",
        "                <div style='background: rgb(221,222,223);width:102px;padding:1px;border-radius:2px'>\n",
        "                    <div style='height:20px; width:74px;padding-left:3px;background-color:rgb(71, 189, 249);font-size:9px;color:white'>\n",
        "                        75%\n",
        "                    </div>\n",
        "                </div>\n",
        "            </div>\n",
        "            "
       ],
       "metadata": {},
       "output_type": "display_data",
       "text": [
        "<IPython.core.display.HTML at 0x10ff72a90>"
       ]
      },
      {
       "html": [
        "\n",
        "    <div>\n",
        "        <h2>Shinn's Place</h2>\n",
        "        <span style='color: #ca0814;'>$</span><span style='color: #e4e4e4;'>$$</span><br /> \n",
        "        <span style='color: #feea60;'>\u2605\u2605\u2605\u2605</span><span style='color: #e4e4e4;'>\u2605</span>\n",
        "        <span style='color:#333;font-size:9px'>1068 words</span>\n",
        "        <br/>\n",
        "        <span style='color:#777:font-size:9px'>Categories: </span><span style='color:#333;font-size:13px'>korean, hotdogs</span>\n",
        "        <p style='width:450px'>on wednesdays .\\ `` \\ `` mushroom bibimbap with miso soup + friendly employees who greet ...\\ `` \\ `` the bibimbap was artfully arranged and had just the right</p>\n",
        "    </div>"
       ],
       "metadata": {},
       "output_type": "display_data",
       "text": [
        "<IPython.core.display.HTML at 0x10ff72a90>"
       ]
      },
      {
       "html": [
        "\n",
        "            <div>\n",
        "                <div style='background: rgb(221,222,223);width:102px;padding:1px;border-radius:2px'>\n",
        "                    <div style='height:20px; width:70px;padding-left:3px;background-color:rgb(71, 189, 249);font-size:9px;color:white'>\n",
        "                        71%\n",
        "                    </div>\n",
        "                </div>\n",
        "            </div>\n",
        "            "
       ],
       "metadata": {},
       "output_type": "display_data",
       "text": [
        "<IPython.core.display.HTML at 0x10ff72a90>"
       ]
      },
      {
       "html": [
        "\n",
        "    <div>\n",
        "        <h2>la-pasadita-seattle</h2>\n",
        "        <span style='color: #ca0814;'>$</span><span style='color: #e4e4e4;'>$$</span><br /> \n",
        "        <span style='color: #feea60;'>\u2605\u2605\u2605\u2605</span><span style='color: #e4e4e4;'>\u2605</span>\n",
        "        <span style='color:#333;font-size:9px'>5427 words</span>\n",
        "        <br/>\n",
        "        <span style='color:#777:font-size:9px'>Categories: </span><span style='color:#333;font-size:13px'>mexican, sandwiches, foodtrucks</span>\n",
        "        <p style='width:450px'>m . '' the spicy tacos were also delicious and the staff was super nice . '' '' it comes with 4 tacos , a lime and pickled carrots .</p>\n",
        "    </div>"
       ],
       "metadata": {},
       "output_type": "display_data",
       "text": [
        "<IPython.core.display.HTML at 0x10ff72a90>"
       ]
      },
      {
       "html": [
        "\n",
        "            <div>\n",
        "                <div style='background: rgb(221,222,223);width:102px;padding:1px;border-radius:2px'>\n",
        "                    <div style='height:20px; width:67px;padding-left:3px;background-color:rgb(71, 189, 249);font-size:9px;color:white'>\n",
        "                        68%\n",
        "                    </div>\n",
        "                </div>\n",
        "            </div>\n",
        "            "
       ],
       "metadata": {},
       "output_type": "display_data",
       "text": [
        "<IPython.core.display.HTML at 0x10ff72a90>"
       ]
      },
      {
       "html": [
        "\n",
        "    <div>\n",
        "        <h2>taqueria-la-fondita-2-seattle</h2>\n",
        "        <span style='color: #ca0814;'>$</span><span style='color: #e4e4e4;'>$$</span><br /> \n",
        "        <span style='color: #feea60;'>\u2605\u2605\u2605\u2605</span><span style='color: #e4e4e4;'>\u2605</span>\n",
        "        <span style='color:#333;font-size:9px'>4624 words</span>\n",
        "        <br/>\n",
        "        <span style='color:#777:font-size:9px'>Categories: </span><span style='color:#333;font-size:13px'>mexican, sandwiches, foodtrucks</span>\n",
        "        <p style='width:450px'>what taco truck god send is like . the meat flavor dominated the burrito like it should . a lot of burrito i 've had tasted mostly like refried beans</p>\n",
        "    </div>"
       ],
       "metadata": {},
       "output_type": "display_data",
       "text": [
        "<IPython.core.display.HTML at 0x10ff72a90>"
       ]
      },
      {
       "html": [
        "\n",
        "            <div>\n",
        "                <div style='background: rgb(221,222,223);width:102px;padding:1px;border-radius:2px'>\n",
        "                    <div style='height:20px; width:66px;padding-left:3px;background-color:rgb(71, 189, 249);font-size:9px;color:white'>\n",
        "                        66%\n",
        "                    </div>\n",
        "                </div>\n",
        "            </div>\n",
        "            "
       ],
       "metadata": {},
       "output_type": "display_data",
       "text": [
        "<IPython.core.display.HTML at 0x10ff72a90>"
       ]
      },
      {
       "html": [
        "\n",
        "    <div>\n",
        "        <h2>Plum Burgers</h2>\n",
        "        <span style='color: #ca0814;'>$</span><span style='color: #e4e4e4;'>$$</span><br /> \n",
        "        <span style='color: #feea60;'>\u2605\u2605\u2605\u2605</span><span style='color: #e4e4e4;'>\u2605</span>\n",
        "        <span style='color:#333;font-size:9px'>383 words</span>\n",
        "        <br/>\n",
        "        <span style='color:#777:font-size:9px'>Categories: </span><span style='color:#333;font-size:13px'>burgers, vegan, foodtrucks</span>\n",
        "        <p style='width:450px'>raw , dressed with a soy-ginger dressing , and quite tasty , though cut a bit large ( i had to tear several pieces up to get them to fit</p>\n",
        "    </div>"
       ],
       "metadata": {},
       "output_type": "display_data",
       "text": [
        "<IPython.core.display.HTML at 0x10ff72a90>"
       ]
      },
      {
       "html": [
        "\n",
        "            <div>\n",
        "                <div style='background: rgb(221,222,223);width:102px;padding:1px;border-radius:2px'>\n",
        "                    <div style='height:20px; width:66px;padding-left:3px;background-color:rgb(71, 189, 249);font-size:9px;color:white'>\n",
        "                        66%\n",
        "                    </div>\n",
        "                </div>\n",
        "            </div>\n",
        "            "
       ],
       "metadata": {},
       "output_type": "display_data",
       "text": [
        "<IPython.core.display.HTML at 0x10ff72a90>"
       ]
      }
     ],
     "prompt_number": 8
    },
    {
     "cell_type": "code",
     "collapsed": false,
     "input": [
      "search_with_text(model, \"chinese\", levenshtein= True, topn=5)"
     ],
     "language": "python",
     "metadata": {},
     "outputs": [
      {
       "html": [
        "\n",
        "    <div>\n",
        "        <h2>othello-wok-and-teriyaki-seattle</h2>\n",
        "        <span style='color: #ca0814;'>$$</span><span style='color: #e4e4e4;'>$</span><br /> \n",
        "        <span style='color: #feea60;'>\u2605\u2605\u2605\u2605</span><span style='color: #e4e4e4;'>\u2605</span>\n",
        "        <span style='color:#333;font-size:9px'>2008 words</span>\n",
        "        <br/>\n",
        "        <span style='color:#777:font-size:9px'>Categories: </span><span style='color:#333;font-size:13px'>chinese, japanese</span>\n",
        "        <p style='width:450px'>in bellevue . i tried the teppanyaki fillet mignon , the new york steak , the shrimp and the scallops . they were all good cooked and had a smooth</p>\n",
        "    </div>"
       ],
       "metadata": {},
       "output_type": "display_data",
       "text": [
        "<IPython.core.display.HTML at 0x15e231810>"
       ]
      },
      {
       "html": [
        "\n",
        "    <div>\n",
        "        <h2>Othello Wok and Teriyaki</h2>\n",
        "        <span style='color: #ca0814;'>$$</span><span style='color: #e4e4e4;'>$</span><br /> \n",
        "        <span style='color: #feea60;'>\u2605\u2605\u2605\u2605</span><span style='color: #e4e4e4;'>\u2605</span>\n",
        "        <span style='color:#333;font-size:9px'>2020 words</span>\n",
        "        <br/>\n",
        "        <span style='color:#777:font-size:9px'>Categories: </span><span style='color:#333;font-size:13px'>chinese, japanese</span>\n",
        "        <p style='width:450px'>teriyaki , seattle , wa by daren d . peter b . said `` read the reviews that said `` get the green onion pancake , `` came on in</p>\n",
        "    </div>"
       ],
       "metadata": {},
       "output_type": "display_data",
       "text": [
        "<IPython.core.display.HTML at 0x15e231810>"
       ]
      },
      {
       "html": [
        "\n",
        "            <div>\n",
        "                <div style='background: rgb(221,222,223);width:102px;padding:1px;border-radius:2px'>\n",
        "                    <div style='height:20px; width:87px;padding-left:3px;background-color:rgb(71, 189, 249);font-size:9px;color:white'>\n",
        "                        88%\n",
        "                    </div>\n",
        "                </div>\n",
        "            </div>\n",
        "            "
       ],
       "metadata": {},
       "output_type": "display_data",
       "text": [
        "<IPython.core.display.HTML at 0x15e231810>"
       ]
      },
      {
       "html": [
        "\n",
        "    <div>\n",
        "        <h2>new-teriyaki-seattle</h2>\n",
        "        <span style='color: #ca0814;'>$</span><span style='color: #e4e4e4;'>$$</span><br /> \n",
        "        <span style='color: #feea60;'>\u2605\u2605\u2605\u2605</span><span style='color: #e4e4e4;'>\u2605</span>\n",
        "        <span style='color:#333;font-size:9px'>2997 words</span>\n",
        "        <br/>\n",
        "        <span style='color:#777:font-size:9px'>Categories: </span><span style='color:#333;font-size:13px'>japanese, chinese</span>\n",
        "        <p style='width:450px'>super good too . '' '' i 've never gotten anything else because the teriyaki is so good . '' '' general tso chicken is hot & spicy but yummy</p>\n",
        "    </div>"
       ],
       "metadata": {},
       "output_type": "display_data",
       "text": [
        "<IPython.core.display.HTML at 0x15e231810>"
       ]
      },
      {
       "html": [
        "\n",
        "            <div>\n",
        "                <div style='background: rgb(221,222,223);width:102px;padding:1px;border-radius:2px'>\n",
        "                    <div style='height:20px; width:84px;padding-left:3px;background-color:rgb(71, 189, 249);font-size:9px;color:white'>\n",
        "                        85%\n",
        "                    </div>\n",
        "                </div>\n",
        "            </div>\n",
        "            "
       ],
       "metadata": {},
       "output_type": "display_data",
       "text": [
        "<IPython.core.display.HTML at 0x15e231810>"
       ]
      },
      {
       "html": [
        "\n",
        "    <div>\n",
        "        <h2>toshis-teriyaki-seattle-3</h2>\n",
        "        <span style='color: #ca0814;'>$$</span><span style='color: #e4e4e4;'>$</span><br /> \n",
        "        <span style='color: #feea60;'>\u2605\u2605</span><span style='color: #e4e4e4;'>\u2605\u2605\u2605</span>\n",
        "        <span style='color:#333;font-size:9px'>4818 words</span>\n",
        "        <br/>\n",
        "        <span style='color:#777:font-size:9px'>Categories: </span><span style='color:#333;font-size:13px'>japanese, chinese</span>\n",
        "        <p style='width:450px'>new addition to the broadway food scene . thai & sushi you say ? madness ! this means i can enjoy sushi while my boyfriend enjoys his favorite noodle dishes</p>\n",
        "    </div>"
       ],
       "metadata": {},
       "output_type": "display_data",
       "text": [
        "<IPython.core.display.HTML at 0x15e231810>"
       ]
      },
      {
       "html": [
        "\n",
        "            <div>\n",
        "                <div style='background: rgb(221,222,223);width:102px;padding:1px;border-radius:2px'>\n",
        "                    <div style='height:20px; width:83px;padding-left:3px;background-color:rgb(71, 189, 249);font-size:9px;color:white'>\n",
        "                        84%\n",
        "                    </div>\n",
        "                </div>\n",
        "            </div>\n",
        "            "
       ],
       "metadata": {},
       "output_type": "display_data",
       "text": [
        "<IPython.core.display.HTML at 0x15e231810>"
       ]
      },
      {
       "html": [
        "\n",
        "    <div>\n",
        "        <h2>Teriyaki Bowl</h2>\n",
        "        <span style='color: #ca0814;'>$</span><span style='color: #e4e4e4;'>$$</span><br /> \n",
        "        <span style='color: #feea60;'>\u2605\u2605\u2605\u2605</span><span style='color: #e4e4e4;'>\u2605</span>\n",
        "        <span style='color:#333;font-size:9px'>2153 words</span>\n",
        "        <br/>\n",
        "        <span style='color:#777:font-size:9px'>Categories: </span><span style='color:#333;font-size:13px'>chinese, japanese</span>\n",
        "        <p style='width:450px'>great food here . i usually order the chicken katsu curry , and it is the bomb . you wo n't be disappointed . was this review ... ? kirkland</p>\n",
        "    </div>"
       ],
       "metadata": {},
       "output_type": "display_data",
       "text": [
        "<IPython.core.display.HTML at 0x15e231810>"
       ]
      },
      {
       "html": [
        "\n",
        "            <div>\n",
        "                <div style='background: rgb(221,222,223);width:102px;padding:1px;border-radius:2px'>\n",
        "                    <div style='height:20px; width:83px;padding-left:3px;background-color:rgb(71, 189, 249);font-size:9px;color:white'>\n",
        "                        83%\n",
        "                    </div>\n",
        "                </div>\n",
        "            </div>\n",
        "            "
       ],
       "metadata": {},
       "output_type": "display_data",
       "text": [
        "<IPython.core.display.HTML at 0x15e231810>"
       ]
      },
      {
       "html": [
        "\n",
        "    <div>\n",
        "        <h2>Teriyaki Seven</h2>\n",
        "        <span style='color: #ca0814;'>$</span><span style='color: #e4e4e4;'>$$</span><br /> \n",
        "        <span style='color: #feea60;'>\u2605\u2605\u2605\u2605</span><span style='color: #e4e4e4;'>\u2605</span>\n",
        "        <span style='color:#333;font-size:9px'>2101 words</span>\n",
        "        <br/>\n",
        "        <span style='color:#777:font-size:9px'>Categories: </span><span style='color:#333;font-size:13px'>japanese, chinese</span>\n",
        "        <p style='width:450px'>to be eating it for , like , several days ? if so , this is your place . i was craving teriyaki a few weeks ago and searched yelp</p>\n",
        "    </div>"
       ],
       "metadata": {},
       "output_type": "display_data",
       "text": [
        "<IPython.core.display.HTML at 0x15e231810>"
       ]
      },
      {
       "html": [
        "\n",
        "            <div>\n",
        "                <div style='background: rgb(221,222,223);width:102px;padding:1px;border-radius:2px'>\n",
        "                    <div style='height:20px; width:80px;padding-left:3px;background-color:rgb(71, 189, 249);font-size:9px;color:white'>\n",
        "                        80%\n",
        "                    </div>\n",
        "                </div>\n",
        "            </div>\n",
        "            "
       ],
       "metadata": {},
       "output_type": "display_data",
       "text": [
        "<IPython.core.display.HTML at 0x15e231810>"
       ]
      }
     ],
     "prompt_number": 46
    },
    {
     "cell_type": "code",
     "collapsed": false,
     "input": [
      "for i, datum in enumerate(texts_data):\n",
      "    if datum[\"_id\"] == \"The Lemongrass\":\n",
      "        print(\"yes\", i)"
     ],
     "language": "python",
     "metadata": {},
     "outputs": [
      {
       "output_type": "stream",
       "stream": "stdout",
       "text": [
        "yes 1334\n"
       ]
      }
     ],
     "prompt_number": 8
    },
    {
     "cell_type": "code",
     "collapsed": false,
     "input": [
      "search_with_text(model, \"lemongrass\", levenshtein= True, topn=5)"
     ],
     "language": "python",
     "metadata": {},
     "outputs": [
      {
       "html": [
        "\n",
        "    <div>\n",
        "        <h2>The Lemongrass</h2>\n",
        "        <span style='color: #ca0814;'>$$$$</span><span style='color: #e4e4e4;'></span><br /> \n",
        "        <span style='color: #feea60;'>\u2605\u2605\u2605</span><span style='color: #e4e4e4;'>\u2605\u2605</span>\n",
        "        <span style='color:#333;font-size:9px'>1257 words</span>\n",
        "        <br/>\n",
        "        <span style='color:#777:font-size:9px'>Categories: </span><span style='color:#333;font-size:13px'>vietnamese</span>\n",
        "        <p style='width:450px'>looking for flavorful warms your heart filled with love goodness , than this is the place . they have an awesome selection of authentic vietnamese food . i had the</p>\n",
        "    </div>"
       ],
       "metadata": {},
       "output_type": "display_data",
       "text": [
        "<IPython.core.display.HTML at 0x15e231150>"
       ]
      },
      {
       "html": [
        "\n",
        "    <div>\n",
        "        <h2>Fremont 1AM</h2>\n",
        "        <span style='color: #ca0814;'>$$</span><span style='color: #e4e4e4;'>$</span><br /> \n",
        "        <span style='color: #feea60;'>\u2605\u2605\u2605</span><span style='color: #e4e4e4;'>\u2605\u2605</span>\n",
        "        <span style='color:#333;font-size:9px'>3925 words</span>\n",
        "        <br/>\n",
        "        <span style='color:#777:font-size:9px'>Categories: </span><span style='color:#333;font-size:13px'>vietnamese</span>\n",
        "        <p style='width:450px'>bowl pho ... despite their poorly chosen name . the tofu spring rolls are warm , full of noodles , and delicious . especially when smothered in their extra good</p>\n",
        "    </div>"
       ],
       "metadata": {},
       "output_type": "display_data",
       "text": [
        "<IPython.core.display.HTML at 0x15e231150>"
       ]
      },
      {
       "html": [
        "\n",
        "            <div>\n",
        "                <div style='background: rgb(221,222,223);width:102px;padding:1px;border-radius:2px'>\n",
        "                    <div style='height:20px; width:76px;padding-left:3px;background-color:rgb(71, 189, 249);font-size:9px;color:white'>\n",
        "                        76%\n",
        "                    </div>\n",
        "                </div>\n",
        "            </div>\n",
        "            "
       ],
       "metadata": {},
       "output_type": "display_data",
       "text": [
        "<IPython.core.display.HTML at 0x15e231150>"
       ]
      },
      {
       "html": [
        "\n",
        "    <div>\n",
        "        <h2>pho-vietnam-seattle</h2>\n",
        "        <span style='color: #ca0814;'>$</span><span style='color: #e4e4e4;'>$$</span><br /> \n",
        "        <span style='color: #feea60;'>\u2605\u2605\u2605</span><span style='color: #e4e4e4;'>\u2605\u2605</span>\n",
        "        <span style='color:#333;font-size:9px'>5447 words</span>\n",
        "        <br/>\n",
        "        <span style='color:#777:font-size:9px'>Categories: </span><span style='color:#333;font-size:13px'>vietnamese</span>\n",
        "        <p style='width:450px'>thai and the simple staples that you come to expect like fresh spring rolls are very good here . it 's everything that you want from simple thai food as</p>\n",
        "    </div>"
       ],
       "metadata": {},
       "output_type": "display_data",
       "text": [
        "<IPython.core.display.HTML at 0x15e231150>"
       ]
      },
      {
       "html": [
        "\n",
        "            <div>\n",
        "                <div style='background: rgb(221,222,223);width:102px;padding:1px;border-radius:2px'>\n",
        "                    <div style='height:20px; width:75px;padding-left:3px;background-color:rgb(71, 189, 249);font-size:9px;color:white'>\n",
        "                        75%\n",
        "                    </div>\n",
        "                </div>\n",
        "            </div>\n",
        "            "
       ],
       "metadata": {},
       "output_type": "display_data",
       "text": [
        "<IPython.core.display.HTML at 0x15e231150>"
       ]
      },
      {
       "html": [
        "\n",
        "    <div>\n",
        "        <h2>b\u00fan-vietnamese-creative-rice-noodles-seattle</h2>\n",
        "        <span style='color: #ca0814;'>$$</span><span style='color: #e4e4e4;'>$</span><br /> \n",
        "        <span style='color: #feea60;'>\u2605\u2605\u2605</span><span style='color: #e4e4e4;'>\u2605\u2605</span>\n",
        "        <span style='color:#333;font-size:9px'>7072 words</span>\n",
        "        <br/>\n",
        "        <span style='color:#777:font-size:9px'>Categories: </span><span style='color:#333;font-size:13px'>vietnamese</span>\n",
        "        <p style='width:450px'>at thanh vi features the freshest ... read more '' mountain view , ca i like that this place is clean compared to other vietnamese restaurants in the area .</p>\n",
        "    </div>"
       ],
       "metadata": {},
       "output_type": "display_data",
       "text": [
        "<IPython.core.display.HTML at 0x15e231150>"
       ]
      },
      {
       "html": [
        "\n",
        "            <div>\n",
        "                <div style='background: rgb(221,222,223);width:102px;padding:1px;border-radius:2px'>\n",
        "                    <div style='height:20px; width:75px;padding-left:3px;background-color:rgb(71, 189, 249);font-size:9px;color:white'>\n",
        "                        75%\n",
        "                    </div>\n",
        "                </div>\n",
        "            </div>\n",
        "            "
       ],
       "metadata": {},
       "output_type": "display_data",
       "text": [
        "<IPython.core.display.HTML at 0x15e231150>"
       ]
      },
      {
       "html": [
        "\n",
        "    <div>\n",
        "        <h2>fremont-1am-seattle</h2>\n",
        "        <span style='color: #ca0814;'>$$</span><span style='color: #e4e4e4;'>$</span><br /> \n",
        "        <span style='color: #feea60;'>\u2605\u2605\u2605</span><span style='color: #e4e4e4;'>\u2605\u2605</span>\n",
        "        <span style='color:#333;font-size:9px'>3985 words</span>\n",
        "        <br/>\n",
        "        <span style='color:#777:font-size:9px'>Categories: </span><span style='color:#333;font-size:13px'>vietnamese</span>\n",
        "        <p style='width:450px'>thai and the simple staples that you come to expect like fresh spring rolls are very good here . it 's everything that you want from simple thai food as</p>\n",
        "    </div>"
       ],
       "metadata": {},
       "output_type": "display_data",
       "text": [
        "<IPython.core.display.HTML at 0x15e231150>"
       ]
      },
      {
       "html": [
        "\n",
        "            <div>\n",
        "                <div style='background: rgb(221,222,223);width:102px;padding:1px;border-radius:2px'>\n",
        "                    <div style='height:20px; width:74px;padding-left:3px;background-color:rgb(71, 189, 249);font-size:9px;color:white'>\n",
        "                        75%\n",
        "                    </div>\n",
        "                </div>\n",
        "            </div>\n",
        "            "
       ],
       "metadata": {},
       "output_type": "display_data",
       "text": [
        "<IPython.core.display.HTML at 0x15e231150>"
       ]
      },
      {
       "html": [
        "\n",
        "    <div>\n",
        "        <h2>Pho Tien</h2>\n",
        "        <span style='color: #ca0814;'>$</span><span style='color: #e4e4e4;'>$$</span><br /> \n",
        "        <span style='color: #feea60;'>\u2605\u2605\u2605</span><span style='color: #e4e4e4;'>\u2605\u2605</span>\n",
        "        <span style='color:#333;font-size:9px'>247 words</span>\n",
        "        <br/>\n",
        "        <span style='color:#777:font-size:9px'>Categories: </span><span style='color:#333;font-size:13px'>vietnamese</span>\n",
        "        <p style='width:450px'>who comes in . today i took the pipster to lunch - started with egg roll and spring roll ( they were just ok ) . we got the lunch</p>\n",
        "    </div>"
       ],
       "metadata": {},
       "output_type": "display_data",
       "text": [
        "<IPython.core.display.HTML at 0x15e231150>"
       ]
      },
      {
       "html": [
        "\n",
        "            <div>\n",
        "                <div style='background: rgb(221,222,223);width:102px;padding:1px;border-radius:2px'>\n",
        "                    <div style='height:20px; width:74px;padding-left:3px;background-color:rgb(71, 189, 249);font-size:9px;color:white'>\n",
        "                        75%\n",
        "                    </div>\n",
        "                </div>\n",
        "            </div>\n",
        "            "
       ],
       "metadata": {},
       "output_type": "display_data",
       "text": [
        "<IPython.core.display.HTML at 0x15e231150>"
       ]
      }
     ],
     "prompt_number": 45
    },
    {
     "cell_type": "code",
     "collapsed": false,
     "input": [
      "search_with_text(model, \"spermarket\", levenshtein= True, topn=5)"
     ],
     "language": "python",
     "metadata": {},
     "outputs": [
      {
       "html": [
        "\n",
        "            <span style=\"color: #333\">Did you mean </span> <b>supermarket</b> <span style=\"color: #333\">(2 edits)</span> ?\n",
        "            "
       ],
       "metadata": {},
       "output_type": "display_data",
       "text": [
        "<IPython.core.display.HTML at 0x164ef1550>"
       ]
      },
      {
       "html": [
        "\n",
        "    <div>\n",
        "        <h2>Seafood City Supermarket</h2>\n",
        "        <span style='color: #ca0814;'>$$</span><span style='color: #e4e4e4;'>$</span><br /> \n",
        "        <span style='color: #feea60;'>\u2605\u2605\u2605\u2605</span><span style='color: #e4e4e4;'>\u2605</span>\n",
        "        <span style='color:#333;font-size:9px'>7768 words</span>\n",
        "        <br/>\n",
        "        <span style='color:#777:font-size:9px'>Categories: </span><span style='color:#333;font-size:13px'>filipino, grocery, seafoodmarkets</span>\n",
        "        <p style='width:450px'>p . seafood city supermarket , tukwila , wa by jill t . '' extensive selection if asian food , fresh fish and produce . '' '' when you walk</p>\n",
        "    </div>"
       ],
       "metadata": {},
       "output_type": "display_data",
       "text": [
        "<IPython.core.display.HTML at 0x10ff72b90>"
       ]
      },
      {
       "html": [
        "\n",
        "    <div>\n",
        "        <h2>seafood-city-supermarket-tukwila</h2>\n",
        "        <span style='color: #ca0814;'>$$</span><span style='color: #e4e4e4;'>$</span><br /> \n",
        "        <span style='color: #feea60;'>\u2605\u2605\u2605\u2605</span><span style='color: #e4e4e4;'>\u2605</span>\n",
        "        <span style='color:#333;font-size:9px'>7928 words</span>\n",
        "        <br/>\n",
        "        <span style='color:#777:font-size:9px'>Categories: </span><span style='color:#333;font-size:13px'>filipino, grocery, seafoodmarkets</span>\n",
        "        <p style='width:450px'>p . seafood city supermarket , tukwila , wa by jill t . '' extensive selection if asian food , fresh fish and produce . '' '' when you walk</p>\n",
        "    </div>"
       ],
       "metadata": {},
       "output_type": "display_data",
       "text": [
        "<IPython.core.display.HTML at 0x10ff72fd0>"
       ]
      },
      {
       "html": [
        "\n",
        "            <div>\n",
        "                <div style='background: rgb(221,222,223);width:102px;padding:1px;border-radius:2px'>\n",
        "                    <div style='height:20px; width:99px;padding-left:3px;background-color:rgb(71, 189, 249);font-size:9px;color:white'>\n",
        "                        99%\n",
        "                    </div>\n",
        "                </div>\n",
        "            </div>\n",
        "            "
       ],
       "metadata": {},
       "output_type": "display_data",
       "text": [
        "<IPython.core.display.HTML at 0x10ff72fd0>"
       ]
      },
      {
       "html": [
        "\n",
        "    <div>\n",
        "        <h2>Isla Manila Bar & Grill</h2>\n",
        "        <span style='color: #ca0814;'>$$</span><span style='color: #e4e4e4;'>$</span><br /> \n",
        "        <span style='color: #feea60;'>\u2605\u2605\u2605\u2605</span><span style='color: #e4e4e4;'>\u2605</span>\n",
        "        <span style='color:#333;font-size:9px'>9063 words</span>\n",
        "        <br/>\n",
        "        <span style='color:#777:font-size:9px'>Categories: </span><span style='color:#333;font-size:13px'>filipino</span>\n",
        "        <p style='width:450px'>... by b . j . '' so filipino dim sum is like heaven on earth . '' '' i also really enjoyed the lumpia and almost filled up on</p>\n",
        "    </div>"
       ],
       "metadata": {},
       "output_type": "display_data",
       "text": [
        "<IPython.core.display.HTML at 0x10ff72fd0>"
       ]
      },
      {
       "html": [
        "\n",
        "            <div>\n",
        "                <div style='background: rgb(221,222,223);width:102px;padding:1px;border-radius:2px'>\n",
        "                    <div style='height:20px; width:77px;padding-left:3px;background-color:rgb(71, 189, 249);font-size:9px;color:white'>\n",
        "                        77%\n",
        "                    </div>\n",
        "                </div>\n",
        "            </div>\n",
        "            "
       ],
       "metadata": {},
       "output_type": "display_data",
       "text": [
        "<IPython.core.display.HTML at 0x10ff72fd0>"
       ]
      },
      {
       "html": [
        "\n",
        "    <div>\n",
        "        <h2>trident-seafoods-seattle</h2>\n",
        "        <span style='color: #ca0814;'>$</span><span style='color: #e4e4e4;'>$$</span><br /> \n",
        "        <span style='color: #feea60;'>\u2605\u2605\u2605\u2605</span><span style='color: #e4e4e4;'>\u2605</span>\n",
        "        <span style='color:#333;font-size:9px'>4914 words</span>\n",
        "        <br/>\n",
        "        <span style='color:#777:font-size:9px'>Categories: </span><span style='color:#333;font-size:13px'>seafood, seafoodmarkets</span>\n",
        "        <p style='width:450px'>on which smoked salmon i wanted . i asked a lot of questions and lo was super duper helpful , patient and friendly . he guided me to the smoked</p>\n",
        "    </div>"
       ],
       "metadata": {},
       "output_type": "display_data",
       "text": [
        "<IPython.core.display.HTML at 0x10ff72fd0>"
       ]
      },
      {
       "html": [
        "\n",
        "            <div>\n",
        "                <div style='background: rgb(221,222,223);width:102px;padding:1px;border-radius:2px'>\n",
        "                    <div style='height:20px; width:75px;padding-left:3px;background-color:rgb(71, 189, 249);font-size:9px;color:white'>\n",
        "                        75%\n",
        "                    </div>\n",
        "                </div>\n",
        "            </div>\n",
        "            "
       ],
       "metadata": {},
       "output_type": "display_data",
       "text": [
        "<IPython.core.display.HTML at 0x10ff72fd0>"
       ]
      },
      {
       "html": [
        "\n",
        "    <div>\n",
        "        <h2>isla-manila-bar-and-grill-seattle</h2>\n",
        "        <span style='color: #ca0814;'>$$</span><span style='color: #e4e4e4;'>$</span><br /> \n",
        "        <span style='color: #feea60;'>\u2605\u2605\u2605\u2605</span><span style='color: #e4e4e4;'>\u2605</span>\n",
        "        <span style='color:#333;font-size:9px'>9384 words</span>\n",
        "        <br/>\n",
        "        <span style='color:#777:font-size:9px'>Categories: </span><span style='color:#333;font-size:13px'>filipino</span>\n",
        "        <p style='width:450px'>been , i will be the happiest person . chan seattle did not disappoint in that respect . i finally made it to the restaurant on christmas eve to start</p>\n",
        "    </div>"
       ],
       "metadata": {},
       "output_type": "display_data",
       "text": [
        "<IPython.core.display.HTML at 0x10ff72fd0>"
       ]
      },
      {
       "html": [
        "\n",
        "            <div>\n",
        "                <div style='background: rgb(221,222,223);width:102px;padding:1px;border-radius:2px'>\n",
        "                    <div style='height:20px; width:74px;padding-left:3px;background-color:rgb(71, 189, 249);font-size:9px;color:white'>\n",
        "                        75%\n",
        "                    </div>\n",
        "                </div>\n",
        "            </div>\n",
        "            "
       ],
       "metadata": {},
       "output_type": "display_data",
       "text": [
        "<IPython.core.display.HTML at 0x10ff72fd0>"
       ]
      },
      {
       "html": [
        "\n",
        "    <div>\n",
        "        <h2>Trident Seafoods</h2>\n",
        "        <span style='color: #ca0814;'>$</span><span style='color: #e4e4e4;'>$$</span><br /> \n",
        "        <span style='color: #feea60;'>\u2605\u2605\u2605\u2605</span><span style='color: #e4e4e4;'>\u2605</span>\n",
        "        <span style='color:#333;font-size:9px'>4914 words</span>\n",
        "        <br/>\n",
        "        <span style='color:#777:font-size:9px'>Categories: </span><span style='color:#333;font-size:13px'>seafood, seafoodmarkets</span>\n",
        "        <p style='width:450px'>on which smoked salmon i wanted . i asked a lot of questions and lo was super duper helpful , patient and friendly . he guided me to the smoked</p>\n",
        "    </div>"
       ],
       "metadata": {},
       "output_type": "display_data",
       "text": [
        "<IPython.core.display.HTML at 0x10ff72fd0>"
       ]
      },
      {
       "html": [
        "\n",
        "            <div>\n",
        "                <div style='background: rgb(221,222,223);width:102px;padding:1px;border-radius:2px'>\n",
        "                    <div style='height:20px; width:73px;padding-left:3px;background-color:rgb(71, 189, 249);font-size:9px;color:white'>\n",
        "                        74%\n",
        "                    </div>\n",
        "                </div>\n",
        "            </div>\n",
        "            "
       ],
       "metadata": {},
       "output_type": "display_data",
       "text": [
        "<IPython.core.display.HTML at 0x10ff72fd0>"
       ]
      }
     ],
     "prompt_number": 9
    },
    {
     "cell_type": "code",
     "collapsed": false,
     "input": [],
     "language": "python",
     "metadata": {},
     "outputs": []
    }
   ],
   "metadata": {}
  }
 ]
}