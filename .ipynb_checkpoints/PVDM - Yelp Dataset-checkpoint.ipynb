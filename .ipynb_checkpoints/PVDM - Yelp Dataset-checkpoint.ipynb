{
 "metadata": {
  "name": "",
  "signature": "sha256:319283e5cc8bf297b84b90351a87b9c0f5025edad49887e533b2477acac7fc9c"
 },
 "nbformat": 3,
 "nbformat_minor": 0,
 "worksheets": [
  {
   "cells": [
    {
     "cell_type": "markdown",
     "metadata": {},
     "source": [
      "PVDM approach for Yelp\n",
      "======================\n",
      "\n",
      "To enable PVDM reading of Yelp articles we train a vector for each and then we will display the nearest neighbors for each restaurant in a clickable fashion."
     ]
    },
    {
     "cell_type": "code",
     "collapsed": false,
     "input": [
      "%load_ext autoreload\n",
      "%matplotlib inline\n",
      "%autoreload 2\n",
      "%config InlineBackend.figure_format = 'svg'\n",
      "import numpy as np, utils\n",
      "from matplotlib import pyplot as plt\n",
      "from pvdm import PVDM, Paragraph\n",
      "from tsne import bh_sne\n"
     ],
     "language": "python",
     "metadata": {},
     "outputs": [
      {
       "output_type": "stream",
       "stream": "stdout",
       "text": [
        "The autoreload extension is already loaded. To reload it, use:\n",
        "  %reload_ext autoreload\n"
       ]
      }
     ],
     "prompt_number": 33
    },
    {
     "cell_type": "code",
     "collapsed": false,
     "input": [
      "def restaurant_saved_text_preprocess(text):\n",
      "    \"\"\"\n",
      "    Isolate sentences into words and groups them into a single stream.\n",
      "    \"\"\"\n",
      "    \n",
      "    text = text.replace(\"Copyright \u00a9 2004-2014 Yelp Inc. Yelp, , and related marks are registered trademarks of Yelp.\", \"\").replace(\"Was this review ...?\", \"\").replace(\"This user has arrived from Qype, the newest addition to the Yelp family. The Yelp & Qype engineering team is hard at work integrating the two sites, so stay tuned! Thanks for your patience.\", \"\")\n",
      "    text = re.sub(\"([.,!?;])([0-9a-zA-Z])\", \"\\g<1> \\g<2>\", re.sub(\"([0-9a-zA-Z])([.,!?;])\", \"\\g<1> \\g<2>\", text))\n",
      "    \n",
      "    words = [word for line in to_raw_text(text) for word in line]\n",
      "    words = (\" \".join(words).lower()).split()\n",
      "    text = \" \".join(words)\n",
      "    \n",
      "    for phrase in [\"claim this business\", \"[ edit ]\", \"edit business info\"]:\n",
      "        phrase_pos = text.find(phrase)\n",
      "        if phrase_pos != -1:\n",
      "            words = text[phrase_pos + len(phrase):].split()\n",
      "            text = \" \".join(words)\n",
      "    \n",
      "    return words\n",
      "\n",
      "def get_some_restaurants(num = 1000, collection_name = \"restaurants\", min_words = 0):\n",
      "    texts_set = set()\n",
      "    texts = []\n",
      "    texts_data = []\n",
      "    mongo_database_global = utils.mongo_database_global\n",
      "    collection = mongo_database_global[collection_name]\n",
      "    for index, post in enumerate(collection.find({}, {'categories': 1, 'saved_text': 1, \"_id\": 1, \"id\": 1, \"price\": 1, \"rating\": 1})):\n",
      "        para = restaurant_saved_text_preprocess(post.get(\"saved_text\"))\n",
      "        if len(para) > min_words:\n",
      "            para_line = \" \".join(para)\n",
      "            if para_line not in texts_set:\n",
      "                texts.append(para)\n",
      "                texts_data.append({'categories': post.get('categories'), \"_id\": post.get(\"_id\"), \"id\":post.get(\"id\"), \"price\":post.get(\"price\"), \"rating\": post.get(\"rating\")})\n",
      "                texts_set.add(para_line)\n",
      "            if index > num:\n",
      "                break\n",
      "    return (texts, texts_data)\n",
      "\n",
      "from math import ceil\n",
      "\n",
      "def rating_to_string(rating):\n",
      "    return \"\" + (int(rating) * \"\u2605\")\n",
      "\n",
      "def present_restaurant(restaurant, text=None):\n",
      "    if text is None:\n",
      "        text = restaurant.get(\"saved_text\").split(\" \")\n",
      "    \n",
      "    display(HTML(\"\"\"\n",
      "    <div>\n",
      "        <h2>%s</h2>\n",
      "        <span style='color: #ca0814;'>%s</span><span style='color: #e4e4e4;'>%s</span><br /> \n",
      "        <span style='color: #feea60;'>%s</span><span style='color: #e4e4e4;'>%s</span>\n",
      "        <span style='color:#333;font-size:9px'>%d words</span>\n",
      "        <br/>\n",
      "        <span style='color:#777:font-size:9px'>Categories: </span><span style='color:#333;font-size:13px'>%s</span>\n",
      "        <p style='width:450px'>%s</p>\n",
      "    </div>\"\"\" % (\n",
      "        restaurant.get(\"_id\"),\n",
      "        restaurant.get(\"price\"),\n",
      "        \"$\" * (3-len(restaurant.get(\"price\"))),\n",
      "        rating_to_string(restaurant.get(\"rating\")),\n",
      "        rating_to_string(ceil(5 - restaurant.get(\"rating\"))),\n",
      "        len(text),\n",
      "        \", \".join(restaurant.get('categories')),\n",
      "        \" \".join(text[20:50])\n",
      "    )\n",
      "    ))\n",
      "    \n",
      "def get_restaurant_index(dataset, restaurant):\n",
      "    for i, res in enumerate(dataset):\n",
      "        if res[\"_id\"] == restaurant[\"_id\"]:\n",
      "            break\n",
      "    return i\n",
      "\n",
      "def search_and_match(dataset, texts_dataset, restaurant_contains_text):\n",
      "    \n",
      "    mongo_database_global = utils.mongo_database_global\n",
      "    collection = mongo_database_global[\"restaurants\"]\n",
      "    \n",
      "    matching_restaurant = collection.find_one({\"_id\": {\"$regex\": restaurant_contains_text}})\n",
      "    \n",
      "    if matching_restaurant:\n",
      "        display(HTML(\"\"\"<h1>Search Results <small>for </small></h1>\"\"\"))\n",
      "        \n",
      "        # now we find the index of the searched restaurant:\n",
      "        matching_restaurant_index = get_restaurant_index(dataset, matching_restaurant)\n",
      "        \n",
      "        # show the restaurant\n",
      "        present_restaurant(matching_restaurant, text = texts_dataset[matching_restaurant_index])\n",
      "        \n",
      "       \n",
      "        display(HTML(\"<hr/>\"))\n",
      "        \n",
      "        assert(matching_restaurant[\"_id\"] == texts_data[matching_restaurant_index][\"_id\"]), \"Does not match information in DB\"\n",
      "        \n",
      "        for result in pvdm.most_similar_paragraph(pvdm.index2paragraph[matching_restaurant_index]):\n",
      "            print(dataset[result[2]])\n",
      "            present_restaurant(dataset[result[2]], text = texts_dataset[result[2]])\n",
      "            display(HTML(\"\"\"\n",
      "            <div>\n",
      "                <div style='background: rgb(221,222,223);width:102px;padding:1px;border-radius:2px'>\n",
      "                    <div style='height:20px; width:%dpx;padding-left:3px;background-color:rgb(71, 189, 249);font-size:9px;color:white'>\n",
      "                        %.0f%%\n",
      "                    </div>\n",
      "                </div>\n",
      "            </div>\n",
      "            \"\"\" % (int(result[1] * 100), result[1] * 100)))\n",
      "    else:\n",
      "        print(\"No matching restaurants\")"
     ],
     "language": "python",
     "metadata": {},
     "outputs": [],
     "prompt_number": 28
    },
    {
     "cell_type": "code",
     "collapsed": false,
     "input": [
      "pvdm = PVDM(\n",
      "    concatenate = True,\n",
      "    random_window = False,\n",
      "    workers = 8,\n",
      "    min_count = 20, # minimun appearance of words to be in vocabulary (modeled)\n",
      "    window = 10, # size of sentences considered in this model\n",
      "    batchsize = 1000, # number of paragraphs seen jointly,\n",
      "    paragraph_size=400, # dimensionality of vector used to represent paragraphs\n",
      "    decay = False,\n",
      "    size = 200, # dimensionality of word vectors,\n",
      "    alpha = 0.035,\n",
      "    symmetric_window = False, #whether hierarchical softmax task deals with final word or center word\n",
      "    self_predict= False # whether word to be predicted can help his own case (e.g. \"should I pick A | A should be picked?\"\n",
      ")"
     ],
     "language": "python",
     "metadata": {},
     "outputs": [],
     "prompt_number": 4
    },
    {
     "cell_type": "markdown",
     "metadata": {},
     "source": [
      "Now we need to create a vocabulary / a training set to go on for Yelp"
     ]
    },
    {
     "cell_type": "code",
     "collapsed": false,
     "input": [
      "utils.connect_to_database(database_name = 'yelp')"
     ],
     "language": "python",
     "metadata": {},
     "outputs": [],
     "prompt_number": 6
    },
    {
     "cell_type": "code",
     "collapsed": false,
     "input": [
      "texts, texts_data = utils.get_some_restaurants(10000, min_words = 400)"
     ],
     "language": "python",
     "metadata": {},
     "outputs": [],
     "prompt_number": 7
    },
    {
     "cell_type": "code",
     "collapsed": false,
     "input": [
      "pvdm.build_vocab(texts, oov_word = True)"
     ],
     "language": "python",
     "metadata": {},
     "outputs": [],
     "prompt_number": 8
    },
    {
     "cell_type": "markdown",
     "metadata": {},
     "source": [
      "Now we train the PV-DM using gradient descent on the bytes missed during hierachical softmax:"
     ]
    },
    {
     "cell_type": "code",
     "collapsed": false,
     "input": [
      "# a push-button fitting function for the words:\n",
      "pvdm.fit(texts)"
     ],
     "language": "python",
     "metadata": {},
     "outputs": [
      {
       "output_type": "stream",
       "stream": "stdout",
       "text": [
        "Epoch 0: error 974034.477, alpha = 0.03500\n",
        "Epoch 1: error 844380.125, alpha = 0.03465"
       ]
      },
      {
       "output_type": "stream",
       "stream": "stdout",
       "text": [
        "\n",
        "Epoch 2: error 770422.688, alpha = 0.03429"
       ]
      },
      {
       "output_type": "stream",
       "stream": "stdout",
       "text": [
        "\n",
        "Epoch 3: error 719922.512, alpha = 0.03394"
       ]
      },
      {
       "output_type": "stream",
       "stream": "stdout",
       "text": [
        "\n",
        "Epoch 4: error 686148.406, alpha = 0.03359"
       ]
      },
      {
       "output_type": "stream",
       "stream": "stdout",
       "text": [
        "\n",
        "Epoch 5: error 589247.646, alpha = 0.03323"
       ]
      },
      {
       "output_type": "stream",
       "stream": "stdout",
       "text": [
        "\n",
        "Epoch 6: error 197181.802, alpha = 0.03288"
       ]
      },
      {
       "output_type": "stream",
       "stream": "stdout",
       "text": [
        "\n",
        "Epoch 7: error 86410.240, alpha = 0.03253"
       ]
      },
      {
       "output_type": "stream",
       "stream": "stdout",
       "text": [
        "\n",
        "Epoch 8: error 52498.513, alpha = 0.03217"
       ]
      },
      {
       "output_type": "stream",
       "stream": "stdout",
       "text": [
        "\n",
        "Epoch 9: error 37119.472, alpha = 0.03182"
       ]
      },
      {
       "output_type": "stream",
       "stream": "stdout",
       "text": [
        "\n",
        "Epoch 10: error 28381.794, alpha = 0.03146"
       ]
      },
      {
       "output_type": "stream",
       "stream": "stdout",
       "text": [
        "\n",
        "Epoch 11: error 23312.903, alpha = 0.03111"
       ]
      },
      {
       "output_type": "stream",
       "stream": "stdout",
       "text": [
        "\n",
        "Epoch 12: error 19536.353, alpha = 0.03076"
       ]
      },
      {
       "output_type": "stream",
       "stream": "stdout",
       "text": [
        "\n",
        "Epoch 13: error 17047.216, alpha = 0.03040"
       ]
      },
      {
       "output_type": "stream",
       "stream": "stdout",
       "text": [
        "\n",
        "Epoch 14: error 15035.275, alpha = 0.03005"
       ]
      },
      {
       "output_type": "stream",
       "stream": "stdout",
       "text": [
        "\n",
        "Epoch 15: error 13725.890, alpha = 0.02970"
       ]
      },
      {
       "output_type": "stream",
       "stream": "stdout",
       "text": [
        "\n",
        "Epoch 16: error 12227.984, alpha = 0.02934"
       ]
      },
      {
       "output_type": "stream",
       "stream": "stdout",
       "text": [
        "\n",
        "Epoch 17: error 10979.366, alpha = 0.02899"
       ]
      },
      {
       "output_type": "stream",
       "stream": "stdout",
       "text": [
        "\n",
        "Epoch 18: error 10363.796, alpha = 0.02864"
       ]
      },
      {
       "output_type": "stream",
       "stream": "stdout",
       "text": [
        "\n",
        "Epoch 19: error 9791.862, alpha = 0.02828"
       ]
      },
      {
       "output_type": "stream",
       "stream": "stdout",
       "text": [
        "\n",
        "Epoch 20: error 9209.454, alpha = 0.02793"
       ]
      },
      {
       "output_type": "stream",
       "stream": "stdout",
       "text": [
        "\n",
        "Epoch 21: error 8471.591, alpha = 0.02758"
       ]
      },
      {
       "output_type": "stream",
       "stream": "stdout",
       "text": [
        "\n",
        "Epoch 22: error 7861.216, alpha = 0.02722"
       ]
      },
      {
       "output_type": "stream",
       "stream": "stdout",
       "text": [
        "\n",
        "Epoch 23: error 7731.024, alpha = 0.02687"
       ]
      },
      {
       "output_type": "stream",
       "stream": "stdout",
       "text": [
        "\n",
        "Epoch 24: error 7082.562, alpha = 0.02652"
       ]
      },
      {
       "output_type": "stream",
       "stream": "stdout",
       "text": [
        "\n",
        "Epoch 25: error 6960.186, alpha = 0.02616"
       ]
      },
      {
       "output_type": "stream",
       "stream": "stdout",
       "text": [
        "\n",
        "Epoch 26: error 6732.446, alpha = 0.02581"
       ]
      },
      {
       "output_type": "stream",
       "stream": "stdout",
       "text": [
        "\n",
        "Epoch 27: error 6405.961, alpha = 0.02545"
       ]
      },
      {
       "output_type": "stream",
       "stream": "stdout",
       "text": [
        "\n",
        "Epoch 28: error 6061.623, alpha = 0.02510"
       ]
      },
      {
       "output_type": "stream",
       "stream": "stdout",
       "text": [
        "\n",
        "Epoch 29: error 5888.228, alpha = 0.02475"
       ]
      },
      {
       "output_type": "stream",
       "stream": "stdout",
       "text": [
        "\n",
        "Epoch 30: error 5812.328, alpha = 0.02439"
       ]
      },
      {
       "output_type": "stream",
       "stream": "stdout",
       "text": [
        "\n",
        "Epoch 31: error 5531.343, alpha = 0.02404"
       ]
      },
      {
       "output_type": "stream",
       "stream": "stdout",
       "text": [
        "\n",
        "Epoch 32: error 5307.116, alpha = 0.02369"
       ]
      },
      {
       "output_type": "stream",
       "stream": "stdout",
       "text": [
        "\n",
        "Epoch 33: error 5058.196, alpha = 0.02333"
       ]
      },
      {
       "output_type": "stream",
       "stream": "stdout",
       "text": [
        "\n",
        "Epoch 34: error 5005.608, alpha = 0.02298"
       ]
      },
      {
       "output_type": "stream",
       "stream": "stdout",
       "text": [
        "\n",
        "Epoch 35: error 4808.189, alpha = 0.02263"
       ]
      },
      {
       "output_type": "stream",
       "stream": "stdout",
       "text": [
        "\n",
        "Epoch 36: error 4691.510, alpha = 0.02227"
       ]
      },
      {
       "output_type": "stream",
       "stream": "stdout",
       "text": [
        "\n",
        "Epoch 37: error 4688.030, alpha = 0.02192"
       ]
      },
      {
       "output_type": "stream",
       "stream": "stdout",
       "text": [
        "\n",
        "Epoch 38: error 4545.288, alpha = 0.02157"
       ]
      },
      {
       "output_type": "stream",
       "stream": "stdout",
       "text": [
        "\n",
        "Epoch 39: error 4566.900, alpha = 0.02121"
       ]
      },
      {
       "output_type": "stream",
       "stream": "stdout",
       "text": [
        "\n",
        "==> Increasing batch size to 500 \n",
        "Epoch 40: error 5703.359, alpha = 0.02086"
       ]
      },
      {
       "output_type": "stream",
       "stream": "stdout",
       "text": [
        "\n",
        "Epoch 41: error 5525.459, alpha = 0.02051"
       ]
      },
      {
       "output_type": "stream",
       "stream": "stdout",
       "text": [
        "\n",
        "Epoch 42: error 5252.645, alpha = 0.02015"
       ]
      },
      {
       "output_type": "stream",
       "stream": "stdout",
       "text": [
        "\n",
        "Epoch 43: error 5421.578, alpha = 0.01980"
       ]
      },
      {
       "output_type": "stream",
       "stream": "stdout",
       "text": [
        "\n"
       ]
      },
      {
       "metadata": {},
       "output_type": "pyout",
       "prompt_number": 9,
       "text": [
        "[974034.4765625,\n",
        " 844380.125,\n",
        " 770422.6875,\n",
        " 719922.51171875,\n",
        " 686148.40625,\n",
        " 589247.646484375,\n",
        " 197181.8017578125,\n",
        " 86410.23974609375,\n",
        " 52498.51318359375,\n",
        " 37119.4716796875,\n",
        " 28381.794189453125,\n",
        " 23312.903442382812,\n",
        " 19536.352661132812,\n",
        " 17047.215576171875,\n",
        " 15035.274658203125,\n",
        " 13725.889526367188,\n",
        " 12227.984191894531,\n",
        " 10979.366271972656,\n",
        " 10363.796325683594,\n",
        " 9791.862060546875,\n",
        " 9209.4541015625,\n",
        " 8471.5914306640625,\n",
        " 7861.2156982421875,\n",
        " 7731.0244750976562,\n",
        " 7082.562255859375,\n",
        " 6960.18603515625,\n",
        " 6732.4463500976562,\n",
        " 6405.9605712890625,\n",
        " 6061.6233520507812,\n",
        " 5888.227783203125,\n",
        " 5812.3275756835938,\n",
        " 5531.3432922363281,\n",
        " 5307.1156311035156,\n",
        " 5058.1963195800781,\n",
        " 5005.6082763671875,\n",
        " 4808.1894836425781,\n",
        " 4691.510498046875,\n",
        " 4688.02978515625,\n",
        " 4545.2883605957031,\n",
        " 4566.9000244140625,\n",
        " 5703.3587036132812,\n",
        " 5525.4589538574219,\n",
        " 5252.6452026367188,\n",
        " 5421.5783996582031]"
       ]
      }
     ],
     "prompt_number": 9
    },
    {
     "cell_type": "code",
     "collapsed": false,
     "input": [
      "# then we force more updates to the paragraphs by allowing more mistakes on batch size increases\n",
      "pvdm.batchsize = 500\n",
      "alpha = 0.035\n",
      "epochs = 300\n",
      "retraining_errors = []\n",
      "try:\n",
      "    for epoch in range(epochs):\n",
      "        pvdm.alpha = max(0.0001, alpha * (1  - 1.0 * epoch / (epochs-1)))\n",
      "        words, error = pvdm.train(texts, paragraphs_only=False)\n",
      "        print(\"Epoch %d: error %.3f, alpha = %.5f, batchsize = %d\" % (epoch, error, pvdm.alpha, pvdm.batchsize))\n",
      "        pvdm.batchsize = min(pvdm.batchsize + 50, 1000)\n",
      "        if error < 5:\n",
      "            break\n",
      "        if epoch > 0 and error > retraining_errors[-1]:\n",
      "            retraining_errors.append(error)\n",
      "        else:\n",
      "            retraining_errors.append(error)\n",
      "except KeyboardInterrupt:\n",
      "    print(\"Epoch %d: error %.3f, alpha = %.5f, batchsize = %d\" % (epoch, error, pvdm.alpha, pvdm.batchsize))"
     ],
     "language": "python",
     "metadata": {},
     "outputs": []
    },
    {
     "cell_type": "markdown",
     "metadata": {},
     "source": [
      "We can also force a retraining of paragrapsh:"
     ]
    },
    {
     "cell_type": "code",
     "collapsed": false,
     "input": [
      "alpha = 0.001\n",
      "epochs = 300\n",
      "retraining_errors = []\n",
      "try:\n",
      "    for epoch in range(epochs):\n",
      "        pvdm.alpha = max(0.00001, alpha * (1  - 1.0 * epoch / (epochs-1)))\n",
      "        words, error = pvdm.train(texts, paragraphs_only=True)\n",
      "        print(\"Epoch %d: error %.3f, alpha = %.5f\" % (epoch, error, pvdm.alpha))\n",
      "        if error < 5:\n",
      "            break\n",
      "        if epoch > 0 and error > retraining_errors[-1]:\n",
      "            retraining_errors.append(error)\n",
      "        else:\n",
      "            retraining_errors.append(error)\n",
      "except KeyboardInterrupt:\n",
      "    print(\"Epoch %d: error %.3f, alpha = %.5f\" % (epoch, error, pvdm.alpha))"
     ],
     "language": "python",
     "metadata": {},
     "outputs": [
      {
       "output_type": "stream",
       "stream": "stdout",
       "text": [
        "Epoch 0: error 210611.275, alpha = 0.00100\n",
        "Epoch 1: error 212130.543, alpha = 0.00100"
       ]
      },
      {
       "output_type": "stream",
       "stream": "stdout",
       "text": [
        "\n",
        "Epoch 2: error 210917.770, alpha = 0.00099"
       ]
      }
     ]
    },
    {
     "cell_type": "code",
     "collapsed": false,
     "input": [
      "def create_test_paragraph_vector(model, sentence):\n",
      "    words = [word for line in to_raw_text(sentence) for word in line]\n",
      "    words = (\" \".join(words).lower()).split()\n",
      "    paragraph_vocab = {}\n",
      "    # create a vocab word:\n",
      "    p = Paragraph()\n",
      "    p.index = len(paragraph_vocab)\n",
      "    # add this single word to the vocab:\n",
      "    paragraph_vocab[\" \".join(words)] = p\n",
      "    paragraphs = (np.random.randn(len(paragraph_vocab), model.paragraph_size) * 1.0 / model.paragraph_size).astype(dtype=np.float32)\n",
      "    \n",
      "    return ([words], paragraph_vocab, paragraphs)"
     ],
     "language": "python",
     "metadata": {},
     "outputs": [],
     "prompt_number": 43
    },
    {
     "cell_type": "code",
     "collapsed": false,
     "input": [
      "test_sentences, para_vocab_test, paragraphs_test = create_test_paragraph_vector(pvdm, \"I want really good thai food to eat with chopsticks and spicy sauces.\")"
     ],
     "language": "python",
     "metadata": {},
     "outputs": [],
     "prompt_number": 44
    },
    {
     "cell_type": "code",
     "collapsed": false,
     "input": [
      "def test_for_sent(model, sentence, epochs = 100):\n",
      "    test_sentences, para_vocab_test, paragraphs_test = create_test_paragraph_vector(model, sentence)\n",
      "    for i in range(epochs):\n",
      "        num_words, error = model.train(test_sentences, paragraphs=paragraphs_test, vocab=para_vocab_test, paragraphs_only=True)\n",
      "    return paragraphs_test[0]"
     ],
     "language": "python",
     "metadata": {},
     "outputs": [],
     "prompt_number": 63
    },
    {
     "cell_type": "code",
     "collapsed": false,
     "input": [
      "search_and_match(texts_data, texts, \"Pho\")"
     ],
     "language": "python",
     "metadata": {},
     "outputs": [
      {
       "html": [
        "<h1>Search Results <small>for </small></h1>"
       ],
       "metadata": {},
       "output_type": "display_data",
       "text": [
        "<IPython.core.display.HTML at 0x15f9cd0d0>"
       ]
      },
      {
       "html": [
        "\n",
        "    <div>\n",
        "        <h2>Bol Pho Bistro</h2>\n",
        "        <span style='color: #ca0814;'>$$</span><span style='color: #e4e4e4;'>$</span><br /> \n",
        "        <span style='color: #feea60;'>\u2605\u2605\u2605\u2605</span><span style='color: #e4e4e4;'>\u2605</span>\n",
        "        <span style='color:#333;font-size:9px'>5107 words</span>\n",
        "        <br/>\n",
        "        <span style='color:#777:font-size:9px'>Categories: </span><span style='color:#333;font-size:13px'>vietnamese</span>\n",
        "        <p style='width:450px'>in the wall or the super fancy , break-the-bank , high-end experience . this one falls comfortably and deliciously between the two . entrees were in the $ 9-12 range</p>\n",
        "    </div>"
       ],
       "metadata": {},
       "output_type": "display_data",
       "text": [
        "<IPython.core.display.HTML at 0x15f9cd0d0>"
       ]
      },
      {
       "html": [
        "<hr/>"
       ],
       "metadata": {},
       "output_type": "display_data",
       "text": [
        "<IPython.core.display.HTML at 0x15f9cd0d0>"
       ]
      },
      {
       "output_type": "stream",
       "stream": "stdout",
       "text": [
        "{'rating': 3.5, 'price': '$$', '_id': 'Heidelberg Haus', 'id': 'heidelberg-haus-seattle', 'categories': ['german']}\n"
       ]
      },
      {
       "html": [
        "\n",
        "    <div>\n",
        "        <h2>Heidelberg Haus</h2>\n",
        "        <span style='color: #ca0814;'>$$</span><span style='color: #e4e4e4;'>$</span><br /> \n",
        "        <span style='color: #feea60;'>\u2605\u2605\u2605</span><span style='color: #e4e4e4;'>\u2605\u2605</span>\n",
        "        <span style='color:#333;font-size:9px'>9264 words</span>\n",
        "        <br/>\n",
        "        <span style='color:#777:font-size:9px'>Categories: </span><span style='color:#333;font-size:13px'>german</span>\n",
        "        <p style='width:450px'>food is great , and the place is inviting . i always end up talking to the staff so i feel like there is a personal feel to my dining</p>\n",
        "    </div>"
       ],
       "metadata": {},
       "output_type": "display_data",
       "text": [
        "<IPython.core.display.HTML at 0x15f956390>"
       ]
      },
      {
       "html": [
        "\n",
        "            <div>\n",
        "                <div style='background: rgb(221,222,223);width:102px;padding:1px;border-radius:2px'>\n",
        "                    <div style='height:20px; width:64px;padding-left:3px;background-color:rgb(71, 189, 249);font-size:9px;color:white'>\n",
        "                        65%\n",
        "                    </div>\n",
        "                </div>\n",
        "            </div>\n",
        "            "
       ],
       "metadata": {},
       "output_type": "display_data",
       "text": [
        "<IPython.core.display.HTML at 0x15f956390>"
       ]
      },
      {
       "output_type": "stream",
       "stream": "stdout",
       "text": [
        "{'rating': 4.0, 'price': '$$', '_id': 'Fu Shen', 'id': 'fu-shen-seattle', 'categories': ['chinese', 'seafood']}\n"
       ]
      },
      {
       "html": [
        "\n",
        "    <div>\n",
        "        <h2>Fu Shen</h2>\n",
        "        <span style='color: #ca0814;'>$$</span><span style='color: #e4e4e4;'>$</span><br /> \n",
        "        <span style='color: #feea60;'>\u2605\u2605\u2605\u2605</span><span style='color: #e4e4e4;'>\u2605</span>\n",
        "        <span style='color:#333;font-size:9px'>6685 words</span>\n",
        "        <br/>\n",
        "        <span style='color:#777:font-size:9px'>Categories: </span><span style='color:#333;font-size:13px'>chinese, seafood</span>\n",
        "        <p style='width:450px'>i get the honey walnut prawns and house special fried rice . '' '' i had the seafood chow mein with handmade noodles . '' '' get the house special</p>\n",
        "    </div>"
       ],
       "metadata": {},
       "output_type": "display_data",
       "text": [
        "<IPython.core.display.HTML at 0x15f959350>"
       ]
      },
      {
       "html": [
        "\n",
        "            <div>\n",
        "                <div style='background: rgb(221,222,223);width:102px;padding:1px;border-radius:2px'>\n",
        "                    <div style='height:20px; width:59px;padding-left:3px;background-color:rgb(71, 189, 249);font-size:9px;color:white'>\n",
        "                        59%\n",
        "                    </div>\n",
        "                </div>\n",
        "            </div>\n",
        "            "
       ],
       "metadata": {},
       "output_type": "display_data",
       "text": [
        "<IPython.core.display.HTML at 0x15f959350>"
       ]
      },
      {
       "output_type": "stream",
       "stream": "stdout",
       "text": [
        "{'rating': 4.0, 'price': '$', '_id': '3-14-bakery-seattle', 'id': '3-14-bakery-seattle', 'categories': ['sandwiches', 'bakeries', 'coffee']}\n"
       ]
      },
      {
       "html": [
        "\n",
        "    <div>\n",
        "        <h2>3-14-bakery-seattle</h2>\n",
        "        <span style='color: #ca0814;'>$</span><span style='color: #e4e4e4;'>$$</span><br /> \n",
        "        <span style='color: #feea60;'>\u2605\u2605\u2605\u2605</span><span style='color: #e4e4e4;'>\u2605</span>\n",
        "        <span style='color:#333;font-size:9px'>4253 words</span>\n",
        "        <br/>\n",
        "        <span style='color:#777:font-size:9px'>Categories: </span><span style='color:#333;font-size:13px'>sandwiches, bakeries, coffee</span>\n",
        "        <p style='width:450px'>, as we will are your ultimate shop . seattle , wa i have been several times for the yummy cake balls , but just had a full tea with</p>\n",
        "    </div>"
       ],
       "metadata": {},
       "output_type": "display_data",
       "text": [
        "<IPython.core.display.HTML at 0x15f956390>"
       ]
      },
      {
       "html": [
        "\n",
        "            <div>\n",
        "                <div style='background: rgb(221,222,223);width:102px;padding:1px;border-radius:2px'>\n",
        "                    <div style='height:20px; width:57px;padding-left:3px;background-color:rgb(71, 189, 249);font-size:9px;color:white'>\n",
        "                        58%\n",
        "                    </div>\n",
        "                </div>\n",
        "            </div>\n",
        "            "
       ],
       "metadata": {},
       "output_type": "display_data",
       "text": [
        "<IPython.core.display.HTML at 0x15f956390>"
       ]
      },
      {
       "output_type": "stream",
       "stream": "stdout",
       "text": [
        "{'rating': 4.0, 'price': '$', '_id': 'bell-street-deli-and-grocery-seattle', 'id': 'bell-street-deli-and-grocery-seattle', 'categories': ['delis', 'sandwiches', 'convenience']}\n"
       ]
      },
      {
       "html": [
        "\n",
        "    <div>\n",
        "        <h2>bell-street-deli-and-grocery-seattle</h2>\n",
        "        <span style='color: #ca0814;'>$</span><span style='color: #e4e4e4;'>$$</span><br /> \n",
        "        <span style='color: #feea60;'>\u2605\u2605\u2605\u2605</span><span style='color: #e4e4e4;'>\u2605</span>\n",
        "        <span style='color:#333;font-size:9px'>1690 words</span>\n",
        "        <br/>\n",
        "        <span style='color:#777:font-size:9px'>Categories: </span><span style='color:#333;font-size:13px'>delis, sandwiches, convenience</span>\n",
        "        <p style='width:450px'>/ affordable lunches ... seriously . 2 . ) the workers are fast and friendly . 3 . ) it is so ... sooooo ... good . *herbed bird* mmmmm</p>\n",
        "    </div>"
       ],
       "metadata": {},
       "output_type": "display_data",
       "text": [
        "<IPython.core.display.HTML at 0x15f959350>"
       ]
      },
      {
       "html": [
        "\n",
        "            <div>\n",
        "                <div style='background: rgb(221,222,223);width:102px;padding:1px;border-radius:2px'>\n",
        "                    <div style='height:20px; width:57px;padding-left:3px;background-color:rgb(71, 189, 249);font-size:9px;color:white'>\n",
        "                        57%\n",
        "                    </div>\n",
        "                </div>\n",
        "            </div>\n",
        "            "
       ],
       "metadata": {},
       "output_type": "display_data",
       "text": [
        "<IPython.core.display.HTML at 0x15f959350>"
       ]
      },
      {
       "output_type": "stream",
       "stream": "stdout",
       "text": [
        "{'rating': 2.0, 'price': '$$', '_id': 'wing-zone-seattle', 'id': 'wing-zone-seattle', 'categories': ['bbq', 'chicken_wings']}\n"
       ]
      },
      {
       "html": [
        "\n",
        "    <div>\n",
        "        <h2>wing-zone-seattle</h2>\n",
        "        <span style='color: #ca0814;'>$$</span><span style='color: #e4e4e4;'>$</span><br /> \n",
        "        <span style='color: #feea60;'>\u2605\u2605</span><span style='color: #e4e4e4;'>\u2605\u2605\u2605</span>\n",
        "        <span style='color:#333;font-size:9px'>7219 words</span>\n",
        "        <br/>\n",
        "        <span style='color:#777:font-size:9px'>Categories: </span><span style='color:#333;font-size:13px'>bbq, chicken_wings</span>\n",
        "        <p style='width:450px'>provide seattle with what it 's been missing ; sweet ... read more '' ithaca , ny this review is merely for the delivery option , as a friend and</p>\n",
        "    </div>"
       ],
       "metadata": {},
       "output_type": "display_data",
       "text": [
        "<IPython.core.display.HTML at 0x15f956390>"
       ]
      },
      {
       "html": [
        "\n",
        "            <div>\n",
        "                <div style='background: rgb(221,222,223);width:102px;padding:1px;border-radius:2px'>\n",
        "                    <div style='height:20px; width:56px;padding-left:3px;background-color:rgb(71, 189, 249);font-size:9px;color:white'>\n",
        "                        57%\n",
        "                    </div>\n",
        "                </div>\n",
        "            </div>\n",
        "            "
       ],
       "metadata": {},
       "output_type": "display_data",
       "text": [
        "<IPython.core.display.HTML at 0x15f956390>"
       ]
      },
      {
       "output_type": "stream",
       "stream": "stdout",
       "text": [
        "{'rating': 4.5, 'price': '', '_id': 'A Lunch In Hand', 'id': 'a-lunch-in-hand-seattle', 'categories': ['foodstands', 'catering']}\n"
       ]
      },
      {
       "html": [
        "\n",
        "    <div>\n",
        "        <h2>A Lunch In Hand</h2>\n",
        "        <span style='color: #ca0814;'></span><span style='color: #e4e4e4;'>$$$</span><br /> \n",
        "        <span style='color: #feea60;'>\u2605\u2605\u2605\u2605</span><span style='color: #e4e4e4;'>\u2605</span>\n",
        "        <span style='color:#333;font-size:9px'>586 words</span>\n",
        "        <br/>\n",
        "        <span style='color:#777:font-size:9px'>Categories: </span><span style='color:#333;font-size:13px'>foodstands, catering</span>\n",
        "        <p style='width:450px'>chicken with veggies and the corned beef and cabbage . they were both delicious - my favorite was the chicken , my husband 's was the corned beef - perfect</p>\n",
        "    </div>"
       ],
       "metadata": {},
       "output_type": "display_data",
       "text": [
        "<IPython.core.display.HTML at 0x15f959350>"
       ]
      },
      {
       "html": [
        "\n",
        "            <div>\n",
        "                <div style='background: rgb(221,222,223);width:102px;padding:1px;border-radius:2px'>\n",
        "                    <div style='height:20px; width:55px;padding-left:3px;background-color:rgb(71, 189, 249);font-size:9px;color:white'>\n",
        "                        56%\n",
        "                    </div>\n",
        "                </div>\n",
        "            </div>\n",
        "            "
       ],
       "metadata": {},
       "output_type": "display_data",
       "text": [
        "<IPython.core.display.HTML at 0x15f959350>"
       ]
      },
      {
       "output_type": "stream",
       "stream": "stdout",
       "text": [
        "{'rating': 4.0, 'price': '$', '_id': 'Taco Gol', 'id': 'taco-gol-seattle', 'categories': ['mexican', 'foodstands', 'catering']}\n"
       ]
      },
      {
       "html": [
        "\n",
        "    <div>\n",
        "        <h2>Taco Gol</h2>\n",
        "        <span style='color: #ca0814;'>$</span><span style='color: #e4e4e4;'>$$</span><br /> \n",
        "        <span style='color: #feea60;'>\u2605\u2605\u2605\u2605</span><span style='color: #e4e4e4;'>\u2605</span>\n",
        "        <span style='color:#333;font-size:9px'>3084 words</span>\n",
        "        <br/>\n",
        "        <span style='color:#777:font-size:9px'>Categories: </span><span style='color:#333;font-size:13px'>mexican, foodstands, catering</span>\n",
        "        <p style='width:450px'>to come out quickly . there is no where to sit , so your best to take and it and go . the burritos that my co-workers got were huge</p>\n",
        "    </div>"
       ],
       "metadata": {},
       "output_type": "display_data",
       "text": [
        "<IPython.core.display.HTML at 0x15f956390>"
       ]
      },
      {
       "html": [
        "\n",
        "            <div>\n",
        "                <div style='background: rgb(221,222,223);width:102px;padding:1px;border-radius:2px'>\n",
        "                    <div style='height:20px; width:55px;padding-left:3px;background-color:rgb(71, 189, 249);font-size:9px;color:white'>\n",
        "                        55%\n",
        "                    </div>\n",
        "                </div>\n",
        "            </div>\n",
        "            "
       ],
       "metadata": {},
       "output_type": "display_data",
       "text": [
        "<IPython.core.display.HTML at 0x15f956390>"
       ]
      },
      {
       "output_type": "stream",
       "stream": "stdout",
       "text": [
        "{'rating': 3.5, 'price': '$$', '_id': 'the-dish-seattle-2', 'id': 'the-dish-seattle-2', 'categories': ['tradamerican', 'breakfast_brunch']}\n"
       ]
      },
      {
       "html": [
        "\n",
        "    <div>\n",
        "        <h2>the-dish-seattle-2</h2>\n",
        "        <span style='color: #ca0814;'>$$</span><span style='color: #e4e4e4;'>$</span><br /> \n",
        "        <span style='color: #feea60;'>\u2605\u2605\u2605</span><span style='color: #e4e4e4;'>\u2605\u2605</span>\n",
        "        <span style='color:#333;font-size:9px'>2543 words</span>\n",
        "        <br/>\n",
        "        <span style='color:#777:font-size:9px'>Categories: </span><span style='color:#333;font-size:13px'>tradamerican, breakfast_brunch</span>\n",
        "        <p style='width:450px'>slices ? could n't really ask for more . the knishes were also delightful . flaky pastry rolled around meat & potatoes - nothing glamorous but everything good and satisfying</p>\n",
        "    </div>"
       ],
       "metadata": {},
       "output_type": "display_data",
       "text": [
        "<IPython.core.display.HTML at 0x15f959350>"
       ]
      },
      {
       "html": [
        "\n",
        "            <div>\n",
        "                <div style='background: rgb(221,222,223);width:102px;padding:1px;border-radius:2px'>\n",
        "                    <div style='height:20px; width:52px;padding-left:3px;background-color:rgb(71, 189, 249);font-size:9px;color:white'>\n",
        "                        53%\n",
        "                    </div>\n",
        "                </div>\n",
        "            </div>\n",
        "            "
       ],
       "metadata": {},
       "output_type": "display_data",
       "text": [
        "<IPython.core.display.HTML at 0x15f959350>"
       ]
      },
      {
       "output_type": "stream",
       "stream": "stdout",
       "text": [
        "{'rating': 4.0, 'price': '$', '_id': 'pho-saigon-garden-kent-2', 'id': 'pho-saigon-garden-kent-2', 'categories': ['chinese']}\n"
       ]
      },
      {
       "html": [
        "\n",
        "    <div>\n",
        "        <h2>pho-saigon-garden-kent-2</h2>\n",
        "        <span style='color: #ca0814;'>$</span><span style='color: #e4e4e4;'>$$</span><br /> \n",
        "        <span style='color: #feea60;'>\u2605\u2605\u2605\u2605</span><span style='color: #e4e4e4;'>\u2605</span>\n",
        "        <span style='color:#333;font-size:9px'>5873 words</span>\n",
        "        <br/>\n",
        "        <span style='color:#777:font-size:9px'>Categories: </span><span style='color:#333;font-size:13px'>chinese</span>\n",
        "        <p style='width:450px'>and dine in , both an excellent experience . they gave me 25 minutes for delivery time , but i swear they were there in 15 . my boyfriend and</p>\n",
        "    </div>"
       ],
       "metadata": {},
       "output_type": "display_data",
       "text": [
        "<IPython.core.display.HTML at 0x15f956390>"
       ]
      },
      {
       "html": [
        "\n",
        "            <div>\n",
        "                <div style='background: rgb(221,222,223);width:102px;padding:1px;border-radius:2px'>\n",
        "                    <div style='height:20px; width:52px;padding-left:3px;background-color:rgb(71, 189, 249);font-size:9px;color:white'>\n",
        "                        52%\n",
        "                    </div>\n",
        "                </div>\n",
        "            </div>\n",
        "            "
       ],
       "metadata": {},
       "output_type": "display_data",
       "text": [
        "<IPython.core.display.HTML at 0x15f956390>"
       ]
      },
      {
       "output_type": "stream",
       "stream": "stdout",
       "text": [
        "{'rating': 2.5, 'price': '$', '_id': 'subway-seattle-14', 'id': 'subway-seattle-14', 'categories': ['sandwiches']}\n"
       ]
      },
      {
       "html": [
        "\n",
        "    <div>\n",
        "        <h2>subway-seattle-14</h2>\n",
        "        <span style='color: #ca0814;'>$</span><span style='color: #e4e4e4;'>$$</span><br /> \n",
        "        <span style='color: #feea60;'>\u2605\u2605</span><span style='color: #e4e4e4;'>\u2605\u2605\u2605</span>\n",
        "        <span style='color:#333;font-size:9px'>607 words</span>\n",
        "        <br/>\n",
        "        <span style='color:#777:font-size:9px'>Categories: </span><span style='color:#333;font-size:13px'>sandwiches</span>\n",
        "        <p style='width:450px'>and the people working here are friendly , it 's clean , and i 'm enjoying it quite well . usual subway value for a healthier fast food option .</p>\n",
        "    </div>"
       ],
       "metadata": {},
       "output_type": "display_data",
       "text": [
        "<IPython.core.display.HTML at 0x15f959350>"
       ]
      },
      {
       "html": [
        "\n",
        "            <div>\n",
        "                <div style='background: rgb(221,222,223);width:102px;padding:1px;border-radius:2px'>\n",
        "                    <div style='height:20px; width:52px;padding-left:3px;background-color:rgb(71, 189, 249);font-size:9px;color:white'>\n",
        "                        52%\n",
        "                    </div>\n",
        "                </div>\n",
        "            </div>\n",
        "            "
       ],
       "metadata": {},
       "output_type": "display_data",
       "text": [
        "<IPython.core.display.HTML at 0x15f959350>"
       ]
      }
     ],
     "prompt_number": 29
    },
    {
     "cell_type": "code",
     "collapsed": false,
     "input": [
      "pvdm.most_similar(\"i\")"
     ],
     "language": "python",
     "metadata": {},
     "outputs": [
      {
       "metadata": {},
       "output_type": "pyout",
       "prompt_number": 42,
       "text": [
        "[('gig', 0.49051618576049805),\n",
        " ('didnt', 0.46801677346229553),\n",
        " ('usually', 0.46685081720352173),\n",
        " ('shui', 0.4498845934867859),\n",
        " ('starsi', 0.44972074031829834),\n",
        " ('dont', 0.44608616828918457),\n",
        " ('virtually', 0.44414129853248596),\n",
        " ('nicer', 0.44263726472854614),\n",
        " ('rarely', 0.43743494153022766),\n",
        " ('.*i', 0.4319870173931122)]"
       ]
      }
     ],
     "prompt_number": 42
    },
    {
     "cell_type": "code",
     "collapsed": false,
     "input": [],
     "language": "python",
     "metadata": {},
     "outputs": []
    }
   ],
   "metadata": {}
  }
 ]
}