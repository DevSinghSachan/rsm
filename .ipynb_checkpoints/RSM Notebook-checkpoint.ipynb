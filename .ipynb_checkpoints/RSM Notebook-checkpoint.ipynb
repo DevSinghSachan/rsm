{
 "metadata": {
  "name": "",
  "signature": "sha256:372704ef94e0c00eeb31d2ae835c9097ac63ca381bc6cc8d3cc80d30df5f62a8"
 },
 "nbformat": 3,
 "nbformat_minor": 0,
 "worksheets": [
  {
   "cells": [
    {
     "cell_type": "heading",
     "level": 1,
     "metadata": {},
     "source": [
      "Create a **Replicated Softmax Layer**"
     ]
    },
    {
     "cell_type": "markdown",
     "metadata": {},
     "source": [
      "Create the word representations for *original* and *reconstruction* as presented in [J\u00f6rg Landthaler's Master Thesis](http://www.fylance.de/msc/landthal2011.pdf) and [R. Salakhutdinov & G.E. Hinton's Implementation of the Replicated Softmax model](http://www.mit.edu/~rsalakhu/papers/repsoft.pdf). \n",
      "\n",
      "To obtain a reconstruction we obtain the *hidden activation*, we denote $D$ the size of the document:\n",
      "\n",
      "$$D = \\sum_{i=1}^n v_{\\mathrm{visible}}^{(i)},$$\n",
      "\n",
      "$$h_{\\mathrm{activation}} = \\mathrm{sigmoid} \\left( v_{\\mathrm{visible}} \\cdot W + D \\cdot b_{\\mathrm{hidden}} \\right)$$\n",
      "\n",
      "The hidden activations can then be used to sample from a **multinomial**:\n",
      "\n",
      "$$v_{\\mathrm{activation}} = \\mathrm{sigmoid} \\left( v_{\\mathrm{visible}} \\cdot W^T + \\cdot b_{\\mathrm{visible}} \\right)$$\n",
      "\n",
      "The probabilities of each events are obtained using the *softmax function*:\n",
      "\n",
      "$$v_{\\mathrm{probabilities}}^{(j)} =\n",
      "\\frac{\\exp(v_{\\mathrm{activation}}^{(j)})}{\\sum_{i=1}^n \\exp(v_{\\mathrm{activation}}^{(i)})}$$\n",
      "\n",
      "And we can now sample:\n",
      "\n",
      "$$v_{\\mathrm{reconstructed}} \\sim \\mathrm{Mul}\\left(n=D, p = v_{\\mathrm{probabilities}}\\right)$$\n"
     ]
    },
    {
     "cell_type": "heading",
     "level": 2,
     "metadata": {},
     "source": [
      "We start by importing the library"
     ]
    },
    {
     "cell_type": "code",
     "collapsed": false,
     "input": [
      "import rsm\n",
      "from daichi_rsm import fmatrix as importer\n",
      "from daichi_rsm.utils import utils as matrix2text\n",
      "import numpy as np\n",
      "import theano as T\n",
      "import utils\n",
      "from imp import reload\n",
      "%matplotlib inline"
     ],
     "language": "python",
     "metadata": {},
     "outputs": [],
     "prompt_number": 61
    },
    {
     "cell_type": "heading",
     "level": 2,
     "metadata": {},
     "source": [
      "We can now import data"
     ]
    },
    {
     "cell_type": "code",
     "collapsed": false,
     "input": [
      "reload(rsm)"
     ],
     "language": "python",
     "metadata": {},
     "outputs": [
      {
       "metadata": {},
       "output_type": "pyout",
       "prompt_number": 62,
       "text": [
        "<module 'rsm' from './rsm.py'>"
       ]
      }
     ],
     "prompt_number": 62
    },
    {
     "cell_type": "code",
     "collapsed": false,
     "input": [
      "datum = importer.parse(\"sample_data/train\")"
     ],
     "language": "python",
     "metadata": {},
     "outputs": [],
     "prompt_number": 28
    },
    {
     "cell_type": "heading",
     "level": 3,
     "metadata": {},
     "source": [
      "Let us now test our module"
     ]
    },
    {
     "cell_type": "code",
     "collapsed": false,
     "input": [
      "encoder = rsm.RSM(momentum=0.001, data=datum, hidden_units=123, k=1, learning_rate=0.001)"
     ],
     "language": "python",
     "metadata": {},
     "outputs": [],
     "prompt_number": 63
    },
    {
     "cell_type": "code",
     "collapsed": false,
     "input": [
      "epochs = 200\n",
      "errors = np.zeros(epochs)\n",
      "for epoch in range(epochs):\n",
      "    #if epoch > 0 and epoch % 50 == 0:\n",
      "    #    encoder.k = int(1 + (float(epoch) / float(epochs)) * 4)\n",
      "    errors[epoch] = encoder.train()\n",
      "    #if epoch > 0 and epoch % 10 == 0:\n",
      "    print(\"PPL score is %.05f \" % errors[epoch])\n"
     ],
     "language": "python",
     "metadata": {},
     "outputs": [
      {
       "output_type": "stream",
       "stream": "stdout",
       "text": [
        "PPL score is 1324.05632 \n",
        "PPL score is 26561696042946530636899744118472704.00000 "
       ]
      },
      {
       "output_type": "stream",
       "stream": "stdout",
       "text": [
        "\n",
        "PPL score is 3397.84968 \n",
        "PPL score is 2581.53594 "
       ]
      },
      {
       "output_type": "stream",
       "stream": "stdout",
       "text": [
        "\n",
        "PPL score is 2011.26550 \n",
        "PPL score is 1603.80161 "
       ]
      },
      {
       "output_type": "stream",
       "stream": "stdout",
       "text": [
        "\n",
        "PPL score is 1304.03757 \n",
        "PPL score is 1068.97222 "
       ]
      },
      {
       "output_type": "stream",
       "stream": "stdout",
       "text": [
        "\n",
        "PPL score is 882.86536 \n",
        "PPL score is 734.56266 "
       ]
      },
      {
       "output_type": "stream",
       "stream": "stdout",
       "text": [
        "\n",
        "PPL score is 614.60189 \n",
        "PPL score is 518.21478 "
       ]
      },
      {
       "output_type": "stream",
       "stream": "stdout",
       "text": [
        "\n",
        "PPL score is 444.59068 \n",
        "PPL score is 404.22213 "
       ]
      },
      {
       "output_type": "stream",
       "stream": "stdout",
       "text": [
        "\n",
        "PPL score is 393.60652 \n",
        "PPL score is 387.79719 "
       ]
      },
      {
       "output_type": "stream",
       "stream": "stdout",
       "text": [
        "\n",
        "PPL score is 382.85139 \n",
        "PPL score is 378.14953 "
       ]
      },
      {
       "output_type": "stream",
       "stream": "stdout",
       "text": [
        "\n",
        "PPL score is 374.07220 \n",
        "PPL score is 370.56756 "
       ]
      },
      {
       "output_type": "stream",
       "stream": "stdout",
       "text": [
        "\n",
        "PPL score is 366.66280 \n",
        "PPL score is 363.51298 "
       ]
      },
      {
       "output_type": "stream",
       "stream": "stdout",
       "text": [
        "\n",
        "PPL score is 360.62162 \n",
        "PPL score is 357.96293 "
       ]
      },
      {
       "output_type": "stream",
       "stream": "stdout",
       "text": [
        "\n",
        "PPL score is 355.55925 \n",
        "PPL score is 352.97567 "
       ]
      },
      {
       "output_type": "stream",
       "stream": "stdout",
       "text": [
        "\n",
        "PPL score is 350.76625 \n",
        "PPL score is 348.85422 "
       ]
      },
      {
       "output_type": "stream",
       "stream": "stdout",
       "text": [
        "\n",
        "PPL score is 346.83376 \n",
        "PPL score is 345.15171 "
       ]
      },
      {
       "output_type": "stream",
       "stream": "stdout",
       "text": [
        "\n",
        "PPL score is 343.50758 \n",
        "PPL score is 341.90521 "
       ]
      },
      {
       "output_type": "stream",
       "stream": "stdout",
       "text": [
        "\n",
        "PPL score is 340.46719 \n",
        "PPL score is 339.06178 "
       ]
      },
      {
       "output_type": "stream",
       "stream": "stdout",
       "text": [
        "\n",
        "PPL score is 337.77229 \n",
        "PPL score is 336.58940 "
       ]
      },
      {
       "output_type": "stream",
       "stream": "stdout",
       "text": [
        "\n",
        "PPL score is 335.34863 \n",
        "PPL score is 334.11618 "
       ]
      },
      {
       "output_type": "stream",
       "stream": "stdout",
       "text": [
        "\n",
        "PPL score is 333.10848 \n",
        "PPL score is 332.08717 "
       ]
      },
      {
       "output_type": "stream",
       "stream": "stdout",
       "text": [
        "\n",
        "PPL score is 331.16633 \n",
        "PPL score is 330.26234 "
       ]
      },
      {
       "output_type": "stream",
       "stream": "stdout",
       "text": [
        "\n",
        "PPL score is 329.30408 \n",
        "PPL score is 328.47470 "
       ]
      },
      {
       "output_type": "stream",
       "stream": "stdout",
       "text": [
        "\n",
        "PPL score is 327.61090 \n",
        "PPL score is 327.05624 "
       ]
      },
      {
       "output_type": "stream",
       "stream": "stdout",
       "text": [
        "\n",
        "PPL score is 326.27459 \n",
        "PPL score is 325.37113 "
       ]
      },
      {
       "output_type": "stream",
       "stream": "stdout",
       "text": [
        "\n",
        "PPL score is 324.83891 \n",
        "PPL score is 324.05358 "
       ]
      },
      {
       "output_type": "stream",
       "stream": "stdout",
       "text": [
        "\n",
        "PPL score is 323.30633 \n",
        "PPL score is 322.83011 "
       ]
      },
      {
       "output_type": "stream",
       "stream": "stdout",
       "text": [
        "\n",
        "PPL score is 322.21361 \n",
        "PPL score is 321.56463 "
       ]
      },
      {
       "output_type": "stream",
       "stream": "stdout",
       "text": [
        "\n",
        "PPL score is 321.15240 \n",
        "PPL score is 320.61570 "
       ]
      },
      {
       "output_type": "stream",
       "stream": "stdout",
       "text": [
        "\n",
        "PPL score is 320.16807 \n",
        "PPL score is 319.66723 "
       ]
      },
      {
       "output_type": "stream",
       "stream": "stdout",
       "text": [
        "\n",
        "PPL score is 319.21486 \n",
        "PPL score is 318.81976 "
       ]
      },
      {
       "output_type": "stream",
       "stream": "stdout",
       "text": [
        "\n",
        "PPL score is 318.41601 \n",
        "PPL score is 318.02716 "
       ]
      },
      {
       "output_type": "stream",
       "stream": "stdout",
       "text": [
        "\n",
        "PPL score is 317.54141 \n",
        "PPL score is 317.15888 "
       ]
      },
      {
       "output_type": "stream",
       "stream": "stdout",
       "text": [
        "\n",
        "PPL score is 316.90138 \n",
        "PPL score is 316.33468 "
       ]
      },
      {
       "output_type": "stream",
       "stream": "stdout",
       "text": [
        "\n",
        "PPL score is 315.99712 \n",
        "PPL score is 315.81525 "
       ]
      },
      {
       "output_type": "stream",
       "stream": "stdout",
       "text": [
        "\n",
        "PPL score is 315.30695 \n",
        "PPL score is 315.13177 "
       ]
      },
      {
       "output_type": "stream",
       "stream": "stdout",
       "text": [
        "\n",
        "PPL score is 314.84406 \n",
        "PPL score is 314.50074 "
       ]
      },
      {
       "output_type": "stream",
       "stream": "stdout",
       "text": [
        "\n",
        "PPL score is 314.22568 \n",
        "PPL score is 313.92580 "
       ]
      },
      {
       "output_type": "stream",
       "stream": "stdout",
       "text": [
        "\n",
        "PPL score is 313.59935 \n",
        "PPL score is 313.27126 "
       ]
      },
      {
       "output_type": "stream",
       "stream": "stdout",
       "text": [
        "\n",
        "PPL score is 313.13911 \n",
        "PPL score is 312.84591 "
       ]
      },
      {
       "output_type": "stream",
       "stream": "stdout",
       "text": [
        "\n",
        "PPL score is 312.59420 \n",
        "PPL score is 312.35227 "
       ]
      },
      {
       "output_type": "stream",
       "stream": "stdout",
       "text": [
        "\n",
        "PPL score is 312.12541 \n",
        "PPL score is 311.89280 "
       ]
      },
      {
       "output_type": "stream",
       "stream": "stdout",
       "text": [
        "\n",
        "PPL score is 311.74060 \n",
        "PPL score is 311.45613 "
       ]
      },
      {
       "output_type": "stream",
       "stream": "stdout",
       "text": [
        "\n",
        "PPL score is 311.29718 \n",
        "PPL score is 311.02371 "
       ]
      },
      {
       "output_type": "stream",
       "stream": "stdout",
       "text": [
        "\n",
        "PPL score is 310.81597 \n",
        "PPL score is 310.67851 "
       ]
      },
      {
       "output_type": "stream",
       "stream": "stdout",
       "text": [
        "\n",
        "PPL score is 310.45196 \n",
        "PPL score is 310.39244 "
       ]
      },
      {
       "output_type": "stream",
       "stream": "stdout",
       "text": [
        "\n",
        "PPL score is 310.14225 \n",
        "PPL score is 309.89076 "
       ]
      },
      {
       "output_type": "stream",
       "stream": "stdout",
       "text": [
        "\n",
        "PPL score is 309.93073 \n",
        "PPL score is 309.59547 "
       ]
      },
      {
       "output_type": "stream",
       "stream": "stdout",
       "text": [
        "\n",
        "PPL score is 309.62124 \n",
        "PPL score is 309.36174 "
       ]
      },
      {
       "output_type": "stream",
       "stream": "stdout",
       "text": [
        "\n",
        "PPL score is 309.14141 \n",
        "PPL score is 309.11810 "
       ]
      },
      {
       "output_type": "stream",
       "stream": "stdout",
       "text": [
        "\n",
        "PPL score is 308.89329 \n",
        "PPL score is 308.85992 "
       ]
      },
      {
       "output_type": "stream",
       "stream": "stdout",
       "text": [
        "\n",
        "PPL score is 308.70334 \n",
        "PPL score is 308.48574 "
       ]
      },
      {
       "output_type": "stream",
       "stream": "stdout",
       "text": [
        "\n",
        "PPL score is 308.32215 \n",
        "PPL score is 308.51531 "
       ]
      },
      {
       "output_type": "stream",
       "stream": "stdout",
       "text": [
        "\n",
        "PPL score is 308.15580 \n",
        "PPL score is 308.01352 "
       ]
      },
      {
       "output_type": "stream",
       "stream": "stdout",
       "text": [
        "\n",
        "PPL score is 307.88539 \n",
        "PPL score is 307.90427 "
       ]
      },
      {
       "output_type": "stream",
       "stream": "stdout",
       "text": [
        "\n",
        "PPL score is 307.90696 \n",
        "PPL score is 307.65279 "
       ]
      },
      {
       "output_type": "stream",
       "stream": "stdout",
       "text": [
        "\n",
        "PPL score is 307.74563 \n",
        "PPL score is 307.45119 "
       ]
      },
      {
       "output_type": "stream",
       "stream": "stdout",
       "text": [
        "\n",
        "PPL score is 307.46047 \n",
        "PPL score is 307.24030 "
       ]
      },
      {
       "output_type": "stream",
       "stream": "stdout",
       "text": [
        "\n",
        "PPL score is 307.20218 \n",
        "PPL score is 307.07857 "
       ]
      },
      {
       "output_type": "stream",
       "stream": "stdout",
       "text": [
        "\n",
        "PPL score is 307.05152 \n",
        "PPL score is 306.98041 "
       ]
      },
      {
       "output_type": "stream",
       "stream": "stdout",
       "text": [
        "\n",
        "PPL score is 306.83777 \n",
        "PPL score is 306.70700 "
       ]
      },
      {
       "output_type": "stream",
       "stream": "stdout",
       "text": [
        "\n",
        "PPL score is 306.71536 \n",
        "PPL score is 306.58105 "
       ]
      },
      {
       "output_type": "stream",
       "stream": "stdout",
       "text": [
        "\n",
        "PPL score is 306.53466 \n",
        "PPL score is 306.40282 "
       ]
      },
      {
       "output_type": "stream",
       "stream": "stdout",
       "text": [
        "\n",
        "PPL score is 306.41355 \n",
        "PPL score is 306.43920 "
       ]
      },
      {
       "output_type": "stream",
       "stream": "stdout",
       "text": [
        "\n",
        "PPL score is 306.27178 \n",
        "PPL score is 306.36167 "
       ]
      },
      {
       "output_type": "stream",
       "stream": "stdout",
       "text": [
        "\n",
        "PPL score is 306.10907 \n",
        "PPL score is 306.09059 "
       ]
      },
      {
       "output_type": "stream",
       "stream": "stdout",
       "text": [
        "\n",
        "PPL score is 306.02417 \n",
        "PPL score is 305.96088 "
       ]
      },
      {
       "output_type": "stream",
       "stream": "stdout",
       "text": [
        "\n",
        "PPL score is 306.05798 \n",
        "PPL score is 305.86055 "
       ]
      },
      {
       "output_type": "stream",
       "stream": "stdout",
       "text": [
        "\n",
        "PPL score is 306.04681 \n",
        "PPL score is 305.73956 "
       ]
      },
      {
       "output_type": "stream",
       "stream": "stdout",
       "text": [
        "\n",
        "PPL score is 305.86814 \n",
        "PPL score is 305.66741 "
       ]
      },
      {
       "output_type": "stream",
       "stream": "stdout",
       "text": [
        "\n",
        "PPL score is 305.67202 \n",
        "PPL score is 305.53728 "
       ]
      },
      {
       "output_type": "stream",
       "stream": "stdout",
       "text": [
        "\n",
        "PPL score is 305.60063 \n",
        "PPL score is 305.53178 "
       ]
      },
      {
       "output_type": "stream",
       "stream": "stdout",
       "text": [
        "\n",
        "PPL score is 305.57698 \n",
        "PPL score is 305.38402 "
       ]
      },
      {
       "output_type": "stream",
       "stream": "stdout",
       "text": [
        "\n",
        "PPL score is 305.46874 \n",
        "PPL score is 305.28075 "
       ]
      },
      {
       "output_type": "stream",
       "stream": "stdout",
       "text": [
        "\n",
        "PPL score is 305.28046 \n",
        "PPL score is 305.31656 "
       ]
      },
      {
       "output_type": "stream",
       "stream": "stdout",
       "text": [
        "\n",
        "PPL score is 305.23604 \n",
        "PPL score is 305.23545 "
       ]
      },
      {
       "output_type": "stream",
       "stream": "stdout",
       "text": [
        "\n",
        "PPL score is 305.14589 \n",
        "PPL score is 305.10565 "
       ]
      },
      {
       "output_type": "stream",
       "stream": "stdout",
       "text": [
        "\n",
        "PPL score is 305.12599 \n",
        "PPL score is 305.07922 "
       ]
      },
      {
       "output_type": "stream",
       "stream": "stdout",
       "text": [
        "\n",
        "PPL score is 305.16386 \n",
        "PPL score is 305.03959 "
       ]
      },
      {
       "output_type": "stream",
       "stream": "stdout",
       "text": [
        "\n",
        "PPL score is 305.38744 \n",
        "PPL score is 305.03929 "
       ]
      },
      {
       "output_type": "stream",
       "stream": "stdout",
       "text": [
        "\n",
        "PPL score is 305.03543 \n",
        "PPL score is 304.99327 "
       ]
      },
      {
       "output_type": "stream",
       "stream": "stdout",
       "text": [
        "\n",
        "PPL score is 304.96344 \n",
        "PPL score is 304.91225 "
       ]
      },
      {
       "output_type": "stream",
       "stream": "stdout",
       "text": [
        "\n",
        "PPL score is 304.95632 \n",
        "PPL score is 304.86180 "
       ]
      },
      {
       "output_type": "stream",
       "stream": "stdout",
       "text": [
        "\n",
        "PPL score is 305.18272 \n",
        "PPL score is 304.81270 "
       ]
      },
      {
       "output_type": "stream",
       "stream": "stdout",
       "text": [
        "\n",
        "PPL score is 304.92709 \n",
        "PPL score is 304.78303 "
       ]
      },
      {
       "output_type": "stream",
       "stream": "stdout",
       "text": [
        "\n",
        "PPL score is 304.79609 \n",
        "PPL score is 304.87115 "
       ]
      },
      {
       "output_type": "stream",
       "stream": "stdout",
       "text": [
        "\n",
        "PPL score is 304.75634 \n",
        "PPL score is 304.72994 "
       ]
      },
      {
       "output_type": "stream",
       "stream": "stdout",
       "text": [
        "\n",
        "PPL score is 304.85883 \n",
        "PPL score is 304.67300 "
       ]
      },
      {
       "output_type": "stream",
       "stream": "stdout",
       "text": [
        "\n",
        "PPL score is 304.74210 \n",
        "PPL score is 304.62126 "
       ]
      },
      {
       "output_type": "stream",
       "stream": "stdout",
       "text": [
        "\n",
        "PPL score is 304.65699 \n",
        "PPL score is 304.60570 "
       ]
      },
      {
       "output_type": "stream",
       "stream": "stdout",
       "text": [
        "\n",
        "PPL score is 304.75500 \n",
        "PPL score is 304.62111 "
       ]
      },
      {
       "output_type": "stream",
       "stream": "stdout",
       "text": [
        "\n",
        "PPL score is 304.61474 \n",
        "PPL score is 304.66381 "
       ]
      },
      {
       "output_type": "stream",
       "stream": "stdout",
       "text": [
        "\n",
        "PPL score is 304.57131 \n",
        "PPL score is 304.60125 "
       ]
      },
      {
       "output_type": "stream",
       "stream": "stdout",
       "text": [
        "\n",
        "PPL score is 304.62497 \n",
        "PPL score is 304.56404 "
       ]
      },
      {
       "output_type": "stream",
       "stream": "stdout",
       "text": [
        "\n",
        "PPL score is 304.61622 \n",
        "PPL score is 304.62734 "
       ]
      },
      {
       "output_type": "stream",
       "stream": "stdout",
       "text": [
        "\n",
        "PPL score is 304.56064 \n",
        "PPL score is 304.68412 "
       ]
      },
      {
       "output_type": "stream",
       "stream": "stdout",
       "text": [
        "\n",
        "PPL score is 304.59369 \n",
        "PPL score is 304.62348 "
       ]
      },
      {
       "output_type": "stream",
       "stream": "stdout",
       "text": [
        "\n",
        "PPL score is 304.59280 \n",
        "PPL score is 304.64113 "
       ]
      },
      {
       "output_type": "stream",
       "stream": "stdout",
       "text": [
        "\n",
        "PPL score is 304.57590 \n",
        "PPL score is 304.74284 "
       ]
      },
      {
       "output_type": "stream",
       "stream": "stdout",
       "text": [
        "\n",
        "PPL score is 304.59858 \n",
        "PPL score is 304.55841 "
       ]
      },
      {
       "output_type": "stream",
       "stream": "stdout",
       "text": [
        "\n",
        "PPL score is 304.61503 \n",
        "PPL score is 304.74284 "
       ]
      },
      {
       "output_type": "stream",
       "stream": "stdout",
       "text": [
        "\n"
       ]
      }
     ],
     "prompt_number": 64
    },
    {
     "cell_type": "code",
     "collapsed": false,
     "input": [
      "utils.plot_progress(errors[10:])"
     ],
     "language": "python",
     "metadata": {},
     "outputs": [
      {
       "metadata": {},
       "output_type": "display_data",
       "png": "[encoded data removed]",
       "text": [
        "<matplotlib.figure.Figure at 0x114890a10>"
       ]
      }
     ],
     "prompt_number": 36
    },
    {
     "cell_type": "code",
     "collapsed": false,
     "input": [
      "scaling = datum.sum(axis=1)\n",
      "reconstructed = encoder.reconstruct(datum)\n",
      "difference = np.abs(reconstructed - datum).sum()\n",
      "#fig = plt.figure()\n",
      "#axes = fig.add_axes([0.1, 0.1, 1.0, 0.8])\n",
      "#axes.plot(np.linspace(1,len(difference),  len(difference)), difference)\n",
      "difference"
     ],
     "language": "python",
     "metadata": {},
     "outputs": [
      {
       "metadata": {},
       "output_type": "pyout",
       "prompt_number": 66,
       "text": [
        "20608.0"
       ]
      }
     ],
     "prompt_number": 66
    },
    {
     "cell_type": "heading",
     "level": 2,
     "metadata": {},
     "source": [
      "Create Word Representation:"
     ]
    },
    {
     "cell_type": "code",
     "collapsed": false,
     "input": [
      "reload(utils);"
     ],
     "language": "python",
     "metadata": {},
     "outputs": []
    },
    {
     "cell_type": "heading",
     "level": 3,
     "metadata": {},
     "source": [
      "Import associated library:"
     ]
    },
    {
     "cell_type": "code",
     "collapsed": false,
     "input": [
      "lexicon, reverse_lexicon = matrix2text.convert_lexicon_file_to_lexicon(\"sample_data/train.lex\")\n",
      "word_rep = utils.to_word_representation(reverse_lexicon, datum)\n",
      "word_rep_reconstructed = utils.to_word_representation(reverse_lexicon, reconstructed);"
     ],
     "language": "python",
     "metadata": {},
     "outputs": [],
     "prompt_number": 16
    },
    {
     "cell_type": "code",
     "collapsed": false,
     "input": [
      "#encoder.save(\"saved_rsm.pkz\") # saved as a gzipped file\n",
      "scaling = datum.sum(axis=1)\n",
      "reconstructed = encoder.reconstruct(datum)\n",
      "difference = np.abs(reconstructed - datum).sum()\n",
      "#fig = plt.figure()\n",
      "#axes = fig.add_axes([0.1, 0.1, 1.0, 0.8])\n",
      "#axes.plot(np.linspace(1,len(difference),  len(difference)), difference)\n",
      "difference"
     ],
     "language": "python",
     "metadata": {},
     "outputs": [
      {
       "metadata": {},
       "output_type": "pyout",
       "prompt_number": 105,
       "text": [
        "20700.0"
       ]
      }
     ],
     "prompt_number": 105
    },
    {
     "cell_type": "heading",
     "level": 2,
     "metadata": {},
     "source": [
      "Reload a pickled RSM:"
     ]
    },
    {
     "cell_type": "code",
     "collapsed": false,
     "input": [
      "old_encoder = rsm.RSM.load(\"saved_rsm.pkz\")\n",
      "old_encoder.data = datum\n",
      "new_difference = np.abs(old_encoder.reconstruct(datum) - datum).sum()\n",
      "new_difference"
     ],
     "language": "python",
     "metadata": {},
     "outputs": [
      {
       "metadata": {},
       "output_type": "pyout",
       "prompt_number": 95,
       "text": [
        "20618.0"
       ]
      }
     ],
     "prompt_number": 95
    }
   ],
   "metadata": {}
  }
 ]
}