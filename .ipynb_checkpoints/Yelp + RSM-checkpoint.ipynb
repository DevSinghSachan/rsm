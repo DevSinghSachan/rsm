{
 "metadata": {
  "name": "",
  "signature": "sha256:70d189d7fdd09d2eb357a3a6a8a56987373429bcae30788a15ced5c4d541f916"
 },
 "nbformat": 3,
 "nbformat_minor": 0,
 "worksheets": [
  {
   "cells": [
    {
     "cell_type": "code",
     "collapsed": false,
     "input": [
      "from imp import reload\n",
      "import rsm\n",
      "import numpy as np\n",
      "import theano as T\n",
      "from matplotlib import pyplot as plt\n",
      "import utils\n",
      "%matplotlib inline"
     ],
     "language": "python",
     "metadata": {},
     "outputs": [],
     "prompt_number": 4
    },
    {
     "cell_type": "code",
     "collapsed": false,
     "input": [
      "reload(utils)\n",
      "reload(rsm)"
     ],
     "language": "python",
     "metadata": {},
     "outputs": [
      {
       "metadata": {},
       "output_type": "pyout",
       "prompt_number": 16,
       "text": [
        "<module 'rsm' from './rsm.py'>"
       ]
      }
     ],
     "prompt_number": 16
    },
    {
     "cell_type": "code",
     "collapsed": false,
     "input": [
      "utils.connect_to_database(database_name = 'yelp')"
     ],
     "language": "python",
     "metadata": {},
     "outputs": [],
     "prompt_number": 12
    },
    {
     "cell_type": "code",
     "collapsed": false,
     "input": [
      "lexicon, reverse_lexicon = utils.gather_lexicon('restaurants')"
     ],
     "language": "python",
     "metadata": {},
     "outputs": [],
     "prompt_number": 13
    },
    {
     "cell_type": "code",
     "collapsed": false,
     "input": [
      "datum, *_  = utils.import_from_mongo('restaurants', stopping_point=3000, lexicon = (lexicon, reverse_lexicon))"
     ],
     "language": "python",
     "metadata": {},
     "outputs": [
      {
       "output_type": "stream",
       "stream": "stdout",
       "text": [
        "(3000, 35762)\n"
       ]
      }
     ],
     "prompt_number": 14
    },
    {
     "cell_type": "code",
     "collapsed": false,
     "input": [
      "encoder = rsm.RSM(momentum=0.9, data=datum, hidden_units=200, k=1)"
     ],
     "language": "python",
     "metadata": {},
     "outputs": [],
     "prompt_number": 29
    },
    {
     "cell_type": "code",
     "collapsed": false,
     "input": [
      "epochs = 10\n",
      "errors = np.zeros(epochs)\n",
      "for epoch in range(epochs):\n",
      "    if epoch > 0 and epoch % 50 == 0:\n",
      "        encoder.k = int(1 + (float(epoch) / float(epochs)) * 4)\n",
      "    errors[epoch] = encoder.train()\n",
      "    #if epoch > 0 and epoch % 10 == 0:\n",
      "    print(\"PPL score is %.02f \" % errors[epoch])"
     ],
     "language": "python",
     "metadata": {},
     "outputs": [
      {
       "output_type": "stream",
       "stream": "stdout",
       "text": [
        "PPL score is 35769.90 \n",
        "PPL score is inf "
       ]
      },
      {
       "output_type": "stream",
       "stream": "stdout",
       "text": [
        "\n",
        "PPL score is 9578554927922178061961410455443800620888131652015573549178928148652516805236561189243560447041362685437117780596771899827868803441491149013101548499986010669311494252439965312247107381262458076239655940392449901947827084874219520.00 "
       ]
      },
      {
       "output_type": "stream",
       "stream": "stdout",
       "text": [
        "\n",
        "PPL score is 130245732158480258328994986703567864259722408589919508759999663792551684870260444593532252303356273714795495061275726256969135470502908270565536645558138606177328918495412869189302820806890054746112.00 "
       ]
      },
      {
       "output_type": "stream",
       "stream": "stdout",
       "text": [
        "\n",
        "PPL score is 459504467498058226821605002753781304280473598164026771349269359158984821134330171470841758139289494195038206787287462707200.00 "
       ]
      },
      {
       "output_type": "stream",
       "stream": "stdout",
       "text": [
        "\n",
        "PPL score is 329396820568182953475350753229815383967307311718415696055353791466007867424768.00 "
       ]
      },
      {
       "output_type": "stream",
       "stream": "stdout",
       "text": [
        "\n",
        "PPL score is 2394857811275349488165666274109510702703050752.00 "
       ]
      },
      {
       "output_type": "stream",
       "stream": "stdout",
       "text": [
        "\n",
        "PPL score is 12476873573864591536376774656.00 "
       ]
      },
      {
       "output_type": "stream",
       "stream": "stdout",
       "text": [
        "\n",
        "PPL score is 22962962692826321649664.00 "
       ]
      },
      {
       "output_type": "stream",
       "stream": "stdout",
       "text": [
        "\n",
        "PPL score is 18049009870894409728.00 "
       ]
      },
      {
       "output_type": "stream",
       "stream": "stdout",
       "text": [
        "\n"
       ]
      }
     ],
     "prompt_number": 30
    },
    {
     "cell_type": "code",
     "collapsed": false,
     "input": [
      "utils.plot_progress(np.log(errors), ylabel='log Perplexity')"
     ],
     "language": "python",
     "metadata": {},
     "outputs": [
      {
       "metadata": {},
       "output_type": "display_data",
       "png": "[encoded data removed]",
       "text": [
        "<matplotlib.figure.Figure at 0x10d2b4690>"
       ]
      }
     ],
     "prompt_number": 40
    },
    {
     "cell_type": "code",
     "collapsed": false,
     "input": [
      "encoder.sample_visible_from_hidden(3, [1, 1, 1])"
     ],
     "language": "python",
     "metadata": {},
     "outputs": [
      {
       "metadata": {},
       "output_type": "pyout",
       "prompt_number": 27,
       "text": [
        "array([ 2.,  0.,  1.], dtype=float32)"
       ]
      }
     ],
     "prompt_number": 27
    },
    {
     "cell_type": "code",
     "collapsed": false,
     "input": [
      "import batch_data"
     ],
     "language": "python",
     "metadata": {},
     "outputs": [],
     "prompt_number": 31
    },
    {
     "cell_type": "code",
     "collapsed": false,
     "input": [
      "batch_data.BatchData()"
     ],
     "language": "python",
     "metadata": {},
     "outputs": []
    }
   ],
   "metadata": {}
  }
 ]
}